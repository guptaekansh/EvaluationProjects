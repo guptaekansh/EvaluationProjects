{
 "cells": [
  {
   "cell_type": "code",
   "execution_count": 1116,
   "metadata": {},
   "outputs": [],
   "source": [
    "#importing libraries\n",
    "import pandas as pd\n",
    "import numpy as np\n",
    "import matplotlib.pyplot as plt\n",
    "%matplotlib inline\n",
    "import warnings\n",
    "warnings.filterwarnings('ignore')"
   ]
  },
  {
   "cell_type": "markdown",
   "metadata": {},
   "source": [
    "### Loading Data"
   ]
  },
  {
   "cell_type": "code",
   "execution_count": 1117,
   "metadata": {},
   "outputs": [],
   "source": [
    "Rest_data=pd.read_excel('Data_Train.xlsx')"
   ]
  },
  {
   "cell_type": "code",
   "execution_count": 1118,
   "metadata": {},
   "outputs": [],
   "source": [
    "Rest_data_test=pd.read_excel('Data_Test.xlsx')"
   ]
  },
  {
   "cell_type": "markdown",
   "metadata": {},
   "source": [
    "### EDA"
   ]
  },
  {
   "cell_type": "code",
   "execution_count": 1119,
   "metadata": {},
   "outputs": [
    {
     "data": {
      "text/html": [
       "<div>\n",
       "<style scoped>\n",
       "    .dataframe tbody tr th:only-of-type {\n",
       "        vertical-align: middle;\n",
       "    }\n",
       "\n",
       "    .dataframe tbody tr th {\n",
       "        vertical-align: top;\n",
       "    }\n",
       "\n",
       "    .dataframe thead th {\n",
       "        text-align: right;\n",
       "    }\n",
       "</style>\n",
       "<table border=\"1\" class=\"dataframe\">\n",
       "  <thead>\n",
       "    <tr style=\"text-align: right;\">\n",
       "      <th></th>\n",
       "      <th>TITLE</th>\n",
       "      <th>RESTAURANT_ID</th>\n",
       "      <th>CUISINES</th>\n",
       "      <th>TIME</th>\n",
       "      <th>CITY</th>\n",
       "      <th>LOCALITY</th>\n",
       "      <th>RATING</th>\n",
       "      <th>VOTES</th>\n",
       "      <th>COST</th>\n",
       "    </tr>\n",
       "  </thead>\n",
       "  <tbody>\n",
       "    <tr>\n",
       "      <th>12685</th>\n",
       "      <td>QUICK BITES</td>\n",
       "      <td>13228</td>\n",
       "      <td>North Indian, Burger, Kebab</td>\n",
       "      <td>12noon – 12midnight (Mon, Tue, Wed, Thu, Sun)...</td>\n",
       "      <td>Hyderabad</td>\n",
       "      <td>Gachibowli</td>\n",
       "      <td>3.8</td>\n",
       "      <td>546 votes</td>\n",
       "      <td>500</td>\n",
       "    </tr>\n",
       "    <tr>\n",
       "      <th>12686</th>\n",
       "      <td>CASUAL DINING,BAR</td>\n",
       "      <td>9686</td>\n",
       "      <td>Goan, Continental</td>\n",
       "      <td>12noon – 1am (Mon-Fri),11am – 5pm, 7pm – 1am...</td>\n",
       "      <td>Mumbai</td>\n",
       "      <td>Bandra Kurla Complex</td>\n",
       "      <td>4.3</td>\n",
       "      <td>1214 votes</td>\n",
       "      <td>1800</td>\n",
       "    </tr>\n",
       "    <tr>\n",
       "      <th>12687</th>\n",
       "      <td>LOUNGE</td>\n",
       "      <td>11133</td>\n",
       "      <td>Finger Food, Continental, Asian, Chinese</td>\n",
       "      <td>12noon – 12:30AM (Mon-Sun)</td>\n",
       "      <td>Navi Mumbai</td>\n",
       "      <td>Vashi</td>\n",
       "      <td>4.0</td>\n",
       "      <td>608 votes</td>\n",
       "      <td>1300</td>\n",
       "    </tr>\n",
       "    <tr>\n",
       "      <th>12688</th>\n",
       "      <td>CASUAL DINING</td>\n",
       "      <td>6134</td>\n",
       "      <td>North Indian, South Indian, Chinese, Street Food</td>\n",
       "      <td>6am – 10:45pm (Mon-Sun)</td>\n",
       "      <td>Chennai</td>\n",
       "      <td>Maduravoyal</td>\n",
       "      <td>3.5</td>\n",
       "      <td>32 votes</td>\n",
       "      <td>400</td>\n",
       "    </tr>\n",
       "    <tr>\n",
       "      <th>12689</th>\n",
       "      <td>CASUAL DINING</td>\n",
       "      <td>6430</td>\n",
       "      <td>North Indian, Chinese</td>\n",
       "      <td>12:30pm – 11pm (Mon-Sun)</td>\n",
       "      <td>Hyderabad</td>\n",
       "      <td>Vanasthalipuram</td>\n",
       "      <td>3.4</td>\n",
       "      <td>677 votes</td>\n",
       "      <td>600</td>\n",
       "    </tr>\n",
       "  </tbody>\n",
       "</table>\n",
       "</div>"
      ],
      "text/plain": [
       "                   TITLE  RESTAURANT_ID  \\\n",
       "12685        QUICK BITES          13228   \n",
       "12686  CASUAL DINING,BAR           9686   \n",
       "12687             LOUNGE          11133   \n",
       "12688      CASUAL DINING           6134   \n",
       "12689      CASUAL DINING           6430   \n",
       "\n",
       "                                               CUISINES  \\\n",
       "12685                       North Indian, Burger, Kebab   \n",
       "12686                                 Goan, Continental   \n",
       "12687          Finger Food, Continental, Asian, Chinese   \n",
       "12688  North Indian, South Indian, Chinese, Street Food   \n",
       "12689                             North Indian, Chinese   \n",
       "\n",
       "                                                   TIME         CITY  \\\n",
       "12685  12noon – 12midnight (Mon, Tue, Wed, Thu, Sun)...    Hyderabad   \n",
       "12686   12noon – 1am (Mon-Fri),11am – 5pm, 7pm – 1am...       Mumbai   \n",
       "12687                        12noon – 12:30AM (Mon-Sun)  Navi Mumbai   \n",
       "12688                           6am – 10:45pm (Mon-Sun)      Chennai   \n",
       "12689                          12:30pm – 11pm (Mon-Sun)    Hyderabad   \n",
       "\n",
       "                   LOCALITY RATING       VOTES  COST  \n",
       "12685            Gachibowli    3.8   546 votes   500  \n",
       "12686  Bandra Kurla Complex    4.3  1214 votes  1800  \n",
       "12687                 Vashi    4.0   608 votes  1300  \n",
       "12688           Maduravoyal    3.5    32 votes   400  \n",
       "12689       Vanasthalipuram    3.4   677 votes   600  "
      ]
     },
     "execution_count": 1119,
     "metadata": {},
     "output_type": "execute_result"
    }
   ],
   "source": [
    "Rest_data.tail()"
   ]
  },
  {
   "cell_type": "code",
   "execution_count": 1120,
   "metadata": {},
   "outputs": [
    {
     "data": {
      "text/plain": [
       "(12690, 9)"
      ]
     },
     "execution_count": 1120,
     "metadata": {},
     "output_type": "execute_result"
    }
   ],
   "source": [
    "Rest_data.shape"
   ]
  },
  {
   "cell_type": "code",
   "execution_count": 1121,
   "metadata": {},
   "outputs": [
    {
     "data": {
      "text/plain": [
       "(4231, 8)"
      ]
     },
     "execution_count": 1121,
     "metadata": {},
     "output_type": "execute_result"
    }
   ],
   "source": [
    "Rest_data_test.shape"
   ]
  },
  {
   "cell_type": "code",
   "execution_count": 1122,
   "metadata": {},
   "outputs": [
    {
     "data": {
      "text/plain": [
       "array([ 1200,  1500,   800,   300,   600,  1600,   200,   900,   400,\n",
       "        1400,   350,   500,   450,   700,  1000,   250,  2000,  1100,\n",
       "         100,   850,  2500,  1800,   150,   650,  3500,   750,   950,\n",
       "        1300,   180,  2100,   550,    50,  1900,  1750,  1350,    60,\n",
       "        2200,  5000,    80,  3300,  3800,  1450,  4000,  2800,   120,\n",
       "        4500,  2400,  1700,  3000,  2600,  5200, 14000,  1550,  4200,\n",
       "        3700,  1150,  2700,   130,  8000,  3200,  5500,  6500,  1050,\n",
       "       10000,  3600,   313,  3400,  2300,  3100,  1250,    20,  1650,\n",
       "        1850,  6000,   140,  4100,  4050,  2900,   599,  7000,   299,\n",
       "         370,  1950,   320,  1260,    70], dtype=int64)"
      ]
     },
     "execution_count": 1122,
     "metadata": {},
     "output_type": "execute_result"
    }
   ],
   "source": [
    "Rest_data['COST'].unique()"
   ]
  },
  {
   "cell_type": "code",
   "execution_count": 1123,
   "metadata": {},
   "outputs": [],
   "source": [
    "Rest_data_test['COST']=1"
   ]
  },
  {
   "cell_type": "code",
   "execution_count": 1124,
   "metadata": {},
   "outputs": [
    {
     "data": {
      "text/html": [
       "<div>\n",
       "<style scoped>\n",
       "    .dataframe tbody tr th:only-of-type {\n",
       "        vertical-align: middle;\n",
       "    }\n",
       "\n",
       "    .dataframe tbody tr th {\n",
       "        vertical-align: top;\n",
       "    }\n",
       "\n",
       "    .dataframe thead th {\n",
       "        text-align: right;\n",
       "    }\n",
       "</style>\n",
       "<table border=\"1\" class=\"dataframe\">\n",
       "  <thead>\n",
       "    <tr style=\"text-align: right;\">\n",
       "      <th></th>\n",
       "      <th>TITLE</th>\n",
       "      <th>RESTAURANT_ID</th>\n",
       "      <th>CUISINES</th>\n",
       "      <th>TIME</th>\n",
       "      <th>CITY</th>\n",
       "      <th>LOCALITY</th>\n",
       "      <th>RATING</th>\n",
       "      <th>VOTES</th>\n",
       "      <th>COST</th>\n",
       "    </tr>\n",
       "  </thead>\n",
       "  <tbody>\n",
       "    <tr>\n",
       "      <th>0</th>\n",
       "      <td>CASUAL DINING</td>\n",
       "      <td>4085</td>\n",
       "      <td>North Indian, Chinese, Mughlai, Kebab</td>\n",
       "      <td>12noon – 12midnight (Mon-Sun)</td>\n",
       "      <td>Noida</td>\n",
       "      <td>Sector 18</td>\n",
       "      <td>4.3</td>\n",
       "      <td>564 votes</td>\n",
       "      <td>1</td>\n",
       "    </tr>\n",
       "    <tr>\n",
       "      <th>1</th>\n",
       "      <td>QUICK BITES</td>\n",
       "      <td>12680</td>\n",
       "      <td>South Indian, Fast Food, Pizza, North Indian</td>\n",
       "      <td>7am – 12:30AM (Mon-Sun)</td>\n",
       "      <td>Mumbai</td>\n",
       "      <td>Grant Road</td>\n",
       "      <td>4.2</td>\n",
       "      <td>61 votes</td>\n",
       "      <td>1</td>\n",
       "    </tr>\n",
       "    <tr>\n",
       "      <th>2</th>\n",
       "      <td>CASUAL DINING</td>\n",
       "      <td>1411</td>\n",
       "      <td>North Indian, Seafood, Biryani, Chinese</td>\n",
       "      <td>11am – 11:30pm (Mon-Sun)</td>\n",
       "      <td>Mumbai</td>\n",
       "      <td>Marine Lines</td>\n",
       "      <td>3.8</td>\n",
       "      <td>350 votes</td>\n",
       "      <td>1</td>\n",
       "    </tr>\n",
       "    <tr>\n",
       "      <th>3</th>\n",
       "      <td>None</td>\n",
       "      <td>204</td>\n",
       "      <td>Biryani</td>\n",
       "      <td>9am – 10pm (Mon, Wed, Thu, Fri, Sat, Sun), 10:...</td>\n",
       "      <td>Faridabad</td>\n",
       "      <td>NIT</td>\n",
       "      <td>3.8</td>\n",
       "      <td>1445 votes</td>\n",
       "      <td>1</td>\n",
       "    </tr>\n",
       "    <tr>\n",
       "      <th>4</th>\n",
       "      <td>QUICK BITES</td>\n",
       "      <td>13453</td>\n",
       "      <td>South Indian, Kerala</td>\n",
       "      <td>11am – 10pm (Mon-Sun)</td>\n",
       "      <td>Kochi</td>\n",
       "      <td>Kaloor</td>\n",
       "      <td>3.6</td>\n",
       "      <td>23 votes</td>\n",
       "      <td>1</td>\n",
       "    </tr>\n",
       "  </tbody>\n",
       "</table>\n",
       "</div>"
      ],
      "text/plain": [
       "           TITLE  RESTAURANT_ID                                      CUISINES  \\\n",
       "0  CASUAL DINING           4085         North Indian, Chinese, Mughlai, Kebab   \n",
       "1    QUICK BITES          12680  South Indian, Fast Food, Pizza, North Indian   \n",
       "2  CASUAL DINING           1411       North Indian, Seafood, Biryani, Chinese   \n",
       "3           None            204                                       Biryani   \n",
       "4    QUICK BITES          13453                          South Indian, Kerala   \n",
       "\n",
       "                                                TIME       CITY      LOCALITY  \\\n",
       "0                      12noon – 12midnight (Mon-Sun)      Noida     Sector 18   \n",
       "1                            7am – 12:30AM (Mon-Sun)     Mumbai    Grant Road   \n",
       "2                           11am – 11:30pm (Mon-Sun)     Mumbai  Marine Lines   \n",
       "3  9am – 10pm (Mon, Wed, Thu, Fri, Sat, Sun), 10:...  Faridabad           NIT   \n",
       "4                              11am – 10pm (Mon-Sun)      Kochi        Kaloor   \n",
       "\n",
       "  RATING       VOTES  COST  \n",
       "0    4.3   564 votes     1  \n",
       "1    4.2    61 votes     1  \n",
       "2    3.8   350 votes     1  \n",
       "3    3.8  1445 votes     1  \n",
       "4    3.6    23 votes     1  "
      ]
     },
     "execution_count": 1124,
     "metadata": {},
     "output_type": "execute_result"
    }
   ],
   "source": [
    "Rest_data_test.head()"
   ]
  },
  {
   "cell_type": "markdown",
   "metadata": {},
   "source": [
    "Here we are merging both Train and Test data. At the time of model preparation we will separate train data from merged Dataset"
   ]
  },
  {
   "cell_type": "code",
   "execution_count": 1125,
   "metadata": {},
   "outputs": [],
   "source": [
    "rest_data=pd.concat([Rest_data,Rest_data_test])"
   ]
  },
  {
   "cell_type": "code",
   "execution_count": 1126,
   "metadata": {},
   "outputs": [
    {
     "data": {
      "text/plain": [
       "(16921, 9)"
      ]
     },
     "execution_count": 1126,
     "metadata": {},
     "output_type": "execute_result"
    }
   ],
   "source": [
    "rest_data.shape"
   ]
  },
  {
   "cell_type": "markdown",
   "metadata": {},
   "source": [
    "12690 train rows + 4231 test rows"
   ]
  },
  {
   "cell_type": "code",
   "execution_count": 1127,
   "metadata": {},
   "outputs": [
    {
     "name": "stdout",
     "output_type": "stream",
     "text": [
      "<class 'pandas.core.frame.DataFrame'>\n",
      "RangeIndex: 12690 entries, 0 to 12689\n",
      "Data columns (total 9 columns):\n",
      " #   Column         Non-Null Count  Dtype \n",
      "---  ------         --------------  ----- \n",
      " 0   TITLE          12690 non-null  object\n",
      " 1   RESTAURANT_ID  12690 non-null  int64 \n",
      " 2   CUISINES       12690 non-null  object\n",
      " 3   TIME           12690 non-null  object\n",
      " 4   CITY           12578 non-null  object\n",
      " 5   LOCALITY       12592 non-null  object\n",
      " 6   RATING         12688 non-null  object\n",
      " 7   VOTES          11486 non-null  object\n",
      " 8   COST           12690 non-null  int64 \n",
      "dtypes: int64(2), object(7)\n",
      "memory usage: 892.4+ KB\n"
     ]
    }
   ],
   "source": [
    "Rest_data.info()"
   ]
  },
  {
   "cell_type": "markdown",
   "metadata": {},
   "source": [
    "Obs: Dataset has 8 attributes , COST and Restaurant_id is int type and rest all are object type"
   ]
  },
  {
   "cell_type": "markdown",
   "metadata": {},
   "source": [
    "#### Checking for null values"
   ]
  },
  {
   "cell_type": "code",
   "execution_count": 1128,
   "metadata": {},
   "outputs": [
    {
     "data": {
      "text/plain": [
       "TITLE               0\n",
       "RESTAURANT_ID       0\n",
       "CUISINES            0\n",
       "TIME                0\n",
       "CITY              112\n",
       "LOCALITY           98\n",
       "RATING              2\n",
       "VOTES            1204\n",
       "COST                0\n",
       "dtype: int64"
      ]
     },
     "execution_count": 1128,
     "metadata": {},
     "output_type": "execute_result"
    }
   ],
   "source": [
    "Rest_data.isna().sum()"
   ]
  },
  {
   "cell_type": "markdown",
   "metadata": {},
   "source": [
    "Obs: CITY, LOCALITY,RATING and VOTES have null values"
   ]
  },
  {
   "cell_type": "markdown",
   "metadata": {},
   "source": [
    "##  Data Preprocessing"
   ]
  },
  {
   "cell_type": "code",
   "execution_count": 1129,
   "metadata": {},
   "outputs": [
    {
     "name": "stdout",
     "output_type": "stream",
     "text": [
      "\n",
      " ['Thane' 'Chennai' 'Mumbai' 'Bangalore' 'Gurgaon' 'Hyderabad' 'Kochi'\n",
      " 'Thane West' 'Andheri Lokhandwala' 'New Delhi' 'Andheri West'\n",
      " 'Malad East' '682036' 'Bangalor' 'Navi Mumbai' 'Bandra West' 'Delhi'\n",
      " 'Noida' 'Bangalore-560066' 'Secunderabad' nan 'India' 'Madhuranagar'\n",
      " 'Chennai Teynampet' 'Faridabad' 'Chembur.' 'Maharashtra'\n",
      " 'opp gurudwara Shakurpur' 'Telagana Land Line:040-48507016' 'Ghaziabad'\n",
      " 'Karnataka' 'Kerala' 'Edappally' 'Kadavanthra' 'Ernakulam Circle kochi'\n",
      " 'Bengalore' 'Near Reliance Fresh' 'Kilpauk' 'Bengaluru' 'Kothaguda'\n",
      " 'Goregaon West' 'Banglore' 'Tamil Nadu' 'Kakkanad' 'Kochi Elamkulam'\n",
      " 'Outer Ring Road' 'Mulund East'\n",
      " 'Secunderabad main road near signal NMREC COLLEGE' 'Telangana'\n",
      " 'Ponnuruni Kochi' 'Gachibowli' 'Semmancheri'\n",
      " '5th Main Teachers Colony Koramangala Block 1 Bangalore 560034'\n",
      " 'Mumbai Mahim' 'Powai (Next to Powai Plaza)' 'Dombivali East'\n",
      " 'Kochi Vyttila' 'Kandivali' 'Kochi Palarivattom' 'Dewan Rama Road'\n",
      " 'Gurugram' 'Sector 51 Noida' 'Kaloor' 'Besant Nagar'\n",
      " 'Arumbakkam chennai-600106.' 'Adjacent To Commercial Street' 'Delhi NCR'\n",
      " 'Dwarka' '682035.' 'Kalyan West' 'Avadi' 'Kondapur' 'Mehdipatnam'\n",
      " 'Gandipet' 'Velachery' 'Pallavaram' 'Vijaya Nagar' 'BTM Layout'\n",
      " 'Chennai 600034.'\n",
      " 'Metro Pillar No 21. Mettuguda main road near railway degree college.'\n",
      " 'Chennai - 600040' 'JP Nagar Bangalore' 'Madhapur' 'Ernakulam' 'Sarjapur'\n",
      " 'Whitefield Bangalore' 'Kochi Chullickal' 'Kochi-683101'\n",
      " 'Bangalore - 560076' 'Rohini' 'Hyderabad Behind Vacs Pastries'\n",
      " 'Hyderabad neerus emporium.' 'Navi Mumbai.' 'Karol Bagh' 'Perungudi'\n",
      " 'Thykoodam' 'Greater Noida' 'Bangalore.' 'Khairatabad' 'chullickal'\n",
      " 'Grant Road West' 'Hitech City' 'West Maredpally' 'Mumbai - 400007'\n",
      " 'Chennai Padur' 'Chander Nagar New Delhi' 'Nedumbassery' 'MG Road'\n",
      " 'Naya Nagar Mira Road' 'Pitampura' 'Lower Parel' 'HBR Layout'\n",
      " 'Telangana 500003' 'Rajiv gandhi Nagar' 'New Delhi.' 'Medavakkam'\n",
      " 'Sathya Nagar' 'p.o Kochi' 'Behind Ramalayam Temple' 'Palarivattom'\n",
      " 'Brigade Road' 'Mumbai.' 'Mumbai Andheri East' 'Virar West' 'B-1 Stage'\n",
      " 'Chennai Kovalam' 'Hyderabad.' 'Aluva' 'Telangana 500034'\n",
      " 'IOB Bank Kamala Nagar' 'HSR Layout' 'Marine Drive' 'DLF Galleria'\n",
      " 'Nallathambi Main Road' 'Chennai opp: Vasanth & co' 'Citypark'\n",
      " 'Karnataka 560103' 'Bhayandar' 'Aluva Circle' 'Thammenahalli Village'\n",
      " 'SG Palya' 'Attapur.' 'Near Shangrilla Bus Stop' 'Khar (west)' 'Road 3'\n",
      " 'Kukatpally' 'Faridabd' 'Telangana 500032' 'Dilsukhnagar'\n",
      " 'Mogappair. Chennai' 'Near Munrshwara Temple' 'Off Brigade Road'\n",
      " 'khar west' 'Potheri' 'Chennai Perungudi' 'Chennai Thuraipakkam'\n",
      " 'OMR Karapakkam' 'Hyderabad-500032' 'Mumbai Dombivali East'\n",
      " 'Chennai Thousand Lights' 'Mahim' 'Lingampally' 'Powai'\n",
      " 'New Delhi-110024' 'Chennai- 600107' 'Kerala 683104' 'Vasai West.'\n",
      " 'Thane (W)' 'Near Santosh Banjara Hyderabad'\n",
      " 'Banaswadi (Next to Indian Bank) Bangalore' 'BTM Bangalore'\n",
      " 'Greater Kailash 2 New Delhi' 'Secunderabad ECIL'\n",
      " 'Bangalore Koramangala 7th Block' 'bangalore : 560085' 'navi mumbai'\n",
      " 'Gachibowli Hyderabad'\n",
      " 'CPR layout harlur main road opposite to ozone ever green apartment Bangalore -'\n",
      " 'ECR NEELANKARAI Chennai 600115' 'ward X11' 'kochi' 'Perumbavoor'\n",
      " 'Mira raod east' 'Kerala 682013' 'Chennai.' 'Pokhran Road 2'\n",
      " 'Uttar Pradesh' 'Karnataka 560102' 'Mumbai - 400013' 'Naharpar'\n",
      " 'Hosur Road' 'Near Bharat Petroleum.'\n",
      " 'Chennai (Bang Opposite Indian Bank)' 'Sriram nagar' 'West Mumbai'\n",
      " 'Vyttila' 'Banjara Hills' 'MALAPALLIPURAM P .O THRISSUR'\n",
      " 'Andheri west Mumbai' 'Karnataka 560043' 'Panampilly Nagar' 'hyderabad'\n",
      " 'Borivali East.' 'ECIL' 'Jubilee Hills'\n",
      " 'Amrit kaur market opposite new delhi railway station paharganj'\n",
      " 'Chennai Opposite 5C Bus stand' 'Telengana' 'Kochi Ravipuram' 'Rajanpada'\n",
      " 'Mahabalipuram' 'Secunderabad. WE HAVE NO BRANCHES.' 'Telangana 500081'\n",
      " 'Gurgoan' 'Elamakkara' 'Sector 1' 'Bandra W' 'Kolathur'\n",
      " 'Chennai Mahabalipuram' '3rd Street' 'Mumbai Chakala' 'Borivali West'\n",
      " 'Rodeo Drive Sector 49' 'Pallimukku' 'Delhi 110085' 'Sector 51'\n",
      " 'Champapet' 'Andavar Nagar' 'Bangalore - 560103' 'Kerala 690525'\n",
      " 'opp mukteshwar ashram powai' 'Nungambakkam' 'BK Guda'\n",
      " 'Jogeshwari (w) Mumbai' 'Kukatapally' 'Near Sector 110 Noida' 'Navallur'\n",
      " 'Beside Excellency Gardens' 'Mumbai - 80' 'Begumpet'\n",
      " 'Maharaja Hotel Beside Gardania Bar' 'Ashok Vihar Phase 1' 'Trivandrum'\n",
      " 'Kochi-18' 'Narayanguda' 'Thevera' 'Chennai-40' 'Palm Beach Road'\n",
      " 'East Coast Road (ECR)' 'Ramapuram' 'Chennai Chrompet' 'Nandanam' 'Saket'\n",
      " 'MG Road Ernakulam' 'Andheri Lokhandwala.' 'Indiranagar' 'Thiruvanmiyur'\n",
      " 'Ambattur' 'Banglaore' 'Chennai - 34 Landmark - Near Loyola College'\n",
      " 'Anna Nagar West' 'Old Railway Road' 'East Mumbai'\n",
      " 'Kanakapura Road Banglore' 'Kochi Kakkanad' 'Kalyan'\n",
      " 'Near Ramlila Ground' 'Serilingampally' 'Himayath Nagar' 'Nallala Street'\n",
      " 'Anna Salai' 'Old Delhi' 'Wagle Estate' '1st Stage' 'Kochi-16'\n",
      " 'Kochi International Airport VIP Road' 'First Street' 'Chenn ai'\n",
      " '6 & 7 - 4/64 Subhash Nagar' '1st Tavarekere' 'Perambur'\n",
      " 'Vaishali Ghaziabad' 'Thanisandra' 'Block F' 'Sector 7 Dwarka'\n",
      " 'Opposite Barathi Gas Company' 'Vadapalani' 'Kondapur.' 'Badlapur West.'\n",
      " 'Kalamassery' 'Palavakkam' 'TCS Synergy park' 'BTM 1st Stage'\n",
      " 'Mahadevpura' 'NEW BEL ROAD 560054'\n",
      " 'Veliaveetil house Vivekananda Nagar Elamakkara' 'Sholinganallur'\n",
      " 'Maharashtra 400102' 'Lower Parel West' 'Tripunithura' 'Mogappair'\n",
      " 'Telangana 500070' 'JP Nagar' 'Navi-Mumbai' 'Ashok Nagar' 'Marathahalli'\n",
      " 'Haridwar Apartments' 'Kerala 682001 India' 'Karnataka 560037'\n",
      " 'Kerala 683585' 'Chennai. (Near Hotel Matshya)' 'Indirapuram'\n",
      " 'Begumpet Hyderabad' 'Manikonda'\n",
      " 'Bangalore land mark above mahaveer hard ware' 'Kerala 682304'\n",
      " 'Rajarajeshwari Nagar bangalore' 'GST Road' 'Fort Kochi'\n",
      " 'Lahari Apartments' 'Ramanthapur' 'Mulund west' 'Gurgaon Haryana India'\n",
      " 'New Delhi..Near by SBI bank' 'Kochi Aluva 102' 'Phase 1 Bangalore'\n",
      " 'Hyderabad Manikonda'\n",
      " 'Mumbai This is a Delivery & Take-away Restaurant only.' '10th avenue'\n",
      " 'Uppal' 'New Delhi 110075' 'Nizampet' 'Ulsoo' 'Bangalore 560076'\n",
      " 'PVR plaza cinema building Connaught Place' 'Gurgaon Haryana' 'Chromepet'\n",
      " 'Kerala 682024' 'Janakpuri' 'Secunderabad.' 'chennai'\n",
      " 'B.B.M.P East (Karnataka) - 560049' 'Tambaram' 'Malleshwaram Bangalore'\n",
      " 'Vadapalani.' 'Dist. Center New Delhi' 'Bangalore Road' 'aluva circle'\n",
      " 'Kochi.' 'Thane Mumbai' 'Kadubesanahalli Bangalore' 'Vasai west'\n",
      " 'Mig Housing Society' 'Haryana' 'Borivali West.' 'Golf Course Road'\n",
      " 'Khar Mumbai' 'Near Jyothinivas College' 'Anna Nagar East' 'Masab Tank']\n",
      "\n",
      " ['3.6' '4.2' '3.8' '4.1' '4.0' '4.3' '3.9' '3.3' '3.4' '-' '4.5' '3.5'\n",
      " '4.4' '2.7' '3.7' '4.7' 'NEW' '3.1' '2.5' '4.6' '2.8' nan '3.0' '3.2'\n",
      " '2.6' '2.9' '4.9' '4.8' '2.4' '2.3' '2.0' '2.1' '2.2']\n",
      "\n",
      " ['Dombivali East' 'Ramapuram' 'Saligramam' ... 'Market Road'\n",
      " 'Near Perambur' 'Near Malviya Nagar']\n",
      "\n",
      " ['49 votes' '30 votes' '221 votes' ... '2723 votes' '1426 votes'\n",
      " '1214 votes']\n"
     ]
    }
   ],
   "source": [
    "#checking unique values\n",
    "for i in ['CITY','RATING','LOCALITY','VOTES']:\n",
    "    print('\\n',Rest_data[i].unique())\n",
    "#creating a copy of original train dataset for data analysis\n",
    "#rest_data=Rest_data.copy()"
   ]
  },
  {
   "cell_type": "markdown",
   "metadata": {},
   "source": [
    "#### Dealing with null values"
   ]
  },
  {
   "cell_type": "code",
   "execution_count": 1130,
   "metadata": {},
   "outputs": [],
   "source": [
    "#### filling null cities with 'CITYNA'\n",
    "rest_data['CITY'].fillna('CITY_NA',inplace=True)\n",
    "\n",
    "#### filling null Locality with 'LOCALITYNA'\n",
    "rest_data['LOCALITY'].fillna('LOCALITY_NA',inplace=True)\n",
    "\n",
    "#### DEALING WITH RATING\n",
    "##   First converting all irrelevant values to '0' and then converting to float\n",
    "rest_data['RATING'].replace('NEW','0',inplace=True)\n",
    "rest_data['RATING'].replace('-','0',inplace=True)\n",
    "rest_data['RATING'].fillna('0',inplace=True)\n",
    "rest_data['RATING']=rest_data['RATING'].astype(float)\n",
    "rest_data['RATING'].replace('0',rest_data['RATING'].mean(),inplace=True)\n",
    "\n",
    "##### DEALING WITH VOTES:\n",
    "##    First replacing string 'votes' in VOTES with ''\n",
    "rest_data['VOTES'].replace(regex=['votes'],value=\"\",inplace=True)\n",
    "##    filling null values with '0'\n",
    "rest_data['VOTES'].fillna('0',inplace=True)\n",
    "##    Removing leading and tailing spaces\n",
    "rest_data['VOTES']=rest_data['VOTES'].str.strip()\n",
    "##    converting votes to float\n",
    "rest_data['VOTES']=rest_data['VOTES'].astype('int')\n",
    "##    replacing '0' with mean value\n",
    "rest_data['VOTES'].replace(0,rest_data['VOTES'].mean(),inplace=True)\n",
    "rest_data['VOTES']=rest_data['VOTES'].astype('int')"
   ]
  },
  {
   "cell_type": "code",
   "execution_count": 1131,
   "metadata": {},
   "outputs": [
    {
     "data": {
      "text/plain": [
       "TITLE            0\n",
       "RESTAURANT_ID    0\n",
       "CUISINES         0\n",
       "TIME             0\n",
       "CITY             0\n",
       "LOCALITY         0\n",
       "RATING           0\n",
       "VOTES            0\n",
       "COST             0\n",
       "dtype: int64"
      ]
     },
     "execution_count": 1131,
     "metadata": {},
     "output_type": "execute_result"
    }
   ],
   "source": [
    "rest_data.isna().sum()"
   ]
  },
  {
   "cell_type": "markdown",
   "metadata": {},
   "source": [
    "Null value removed from dataset"
   ]
  },
  {
   "cell_type": "code",
   "execution_count": 1132,
   "metadata": {},
   "outputs": [
    {
     "name": "stdout",
     "output_type": "stream",
     "text": [
      "<class 'pandas.core.frame.DataFrame'>\n",
      "Int64Index: 16921 entries, 0 to 4230\n",
      "Data columns (total 9 columns):\n",
      " #   Column         Non-Null Count  Dtype  \n",
      "---  ------         --------------  -----  \n",
      " 0   TITLE          16921 non-null  object \n",
      " 1   RESTAURANT_ID  16921 non-null  int64  \n",
      " 2   CUISINES       16921 non-null  object \n",
      " 3   TIME           16921 non-null  object \n",
      " 4   CITY           16921 non-null  object \n",
      " 5   LOCALITY       16921 non-null  object \n",
      " 6   RATING         16921 non-null  float64\n",
      " 7   VOTES          16921 non-null  int32  \n",
      " 8   COST           16921 non-null  int64  \n",
      "dtypes: float64(1), int32(1), int64(2), object(5)\n",
      "memory usage: 1.2+ MB\n"
     ]
    }
   ],
   "source": [
    "rest_data.info()"
   ]
  },
  {
   "cell_type": "code",
   "execution_count": 1133,
   "metadata": {},
   "outputs": [],
   "source": [
    "#### Convrting all string columns to upper case just to ensure that we each value of a attribute in the same case everywhere\n",
    "for i in rest_data.columns:\n",
    "    if(rest_data.dtypes[i]=='O'):\n",
    "        rest_data[i]=rest_data[i].str.upper()"
   ]
  },
  {
   "cell_type": "markdown",
   "metadata": {},
   "source": [
    "### Feature engineering"
   ]
  },
  {
   "cell_type": "code",
   "execution_count": 1134,
   "metadata": {},
   "outputs": [
    {
     "name": "stdout",
     "output_type": "stream",
     "text": [
      "TITLE  has maximum  2  strings\n",
      "CUISINES  has maximum  8  strings\n",
      "CITY  has maximum  1  strings\n",
      "LOCALITY  has maximum  1  strings\n"
     ]
    }
   ],
   "source": [
    "### finding maximum number of strings in TITLE separated by ',' in TITLE, CUISINES and LOCALITY\n",
    "for k in ['TITLE','CUISINES','CITY','LOCALITY']:\n",
    "    \n",
    "    l=0\n",
    "    for i in (rest_data[k].to_list()):\n",
    "        le=len(i.split(','))\n",
    "        if(le > l):\n",
    "            l=le\n",
    "    print(k,' has maximum ',l,' strings')"
   ]
  },
  {
   "cell_type": "code",
   "execution_count": 1135,
   "metadata": {},
   "outputs": [],
   "source": [
    "rest_data_=rest_data.copy()"
   ]
  },
  {
   "cell_type": "markdown",
   "metadata": {},
   "source": [
    "#### Working on 'TITLE'"
   ]
  },
  {
   "cell_type": "code",
   "execution_count": 1136,
   "metadata": {},
   "outputs": [],
   "source": [
    "##### Dividing \"TITLE\" into 2 parts separated by ',' and making separate columns for each part\n",
    "rest_data_['TITLE']=rest_data_['TITLE'].str.split(',')\n",
    "rest_data_['TITLE_1']=rest_data_['TITLE'].str[0]\n",
    "rest_data_['TITLE_2']=rest_data_['TITLE'].str[1]\n",
    "rest_data_['TITLE_1'].fillna('NONE',inplace=True)\n",
    "rest_data_['TITLE_2'].fillna('NONE',inplace=True)\n",
    "rest_data_['TITLE_1']=rest_data_['TITLE_1'].str.strip()\n",
    "rest_data_['TITLE_2']=rest_data_['TITLE_2'].str.strip()"
   ]
  },
  {
   "cell_type": "markdown",
   "metadata": {},
   "source": [
    "#### Working on 'CUISINES'"
   ]
  },
  {
   "cell_type": "code",
   "execution_count": 1137,
   "metadata": {},
   "outputs": [],
   "source": [
    "##### Dividing \"CUISINES\" into 8 parts separated by ',' and making separate columns for each part\n",
    "rest_data_['CUISINES']=rest_data_['CUISINES'].str.split(',')\n",
    "for j,k in zip(range(8),['CUISINES_1','CUISINES_2','CUISINES_3','CUISINES_4','CUISINES_5','CUISINES_6','CUISINES_7','CUISINES_8']):\n",
    "    rest_data_[k]=rest_data_['CUISINES'].str[j]\n",
    "    rest_data_[k]=rest_data_[k].str.strip()\n",
    "    rest_data_[k].fillna('CUISINE_NA',inplace=True)"
   ]
  },
  {
   "cell_type": "markdown",
   "metadata": {},
   "source": [
    "#### Working on 'TIME'"
   ]
  },
  {
   "cell_type": "code",
   "execution_count": 1138,
   "metadata": {},
   "outputs": [],
   "source": [
    "#### We will only consider number of days the restaurant is open, in our analysis\n",
    "rest_data_['TIME']=rest_data_['TIME'].str.split('(').str[1]\n",
    "rest_data_['TIME']=rest_data_['TIME'].str.split(')').str[0]\n",
    "rest_data_['TIME']=rest_data_['TIME'].str.strip()\n",
    "rest_data_['TIME'].fillna('MON-SUN',inplace=True)\n",
    "Days=[]\n",
    "for i in rest_data_['TIME'].to_list():\n",
    "    if(len(i.split(','))>1):\n",
    "        Days.append(len(i.split(',')))\n",
    "    else:\n",
    "        if(i=='MON-SUN'):           \n",
    "            Days.append('7')\n",
    "        elif(i=='MON-SAT'):\n",
    "            Days.append('6')\n",
    "        elif(i=='MON-FRI'):\n",
    "            Days.append('5')\n",
    "        elif(i=='MON-THU'):\n",
    "            Days.append('4')\n",
    "        elif(i=='MON-WED'):\n",
    "            Days.append('3')\n",
    "        elif(i=='MON-TUE'):\n",
    "            Days.append('2')\n",
    "        else:\n",
    "            Days.append('1')\n",
    "rest_data_['Days']=Days\n",
    "rest_data_['Days']=rest_data_['Days'].astype('int')"
   ]
  },
  {
   "cell_type": "code",
   "execution_count": 1139,
   "metadata": {},
   "outputs": [
    {
     "data": {
      "text/plain": [
       "array([7, 6, 1, 5, 4, 2, 3])"
      ]
     },
     "execution_count": 1139,
     "metadata": {},
     "output_type": "execute_result"
    }
   ],
   "source": [
    "rest_data_['Days'].unique()"
   ]
  },
  {
   "cell_type": "code",
   "execution_count": 1140,
   "metadata": {},
   "outputs": [],
   "source": [
    "# dropping TITLE and CUSINES and TIME columns since we have already converted them:\n",
    "rest_data_.drop(['TITLE','CUISINES','TIME'],inplace=True,axis=1)"
   ]
  },
  {
   "cell_type": "code",
   "execution_count": 1141,
   "metadata": {},
   "outputs": [
    {
     "data": {
      "text/plain": [
       "<matplotlib.axes._subplots.AxesSubplot at 0x2d6888b2208>"
      ]
     },
     "execution_count": 1141,
     "metadata": {},
     "output_type": "execute_result"
    },
    {
     "data": {
      "image/png": "[encoded data removed]",
      "text/plain": [
       "<Figure size 432x288 with 2 Axes>"
      ]
     },
     "metadata": {
      "needs_background": "light"
     },
     "output_type": "display_data"
    }
   ],
   "source": [
    "### separating original training dataset for data analysis\n",
    "df_train=rest_data_.iloc[0:12689,:]\n",
    "import seaborn as sb\n",
    "sb.heatmap(df_train.corr(),annot=True)"
   ]
  },
  {
   "cell_type": "markdown",
   "metadata": {},
   "source": [
    "Obs: Rating and votes are positively correlated with COST"
   ]
  },
  {
   "cell_type": "code",
   "execution_count": 1142,
   "metadata": {},
   "outputs": [
    {
     "data": {
      "text/html": [
       "<div>\n",
       "<style scoped>\n",
       "    .dataframe tbody tr th:only-of-type {\n",
       "        vertical-align: middle;\n",
       "    }\n",
       "\n",
       "    .dataframe tbody tr th {\n",
       "        vertical-align: top;\n",
       "    }\n",
       "\n",
       "    .dataframe thead th {\n",
       "        text-align: right;\n",
       "    }\n",
       "</style>\n",
       "<table border=\"1\" class=\"dataframe\">\n",
       "  <thead>\n",
       "    <tr style=\"text-align: right;\">\n",
       "      <th></th>\n",
       "      <th>RESTAURANT_ID</th>\n",
       "      <th>RATING</th>\n",
       "      <th>VOTES</th>\n",
       "      <th>COST</th>\n",
       "      <th>Days</th>\n",
       "    </tr>\n",
       "  </thead>\n",
       "  <tbody>\n",
       "    <tr>\n",
       "      <th>count</th>\n",
       "      <td>12689.000000</td>\n",
       "      <td>12689.000000</td>\n",
       "      <td>12689.000000</td>\n",
       "      <td>12689.000000</td>\n",
       "      <td>12689.000000</td>\n",
       "    </tr>\n",
       "    <tr>\n",
       "      <th>mean</th>\n",
       "      <td>7759.238868</td>\n",
       "      <td>3.426298</td>\n",
       "      <td>412.168965</td>\n",
       "      <td>655.256600</td>\n",
       "      <td>6.591930</td>\n",
       "    </tr>\n",
       "    <tr>\n",
       "      <th>std</th>\n",
       "      <td>4505.036218</td>\n",
       "      <td>1.179845</td>\n",
       "      <td>801.845794</td>\n",
       "      <td>627.028056</td>\n",
       "      <td>1.255097</td>\n",
       "    </tr>\n",
       "    <tr>\n",
       "      <th>min</th>\n",
       "      <td>0.000000</td>\n",
       "      <td>0.000000</td>\n",
       "      <td>4.000000</td>\n",
       "      <td>20.000000</td>\n",
       "      <td>1.000000</td>\n",
       "    </tr>\n",
       "    <tr>\n",
       "      <th>25%</th>\n",
       "      <td>3863.000000</td>\n",
       "      <td>3.400000</td>\n",
       "      <td>64.000000</td>\n",
       "      <td>300.000000</td>\n",
       "      <td>7.000000</td>\n",
       "    </tr>\n",
       "    <tr>\n",
       "      <th>50%</th>\n",
       "      <td>7741.000000</td>\n",
       "      <td>3.800000</td>\n",
       "      <td>200.000000</td>\n",
       "      <td>500.000000</td>\n",
       "      <td>7.000000</td>\n",
       "    </tr>\n",
       "    <tr>\n",
       "      <th>75%</th>\n",
       "      <td>11689.000000</td>\n",
       "      <td>4.000000</td>\n",
       "      <td>405.000000</td>\n",
       "      <td>800.000000</td>\n",
       "      <td>7.000000</td>\n",
       "    </tr>\n",
       "    <tr>\n",
       "      <th>max</th>\n",
       "      <td>15573.000000</td>\n",
       "      <td>4.900000</td>\n",
       "      <td>41186.000000</td>\n",
       "      <td>14000.000000</td>\n",
       "      <td>7.000000</td>\n",
       "    </tr>\n",
       "  </tbody>\n",
       "</table>\n",
       "</div>"
      ],
      "text/plain": [
       "       RESTAURANT_ID        RATING         VOTES          COST          Days\n",
       "count   12689.000000  12689.000000  12689.000000  12689.000000  12689.000000\n",
       "mean     7759.238868      3.426298    412.168965    655.256600      6.591930\n",
       "std      4505.036218      1.179845    801.845794    627.028056      1.255097\n",
       "min         0.000000      0.000000      4.000000     20.000000      1.000000\n",
       "25%      3863.000000      3.400000     64.000000    300.000000      7.000000\n",
       "50%      7741.000000      3.800000    200.000000    500.000000      7.000000\n",
       "75%     11689.000000      4.000000    405.000000    800.000000      7.000000\n",
       "max     15573.000000      4.900000  41186.000000  14000.000000      7.000000"
      ]
     },
     "execution_count": 1142,
     "metadata": {},
     "output_type": "execute_result"
    }
   ],
   "source": [
    "df_train.describe()"
   ]
  },
  {
   "cell_type": "markdown",
   "metadata": {},
   "source": [
    "OBS: There are restaurants wit 0 Rating and maximum 4.9 Rating"
   ]
  },
  {
   "cell_type": "markdown",
   "metadata": {},
   "source": [
    "Minimum Votes received are 4 and max are 41186."
   ]
  },
  {
   "cell_type": "markdown",
   "metadata": {},
   "source": [
    "Large range between 75% and maximum value of VOTES which indicated VOTES have outliers"
   ]
  },
  {
   "cell_type": "markdown",
   "metadata": {},
   "source": [
    "More than 75% values lie within one S.D of VOTES"
   ]
  },
  {
   "cell_type": "markdown",
   "metadata": {},
   "source": [
    "Large range between 75% and max values for COST means it has outliers"
   ]
  },
  {
   "cell_type": "markdown",
   "metadata": {},
   "source": [
    "MOre than 75% values lie within 1 S.D of COST"
   ]
  },
  {
   "cell_type": "markdown",
   "metadata": {},
   "source": [
    "#### Univariate Analysis"
   ]
  },
  {
   "cell_type": "code",
   "execution_count": 1143,
   "metadata": {},
   "outputs": [
    {
     "data": {
      "image/png": "[encoded data removed]",
      "text/plain": [
       "<Figure size 432x288 with 1 Axes>"
      ]
     },
     "metadata": {
      "needs_background": "light"
     },
     "output_type": "display_data"
    },
    {
     "data": {
      "image/png": "[encoded data removed]",
      "text/plain": [
       "<Figure size 432x288 with 1 Axes>"
      ]
     },
     "metadata": {
      "needs_background": "light"
     },
     "output_type": "display_data"
    },
    {
     "data": {
      "image/png": "[encoded data removed]",
      "text/plain": [
       "<Figure size 432x288 with 1 Axes>"
      ]
     },
     "metadata": {
      "needs_background": "light"
     },
     "output_type": "display_data"
    }
   ],
   "source": [
    "c=['RATING','VOTES','COST']\n",
    "for i in c:\n",
    "    plt.subplots()\n",
    "    plt.hist(df_train[i])\n",
    "    plt.title(i)"
   ]
  },
  {
   "cell_type": "markdown",
   "metadata": {},
   "source": [
    "Obs: Approx 1000 Restaurants are with rating between 0 to 5"
   ]
  },
  {
   "cell_type": "markdown",
   "metadata": {},
   "source": [
    "Maximum Restaurants are having Rating between 3.5 to 4.5"
   ]
  },
  {
   "cell_type": "markdown",
   "metadata": {},
   "source": [
    "99% votes are between 0 to 5000"
   ]
  },
  {
   "cell_type": "markdown",
   "metadata": {},
   "source": [
    "90% Restaurant's have cost between 0 to 1000"
   ]
  },
  {
   "cell_type": "code",
   "execution_count": 1144,
   "metadata": {},
   "outputs": [
    {
     "name": "stdout",
     "output_type": "stream",
     "text": [
      "QUICK BITES      4337\n",
      "CASUAL DINING    4121\n",
      "Name: TITLE_1, dtype: int64\n"
     ]
    },
    {
     "data": {
      "image/png": "[encoded data removed]",
      "text/plain": [
       "<Figure size 720x360 with 1 Axes>"
      ]
     },
     "metadata": {
      "needs_background": "light"
     },
     "output_type": "display_data"
    }
   ],
   "source": [
    "#### viewing count of TITLE\n",
    "plt.figure(figsize=(10,5))\n",
    "sb.countplot(x='TITLE_1',data=df_train)\n",
    "plt.xticks(rotation=70)\n",
    "print(df_train['TITLE_1'].value_counts().head(2))"
   ]
  },
  {
   "cell_type": "markdown",
   "metadata": {},
   "source": [
    "OBS: Maximum restaurants are of Quick BYtes followed by Casual Dining"
   ]
  },
  {
   "cell_type": "code",
   "execution_count": 1145,
   "metadata": {},
   "outputs": [
    {
     "name": "stdout",
     "output_type": "stream",
     "text": [
      "NONE    11207\n",
      "BAR       428\n",
      "Name: TITLE_2, dtype: int64\n"
     ]
    },
    {
     "data": {
      "image/png": "[encoded data removed]",
      "text/plain": [
       "<Figure size 720x360 with 1 Axes>"
      ]
     },
     "metadata": {
      "needs_background": "light"
     },
     "output_type": "display_data"
    }
   ],
   "source": [
    "#### viewing count of TITLE\n",
    "plt.figure(figsize=(10,5))\n",
    "sb.countplot(x='TITLE_2',data=df_train)\n",
    "plt.xticks(rotation=70)\n",
    "print(df_train['TITLE_2'].value_counts().head(2))"
   ]
  },
  {
   "cell_type": "markdown",
   "metadata": {},
   "source": [
    "90% of values in TITLE_2 are NONE"
   ]
  },
  {
   "cell_type": "markdown",
   "metadata": {},
   "source": [
    "Maximum values in TITLE_2 is BAR"
   ]
  },
  {
   "cell_type": "code",
   "execution_count": 1146,
   "metadata": {},
   "outputs": [
    {
     "name": "stdout",
     "output_type": "stream",
     "text": [
      "NORTH INDIAN    3128\n",
      "SOUTH INDIAN    1241\n",
      "CHINESE          996\n",
      "FAST FOOD        762\n",
      "CAFE             713\n",
      "Name: CUISINES_1, dtype: int64\n"
     ]
    },
    {
     "data": {
      "image/png": "[encoded data removed]",
      "text/plain": [
       "<Figure size 360x1440 with 1 Axes>"
      ]
     },
     "metadata": {
      "needs_background": "light"
     },
     "output_type": "display_data"
    }
   ],
   "source": [
    "#### viewing count of CUISINE\n",
    "plt.figure(figsize=(5,20))\n",
    "sb.countplot(y='CUISINES_1',data=df_train)\n",
    "plt.xticks(rotation=70)\n",
    "print(df_train['CUISINES_1'].value_counts().head(5))"
   ]
  },
  {
   "cell_type": "markdown",
   "metadata": {},
   "source": [
    "OBS: Maximum restaurant offer North Indian type food followed by south indian and Chinese type"
   ]
  },
  {
   "cell_type": "code",
   "execution_count": 1147,
   "metadata": {},
   "outputs": [
    {
     "name": "stdout",
     "output_type": "stream",
     "text": [
      "CUISINE_NA      3062\n",
      "CHINESE         1829\n",
      "NORTH INDIAN    1373\n",
      "FAST FOOD        782\n",
      "SOUTH INDIAN     638\n",
      "Name: CUISINES_2, dtype: int64\n"
     ]
    },
    {
     "data": {
      "image/png": "[encoded data removed]",
      "text/plain": [
       "<Figure size 360x1440 with 1 Axes>"
      ]
     },
     "metadata": {
      "needs_background": "light"
     },
     "output_type": "display_data"
    }
   ],
   "source": [
    "#### viewing count of CUISINE\n",
    "plt.figure(figsize=(5,20))\n",
    "sb.countplot(y='CUISINES_2',data=df_train)\n",
    "plt.xticks(rotation=70)\n",
    "print(df_train['CUISINES_2'].value_counts().head(5))"
   ]
  },
  {
   "cell_type": "markdown",
   "metadata": {},
   "source": [
    "Maximum values are NOT AVAILABLE and we have chinese and North Indian values as second largest values"
   ]
  },
  {
   "cell_type": "code",
   "execution_count": 1148,
   "metadata": {},
   "outputs": [
    {
     "name": "stdout",
     "output_type": "stream",
     "text": [
      "           CITY\n",
      "CHENNAI    2175\n",
      "BANGALORE  2149\n",
      "HYDERABAD  1819\n",
      "MUMBAI     1722\n",
      "NEW DELHI  1321\n"
     ]
    },
    {
     "data": {
      "image/png": "[encoded data removed]",
      "text/plain": [
       "<Figure size 1080x360 with 1 Axes>"
      ]
     },
     "metadata": {
      "needs_background": "light"
     },
     "output_type": "display_data"
    }
   ],
   "source": [
    "#### Taking count of top 20 city\n",
    "plt.figure(figsize=(15,5))\n",
    "fd=pd.DataFrame(df_train['CITY'].value_counts().head(20))\n",
    "sb.barplot(y='CITY',x=fd.index,data=fd)\n",
    "plt.xticks(rotation=60)\n",
    "print(fd.head())"
   ]
  },
  {
   "cell_type": "markdown",
   "metadata": {},
   "source": [
    "Maximum Restaurants are in chennai and Bangalore followed by Hyderabad,Mumbai and Kochi"
   ]
  },
  {
   "cell_type": "code",
   "execution_count": 1149,
   "metadata": {},
   "outputs": [
    {
     "name": "stdout",
     "output_type": "stream",
     "text": [
      "7    86.603625\n",
      "6     3.845548\n",
      "1     3.167849\n",
      "5     2.947203\n",
      "4     2.261623\n",
      "2     0.606777\n",
      "3     0.559496\n",
      "Name: Days, dtype: float64\n"
     ]
    },
    {
     "data": {
      "image/png": "[encoded data removed]",
      "text/plain": [
       "<Figure size 432x288 with 1 Axes>"
      ]
     },
     "metadata": {
      "needs_background": "light"
     },
     "output_type": "display_data"
    }
   ],
   "source": [
    "sb.countplot(x='Days',data=df_train)\n",
    "print((df_train['Days'].value_counts().head(7)/12690)*100)"
   ]
  },
  {
   "cell_type": "markdown",
   "metadata": {},
   "source": [
    "86.6 % of restaurants are open for all 7 days"
   ]
  },
  {
   "cell_type": "markdown",
   "metadata": {},
   "source": [
    "less than 5 % restaurants are open for days ranging from 1 to 6"
   ]
  },
  {
   "cell_type": "markdown",
   "metadata": {},
   "source": [
    "#### Bivariate Analysis"
   ]
  },
  {
   "cell_type": "code",
   "execution_count": 1150,
   "metadata": {},
   "outputs": [
    {
     "data": {
      "text/html": [
       "<div>\n",
       "<style scoped>\n",
       "    .dataframe tbody tr th:only-of-type {\n",
       "        vertical-align: middle;\n",
       "    }\n",
       "\n",
       "    .dataframe tbody tr th {\n",
       "        vertical-align: top;\n",
       "    }\n",
       "\n",
       "    .dataframe thead th {\n",
       "        text-align: right;\n",
       "    }\n",
       "</style>\n",
       "<table border=\"1\" class=\"dataframe\">\n",
       "  <thead>\n",
       "    <tr style=\"text-align: right;\">\n",
       "      <th></th>\n",
       "      <th>RATING</th>\n",
       "      <th>VOTES</th>\n",
       "      <th>COST</th>\n",
       "    </tr>\n",
       "    <tr>\n",
       "      <th>TITLE_1</th>\n",
       "      <th></th>\n",
       "      <th></th>\n",
       "      <th></th>\n",
       "    </tr>\n",
       "  </thead>\n",
       "  <tbody>\n",
       "    <tr>\n",
       "      <th>MICROBREWERY</th>\n",
       "      <td>4.236364</td>\n",
       "      <td>2348.340909</td>\n",
       "      <td>1619.318182</td>\n",
       "    </tr>\n",
       "    <tr>\n",
       "      <th>FINE DINING</th>\n",
       "      <td>4.111429</td>\n",
       "      <td>565.005714</td>\n",
       "      <td>2929.000000</td>\n",
       "    </tr>\n",
       "    <tr>\n",
       "      <th>PUB</th>\n",
       "      <td>4.019417</td>\n",
       "      <td>1186.233010</td>\n",
       "      <td>1509.223301</td>\n",
       "    </tr>\n",
       "    <tr>\n",
       "      <th>LOUNGE</th>\n",
       "      <td>4.006494</td>\n",
       "      <td>1165.103896</td>\n",
       "      <td>1767.532468</td>\n",
       "    </tr>\n",
       "    <tr>\n",
       "      <th>BAR</th>\n",
       "      <td>3.790157</td>\n",
       "      <td>744.255906</td>\n",
       "      <td>1468.700787</td>\n",
       "    </tr>\n",
       "  </tbody>\n",
       "</table>\n",
       "</div>"
      ],
      "text/plain": [
       "                RATING        VOTES         COST\n",
       "TITLE_1                                         \n",
       "MICROBREWERY  4.236364  2348.340909  1619.318182\n",
       "FINE DINING   4.111429   565.005714  2929.000000\n",
       "PUB           4.019417  1186.233010  1509.223301\n",
       "LOUNGE        4.006494  1165.103896  1767.532468\n",
       "BAR           3.790157   744.255906  1468.700787"
      ]
     },
     "execution_count": 1150,
     "metadata": {},
     "output_type": "execute_result"
    }
   ],
   "source": [
    "df_train.groupby('TITLE_1').mean()[['RATING','VOTES','COST']].sort_values('RATING',ascending=False).head()"
   ]
  },
  {
   "cell_type": "markdown",
   "metadata": {},
   "source": [
    "OBS: Restaurants with CUISINE MICROBREWERY have highest mean Rating of 4.2 and highest Votes wigth mean 2449.20"
   ]
  },
  {
   "cell_type": "markdown",
   "metadata": {},
   "source": [
    "Fine Dining restaurants has highest mean Cost "
   ]
  },
  {
   "cell_type": "code",
   "execution_count": 1151,
   "metadata": {},
   "outputs": [
    {
     "data": {
      "text/plain": [
       "<matplotlib.axes._subplots.AxesSubplot at 0x2d68a2a09c8>"
      ]
     },
     "execution_count": 1151,
     "metadata": {},
     "output_type": "execute_result"
    },
    {
     "data": {
      "image/png": "[encoded data removed]",
      "text/plain": [
       "<Figure size 432x288 with 1 Axes>"
      ]
     },
     "metadata": {
      "needs_background": "light"
     },
     "output_type": "display_data"
    }
   ],
   "source": [
    "sb.scatterplot(x='RATING',y='COST',data=df_train)"
   ]
  },
  {
   "cell_type": "markdown",
   "metadata": {},
   "source": [
    "No restaurants are having rating between 0 and 2"
   ]
  },
  {
   "cell_type": "markdown",
   "metadata": {},
   "source": [
    "Restaurants have higher cost have rating  around 4"
   ]
  },
  {
   "cell_type": "code",
   "execution_count": 1152,
   "metadata": {},
   "outputs": [],
   "source": [
    "rest_data_coded=rest_data_.copy()"
   ]
  },
  {
   "cell_type": "code",
   "execution_count": 1153,
   "metadata": {},
   "outputs": [],
   "source": [
    "from sklearn.preprocessing import LabelEncoder\n",
    "le_cu=[]\n",
    "k=0\n",
    "for i,k in zip(range(8,16),range(8)):\n",
    "    le_cu.append(LabelEncoder())\n",
    "    le_cu[k].fit(rest_data_coded.iloc[:,i])\n",
    "    rest_data_coded.iloc[:,i]=le_cu[k].transform(rest_data_coded.iloc[:,i])"
   ]
  },
  {
   "cell_type": "code",
   "execution_count": 1154,
   "metadata": {},
   "outputs": [],
   "source": [
    "colmns=['CITY','LOCALITY','TITLE_1','TITLE_2']\n",
    "le=[]\n",
    "dic_list=[]\n",
    "for i,k in zip(range(4),colmns):\n",
    "    le.append(LabelEncoder())\n",
    "    le[i].fit(rest_data_coded[k])\n",
    "    rest_data_coded[k]=le[i].transform(rest_data_coded[k])\n",
    "    \n",
    "    #dic_list.append()"
   ]
  },
  {
   "cell_type": "code",
   "execution_count": 1155,
   "metadata": {},
   "outputs": [],
   "source": [
    "rest_data_coded.drop(['RESTAURANT_ID'],axis=1,inplace=True)"
   ]
  },
  {
   "cell_type": "markdown",
   "metadata": {},
   "source": [
    "#### Dealing with Outliers:"
   ]
  },
  {
   "cell_type": "code",
   "execution_count": 1158,
   "metadata": {},
   "outputs": [
    {
     "name": "stdout",
     "output_type": "stream",
     "text": [
      "(12689, 16)\n",
      "(10347, 16)\n",
      "2342 rows removed as outliers\n"
     ]
    }
   ],
   "source": [
    "from scipy.stats import zscore\n",
    "df_mod=rest_data_coded.iloc[0:12689,:]\n",
    "z=abs(zscore(df_mod))\n",
    "### separating original train dataset from here\n",
    "rest_data_no_outliers=df_mod[(z<3).all(axis=1)]\n",
    "print(df_mod.shape)\n",
    "print(rest_data_no_outliers.shape)\n",
    "print(df_mod.shape[0]-rest_data_no_outliers.shape[0], 'rows removed as outliers')"
   ]
  },
  {
   "cell_type": "code",
   "execution_count": 1159,
   "metadata": {},
   "outputs": [
    {
     "data": {
      "text/html": [
       "<div>\n",
       "<style scoped>\n",
       "    .dataframe tbody tr th:only-of-type {\n",
       "        vertical-align: middle;\n",
       "    }\n",
       "\n",
       "    .dataframe tbody tr th {\n",
       "        vertical-align: top;\n",
       "    }\n",
       "\n",
       "    .dataframe thead th {\n",
       "        text-align: right;\n",
       "    }\n",
       "</style>\n",
       "<table border=\"1\" class=\"dataframe\">\n",
       "  <thead>\n",
       "    <tr style=\"text-align: right;\">\n",
       "      <th></th>\n",
       "      <th>CITY</th>\n",
       "      <th>LOCALITY</th>\n",
       "      <th>RATING</th>\n",
       "      <th>VOTES</th>\n",
       "      <th>COST</th>\n",
       "      <th>TITLE_1</th>\n",
       "      <th>TITLE_2</th>\n",
       "      <th>CUISINES_1</th>\n",
       "      <th>CUISINES_2</th>\n",
       "      <th>CUISINES_3</th>\n",
       "      <th>CUISINES_4</th>\n",
       "      <th>CUISINES_5</th>\n",
       "      <th>CUISINES_6</th>\n",
       "      <th>CUISINES_7</th>\n",
       "      <th>CUISINES_8</th>\n",
       "      <th>Days</th>\n",
       "    </tr>\n",
       "  </thead>\n",
       "  <tbody>\n",
       "    <tr>\n",
       "      <th>0</th>\n",
       "      <td>408</td>\n",
       "      <td>320</td>\n",
       "      <td>3.6</td>\n",
       "      <td>49</td>\n",
       "      <td>1200</td>\n",
       "      <td>5</td>\n",
       "      <td>16</td>\n",
       "      <td>61</td>\n",
       "      <td>33</td>\n",
       "      <td>72</td>\n",
       "      <td>24</td>\n",
       "      <td>21</td>\n",
       "      <td>20</td>\n",
       "      <td>15</td>\n",
       "      <td>7</td>\n",
       "      <td>7</td>\n",
       "    </tr>\n",
       "    <tr>\n",
       "      <th>2</th>\n",
       "      <td>75</td>\n",
       "      <td>1261</td>\n",
       "      <td>3.8</td>\n",
       "      <td>221</td>\n",
       "      <td>800</td>\n",
       "      <td>5</td>\n",
       "      <td>16</td>\n",
       "      <td>74</td>\n",
       "      <td>23</td>\n",
       "      <td>14</td>\n",
       "      <td>35</td>\n",
       "      <td>21</td>\n",
       "      <td>20</td>\n",
       "      <td>15</td>\n",
       "      <td>7</td>\n",
       "      <td>7</td>\n",
       "    </tr>\n",
       "    <tr>\n",
       "      <th>3</th>\n",
       "      <td>281</td>\n",
       "      <td>149</td>\n",
       "      <td>4.1</td>\n",
       "      <td>24</td>\n",
       "      <td>800</td>\n",
       "      <td>23</td>\n",
       "      <td>16</td>\n",
       "      <td>102</td>\n",
       "      <td>23</td>\n",
       "      <td>26</td>\n",
       "      <td>24</td>\n",
       "      <td>21</td>\n",
       "      <td>20</td>\n",
       "      <td>15</td>\n",
       "      <td>7</td>\n",
       "      <td>7</td>\n",
       "    </tr>\n",
       "    <tr>\n",
       "      <th>4</th>\n",
       "      <td>281</td>\n",
       "      <td>701</td>\n",
       "      <td>3.8</td>\n",
       "      <td>165</td>\n",
       "      <td>300</td>\n",
       "      <td>9</td>\n",
       "      <td>16</td>\n",
       "      <td>30</td>\n",
       "      <td>26</td>\n",
       "      <td>26</td>\n",
       "      <td>24</td>\n",
       "      <td>21</td>\n",
       "      <td>20</td>\n",
       "      <td>15</td>\n",
       "      <td>7</td>\n",
       "      <td>7</td>\n",
       "    </tr>\n",
       "    <tr>\n",
       "      <th>5</th>\n",
       "      <td>281</td>\n",
       "      <td>1565</td>\n",
       "      <td>4.0</td>\n",
       "      <td>550</td>\n",
       "      <td>800</td>\n",
       "      <td>5</td>\n",
       "      <td>16</td>\n",
       "      <td>74</td>\n",
       "      <td>23</td>\n",
       "      <td>84</td>\n",
       "      <td>11</td>\n",
       "      <td>21</td>\n",
       "      <td>20</td>\n",
       "      <td>15</td>\n",
       "      <td>7</td>\n",
       "      <td>7</td>\n",
       "    </tr>\n",
       "  </tbody>\n",
       "</table>\n",
       "</div>"
      ],
      "text/plain": [
       "   CITY  LOCALITY  RATING  VOTES  COST  TITLE_1  TITLE_2  CUISINES_1  \\\n",
       "0   408       320     3.6     49  1200        5       16          61   \n",
       "2    75      1261     3.8    221   800        5       16          74   \n",
       "3   281       149     4.1     24   800       23       16         102   \n",
       "4   281       701     3.8    165   300        9       16          30   \n",
       "5   281      1565     4.0    550   800        5       16          74   \n",
       "\n",
       "   CUISINES_2  CUISINES_3  CUISINES_4  CUISINES_5  CUISINES_6  CUISINES_7  \\\n",
       "0          33          72          24          21          20          15   \n",
       "2          23          14          35          21          20          15   \n",
       "3          23          26          24          21          20          15   \n",
       "4          26          26          24          21          20          15   \n",
       "5          23          84          11          21          20          15   \n",
       "\n",
       "   CUISINES_8  Days  \n",
       "0           7     7  \n",
       "2           7     7  \n",
       "3           7     7  \n",
       "4           7     7  \n",
       "5           7     7  "
      ]
     },
     "execution_count": 1159,
     "metadata": {},
     "output_type": "execute_result"
    }
   ],
   "source": [
    "rest_data_no_outliers.head()"
   ]
  },
  {
   "cell_type": "code",
   "execution_count": 1160,
   "metadata": {},
   "outputs": [
    {
     "data": {
      "text/plain": [
       "CITY           0.266924\n",
       "LOCALITY       0.347508\n",
       "RATING        -2.072330\n",
       "VOTES          2.765229\n",
       "COST           2.117812\n",
       "TITLE_1       -0.076628\n",
       "TITLE_2       -4.722336\n",
       "CUISINES_1    -0.058141\n",
       "CUISINES_2     0.898909\n",
       "CUISINES_3     1.943597\n",
       "CUISINES_4     3.415746\n",
       "CUISINES_5     1.348938\n",
       "CUISINES_6    -0.301854\n",
       "CUISINES_7   -27.477574\n",
       "CUISINES_8     0.000000\n",
       "Days          -3.941123\n",
       "dtype: float64"
      ]
     },
     "execution_count": 1160,
     "metadata": {},
     "output_type": "execute_result"
    }
   ],
   "source": [
    "rest_data_no_outliers.skew()"
   ]
  },
  {
   "cell_type": "code",
   "execution_count": 1161,
   "metadata": {},
   "outputs": [
    {
     "data": {
      "text/plain": [
       "0.8546279597661567"
      ]
     },
     "execution_count": 1161,
     "metadata": {},
     "output_type": "execute_result"
    }
   ],
   "source": [
    "np.cbrt(rest_data_no_outliers['CUISINES_3']).skew()"
   ]
  },
  {
   "cell_type": "code",
   "execution_count": 1162,
   "metadata": {},
   "outputs": [
    {
     "data": {
      "text/plain": [
       "CITY           0.266924\n",
       "LOCALITY       0.347508\n",
       "RATING         0.194702\n",
       "VOTES          0.415817\n",
       "COST           0.242147\n",
       "TITLE_1       -0.076628\n",
       "TITLE_2        1.443204\n",
       "CUISINES_1    -0.058141\n",
       "CUISINES_2    -0.177319\n",
       "CUISINES_3     0.459350\n",
       "CUISINES_4    -1.788995\n",
       "CUISINES_5   -11.511014\n",
       "CUISINES_6    -0.301854\n",
       "CUISINES_7     3.161769\n",
       "CUISINES_8     0.000000\n",
       "Days          -2.981434\n",
       "dtype: float64"
      ]
     },
     "execution_count": 1162,
     "metadata": {},
     "output_type": "execute_result"
    }
   ],
   "source": [
    "\n",
    "for i in rest_data_no_outliers.columns:\n",
    "    if(((rest_data_no_outliers[i].skew())< -0.55) & (i!='COST')):\n",
    "        rest_data_no_outliers[i]=np.e**(rest_data_no_outliers[i])\n",
    "    if(((rest_data_no_outliers[i].skew())> 0.55) & (i!='COST')):\n",
    "        rest_data_no_outliers[i]=(rest_data_no_outliers[i])**(1/4)\n",
    "rest_data_no_outliers['COST']=np.log(rest_data_no_outliers['COST'])\n",
    "rest_data_no_outliers.skew()"
   ]
  },
  {
   "cell_type": "markdown",
   "metadata": {},
   "source": [
    "Most skewness is handled"
   ]
  },
  {
   "cell_type": "markdown",
   "metadata": {},
   "source": [
    "### Note: Here we have modified our target attribute with the log hence we have to take anti log at the time of actual prediction"
   ]
  },
  {
   "cell_type": "code",
   "execution_count": 1163,
   "metadata": {},
   "outputs": [],
   "source": [
    "x=rest_data_no_outliers.drop(['COST'],axis=1)\n",
    "y=rest_data_no_outliers['COST']"
   ]
  },
  {
   "cell_type": "code",
   "execution_count": 1164,
   "metadata": {},
   "outputs": [
    {
     "data": {
      "text/html": [
       "<div>\n",
       "<style scoped>\n",
       "    .dataframe tbody tr th:only-of-type {\n",
       "        vertical-align: middle;\n",
       "    }\n",
       "\n",
       "    .dataframe tbody tr th {\n",
       "        vertical-align: top;\n",
       "    }\n",
       "\n",
       "    .dataframe thead th {\n",
       "        text-align: right;\n",
       "    }\n",
       "</style>\n",
       "<table border=\"1\" class=\"dataframe\">\n",
       "  <thead>\n",
       "    <tr style=\"text-align: right;\">\n",
       "      <th></th>\n",
       "      <th>CITY</th>\n",
       "      <th>LOCALITY</th>\n",
       "      <th>RATING</th>\n",
       "      <th>VOTES</th>\n",
       "      <th>COST</th>\n",
       "      <th>TITLE_1</th>\n",
       "      <th>TITLE_2</th>\n",
       "      <th>CUISINES_1</th>\n",
       "      <th>CUISINES_2</th>\n",
       "      <th>CUISINES_3</th>\n",
       "      <th>CUISINES_4</th>\n",
       "      <th>CUISINES_5</th>\n",
       "      <th>CUISINES_6</th>\n",
       "      <th>CUISINES_7</th>\n",
       "      <th>CUISINES_8</th>\n",
       "      <th>Days</th>\n",
       "    </tr>\n",
       "  </thead>\n",
       "  <tbody>\n",
       "    <tr>\n",
       "      <th>0</th>\n",
       "      <td>408</td>\n",
       "      <td>320</td>\n",
       "      <td>36.598234</td>\n",
       "      <td>2.645751</td>\n",
       "      <td>7.090077</td>\n",
       "      <td>5</td>\n",
       "      <td>54.59815</td>\n",
       "      <td>61</td>\n",
       "      <td>2.396782</td>\n",
       "      <td>2.912951</td>\n",
       "      <td>2.213364</td>\n",
       "      <td>2.140695</td>\n",
       "      <td>20</td>\n",
       "      <td>42.521082</td>\n",
       "      <td>7</td>\n",
       "      <td>1096.633158</td>\n",
       "    </tr>\n",
       "    <tr>\n",
       "      <th>2</th>\n",
       "      <td>75</td>\n",
       "      <td>1261</td>\n",
       "      <td>44.701184</td>\n",
       "      <td>3.855654</td>\n",
       "      <td>6.684612</td>\n",
       "      <td>5</td>\n",
       "      <td>54.59815</td>\n",
       "      <td>74</td>\n",
       "      <td>2.189939</td>\n",
       "      <td>1.934336</td>\n",
       "      <td>2.432299</td>\n",
       "      <td>2.140695</td>\n",
       "      <td>20</td>\n",
       "      <td>42.521082</td>\n",
       "      <td>7</td>\n",
       "      <td>1096.633158</td>\n",
       "    </tr>\n",
       "    <tr>\n",
       "      <th>3</th>\n",
       "      <td>281</td>\n",
       "      <td>149</td>\n",
       "      <td>60.340288</td>\n",
       "      <td>2.213364</td>\n",
       "      <td>6.684612</td>\n",
       "      <td>23</td>\n",
       "      <td>54.59815</td>\n",
       "      <td>102</td>\n",
       "      <td>2.189939</td>\n",
       "      <td>2.258101</td>\n",
       "      <td>2.213364</td>\n",
       "      <td>2.140695</td>\n",
       "      <td>20</td>\n",
       "      <td>42.521082</td>\n",
       "      <td>7</td>\n",
       "      <td>1096.633158</td>\n",
       "    </tr>\n",
       "    <tr>\n",
       "      <th>4</th>\n",
       "      <td>281</td>\n",
       "      <td>701</td>\n",
       "      <td>44.701184</td>\n",
       "      <td>3.584025</td>\n",
       "      <td>5.703782</td>\n",
       "      <td>9</td>\n",
       "      <td>54.59815</td>\n",
       "      <td>30</td>\n",
       "      <td>2.258101</td>\n",
       "      <td>2.258101</td>\n",
       "      <td>2.213364</td>\n",
       "      <td>2.140695</td>\n",
       "      <td>20</td>\n",
       "      <td>42.521082</td>\n",
       "      <td>7</td>\n",
       "      <td>1096.633158</td>\n",
       "    </tr>\n",
       "    <tr>\n",
       "      <th>5</th>\n",
       "      <td>281</td>\n",
       "      <td>1565</td>\n",
       "      <td>54.598150</td>\n",
       "      <td>4.842735</td>\n",
       "      <td>6.684612</td>\n",
       "      <td>5</td>\n",
       "      <td>54.59815</td>\n",
       "      <td>74</td>\n",
       "      <td>2.189939</td>\n",
       "      <td>3.027400</td>\n",
       "      <td>1.821160</td>\n",
       "      <td>2.140695</td>\n",
       "      <td>20</td>\n",
       "      <td>42.521082</td>\n",
       "      <td>7</td>\n",
       "      <td>1096.633158</td>\n",
       "    </tr>\n",
       "  </tbody>\n",
       "</table>\n",
       "</div>"
      ],
      "text/plain": [
       "   CITY  LOCALITY     RATING     VOTES      COST  TITLE_1   TITLE_2  \\\n",
       "0   408       320  36.598234  2.645751  7.090077        5  54.59815   \n",
       "2    75      1261  44.701184  3.855654  6.684612        5  54.59815   \n",
       "3   281       149  60.340288  2.213364  6.684612       23  54.59815   \n",
       "4   281       701  44.701184  3.584025  5.703782        9  54.59815   \n",
       "5   281      1565  54.598150  4.842735  6.684612        5  54.59815   \n",
       "\n",
       "   CUISINES_1  CUISINES_2  CUISINES_3  CUISINES_4  CUISINES_5  CUISINES_6  \\\n",
       "0          61    2.396782    2.912951    2.213364    2.140695          20   \n",
       "2          74    2.189939    1.934336    2.432299    2.140695          20   \n",
       "3         102    2.189939    2.258101    2.213364    2.140695          20   \n",
       "4          30    2.258101    2.258101    2.213364    2.140695          20   \n",
       "5          74    2.189939    3.027400    1.821160    2.140695          20   \n",
       "\n",
       "   CUISINES_7  CUISINES_8         Days  \n",
       "0   42.521082           7  1096.633158  \n",
       "2   42.521082           7  1096.633158  \n",
       "3   42.521082           7  1096.633158  \n",
       "4   42.521082           7  1096.633158  \n",
       "5   42.521082           7  1096.633158  "
      ]
     },
     "execution_count": 1164,
     "metadata": {},
     "output_type": "execute_result"
    }
   ],
   "source": [
    "rest_data_no_outliers.head()"
   ]
  },
  {
   "cell_type": "code",
   "execution_count": 1166,
   "metadata": {},
   "outputs": [],
   "source": [
    "from sklearn.preprocessing import StandardScaler,MinMaxScaler\n",
    "ss=StandardScaler()\n",
    "ss.fit(x)\n",
    "x_ss=ss.transform(x)"
   ]
  },
  {
   "cell_type": "markdown",
   "metadata": {},
   "source": [
    "#### Model Preparation:"
   ]
  },
  {
   "cell_type": "code",
   "execution_count": 1167,
   "metadata": {},
   "outputs": [],
   "source": [
    "#importing libraries for model\n",
    "import sklearn\n",
    "from sklearn.linear_model import LinearRegression,Lasso,Ridge,ElasticNet\n",
    "from sklearn.model_selection import train_test_split,GridSearchCV,cross_val_score\n",
    "from sklearn.neighbors import KNeighborsRegressor\n",
    "from sklearn.tree import DecisionTreeRegressor\n",
    "from sklearn.svm import SVR\n",
    "from sklearn import model_selection\n",
    "from sklearn.metrics import r2_score,mean_absolute_error,mean_squared_error,mean_squared_log_error\n",
    "import warnings\n",
    "warnings.filterwarnings('ignore')"
   ]
  },
  {
   "cell_type": "code",
   "execution_count": 1168,
   "metadata": {},
   "outputs": [],
   "source": [
    "# preparing a method to get metric at best random state\n",
    "def max_r2_score(x,y,test_size,model):\n",
    "    max=0\n",
    "    ind=0\n",
    "    for i in range(42,100):\n",
    "        train_x,test_x,train_y,test_y=train_test_split(x,y,test_size=test_size,random_state=i)\n",
    "        model.fit(train_x,train_y)\n",
    "        pred=model.predict(test_x)\n",
    "        if(max < r2_score(test_y,pred)):\n",
    "                max=r2_score(test_y,pred)\n",
    "                ind=i\n",
    "    train_x,test_x,train_y,test_y=train_test_split(x,y,test_size=test_size,random_state=ind)\n",
    "    model.fit(train_x,train_y)\n",
    "    pred=model.predict(test_x)\n",
    "    print('max r2_score :',r2_score(test_y,pred),'at random state',ind)\n",
    "    list_r2score.append(r2_score(test_y,pred))\n",
    "    list_MSE.append(mean_squared_error(test_y,pred))\n",
    "    list_MAE.append(mean_absolute_error(test_y,pred))\n",
    "    list_RMSE.append(np.sqrt(mean_squared_error(test_y,pred)))\n",
    "    list_MSLE.append(abs(mean_squared_log_error(test_y,pred)))\n",
    "    score=cross_val_score(model,x,y,cv=5,scoring='r2')\n",
    "    #print('cross val score :',score,score.mean(),' standard deviation',score.std())\n",
    "    cross_val_r2Score.append(score.mean())"
   ]
  },
  {
   "cell_type": "code",
   "execution_count": 1169,
   "metadata": {},
   "outputs": [
    {
     "name": "stdout",
     "output_type": "stream",
     "text": [
      "********************************** LinearRegression ****************************************\n",
      "max r2_score : 0.3310084013854383 at random state 87\n",
      "********************************** DecisionTree ****************************************\n",
      "max r2_score : 0.37506562413377575 at random state 85\n",
      "********************************** KNN ****************************************\n",
      "max r2_score : 0.4121714294747514 at random state 80\n",
      "********************************** Lasso ****************************************\n",
      "max r2_score : 0.24111279581516432 at random state 79\n",
      "********************************** Ridge ****************************************\n",
      "max r2_score : 0.3310078966482698 at random state 87\n",
      "********************************** ElasticNet ****************************************\n",
      "max r2_score : -0.00043875578530339077 at random state 0\n",
      "********************************** SVR ****************************************\n",
      "max r2_score : 0.44593654981496544 at random state 46\n"
     ]
    }
   ],
   "source": [
    "list_r2score=[]\n",
    "list_MSE=[]\n",
    "list_MAE=[]\n",
    "list_RMSE=[]\n",
    "list_MSLE=[]\n",
    "cross_val_r2Score=[]\n",
    "model_list=[LinearRegression(),DecisionTreeRegressor(),KNeighborsRegressor(),Lasso(alpha=0.1),\n",
    "            Ridge(alpha=0.1),ElasticNet(),SVR()]\n",
    "for i,k in zip(model_list,['LinearRegression','DecisionTree','KNN','Lasso','Ridge','ElasticNet','SVR']):\n",
    "    print('**********************************',k,'****************************************')\n",
    "    max_r2_score(x_ss,y,0.25,i)"
   ]
  },
  {
   "cell_type": "code",
   "execution_count": 1170,
   "metadata": {},
   "outputs": [
    {
     "data": {
      "text/html": [
       "<div>\n",
       "<style scoped>\n",
       "    .dataframe tbody tr th:only-of-type {\n",
       "        vertical-align: middle;\n",
       "    }\n",
       "\n",
       "    .dataframe tbody tr th {\n",
       "        vertical-align: top;\n",
       "    }\n",
       "\n",
       "    .dataframe thead th {\n",
       "        text-align: right;\n",
       "    }\n",
       "</style>\n",
       "<table border=\"1\" class=\"dataframe\">\n",
       "  <thead>\n",
       "    <tr style=\"text-align: right;\">\n",
       "      <th></th>\n",
       "      <th>LinearReg</th>\n",
       "      <th>DecisionTree</th>\n",
       "      <th>KNN</th>\n",
       "      <th>Lasso</th>\n",
       "      <th>Ridge</th>\n",
       "      <th>ElasticNet</th>\n",
       "      <th>SVR</th>\n",
       "    </tr>\n",
       "  </thead>\n",
       "  <tbody>\n",
       "    <tr>\n",
       "      <th>R2</th>\n",
       "      <td>0.331008</td>\n",
       "      <td>0.375066</td>\n",
       "      <td>0.412171</td>\n",
       "      <td>0.241113</td>\n",
       "      <td>0.331008</td>\n",
       "      <td>-0.000439</td>\n",
       "      <td>0.445937</td>\n",
       "    </tr>\n",
       "    <tr>\n",
       "      <th>cross_val_r2Score</th>\n",
       "      <td>0.307003</td>\n",
       "      <td>0.303643</td>\n",
       "      <td>0.376347</td>\n",
       "      <td>0.228200</td>\n",
       "      <td>0.307003</td>\n",
       "      <td>-0.000911</td>\n",
       "      <td>0.415166</td>\n",
       "    </tr>\n",
       "    <tr>\n",
       "      <th>MSE</th>\n",
       "      <td>0.287896</td>\n",
       "      <td>0.271555</td>\n",
       "      <td>0.257625</td>\n",
       "      <td>0.315238</td>\n",
       "      <td>0.287896</td>\n",
       "      <td>0.419430</td>\n",
       "      <td>0.243213</td>\n",
       "    </tr>\n",
       "    <tr>\n",
       "      <th>RMSE</th>\n",
       "      <td>0.536559</td>\n",
       "      <td>0.521110</td>\n",
       "      <td>0.507568</td>\n",
       "      <td>0.561461</td>\n",
       "      <td>0.536560</td>\n",
       "      <td>0.647635</td>\n",
       "      <td>0.493166</td>\n",
       "    </tr>\n",
       "    <tr>\n",
       "      <th>MAE</th>\n",
       "      <td>0.411090</td>\n",
       "      <td>0.398333</td>\n",
       "      <td>0.386863</td>\n",
       "      <td>0.438852</td>\n",
       "      <td>0.411090</td>\n",
       "      <td>0.516928</td>\n",
       "      <td>0.377106</td>\n",
       "    </tr>\n",
       "    <tr>\n",
       "      <th>MS_log_error</th>\n",
       "      <td>0.005853</td>\n",
       "      <td>0.005738</td>\n",
       "      <td>0.005216</td>\n",
       "      <td>0.006299</td>\n",
       "      <td>0.005853</td>\n",
       "      <td>0.008475</td>\n",
       "      <td>0.004913</td>\n",
       "    </tr>\n",
       "  </tbody>\n",
       "</table>\n",
       "</div>"
      ],
      "text/plain": [
       "                   LinearReg  DecisionTree       KNN     Lasso     Ridge  \\\n",
       "R2                  0.331008      0.375066  0.412171  0.241113  0.331008   \n",
       "cross_val_r2Score   0.307003      0.303643  0.376347  0.228200  0.307003   \n",
       "MSE                 0.287896      0.271555  0.257625  0.315238  0.287896   \n",
       "RMSE                0.536559      0.521110  0.507568  0.561461  0.536560   \n",
       "MAE                 0.411090      0.398333  0.386863  0.438852  0.411090   \n",
       "MS_log_error        0.005853      0.005738  0.005216  0.006299  0.005853   \n",
       "\n",
       "                   ElasticNet       SVR  \n",
       "R2                  -0.000439  0.445937  \n",
       "cross_val_r2Score   -0.000911  0.415166  \n",
       "MSE                  0.419430  0.243213  \n",
       "RMSE                 0.647635  0.493166  \n",
       "MAE                  0.516928  0.377106  \n",
       "MS_log_error         0.008475  0.004913  "
      ]
     },
     "execution_count": 1170,
     "metadata": {},
     "output_type": "execute_result"
    }
   ],
   "source": [
    "colv=['LinearReg','DecisionTree','KNN','Lasso','Ridge','ElasticNet','SVR']\n",
    "performance_df=pd.DataFrame([list_r2score,cross_val_r2Score,list_MSE,list_RMSE,list_MAE,list_MSLE],index=['R2','cross_val_r2Score','MSE','RMSE','MAE','MS_log_error'],columns=colv)\n",
    "performance_df"
   ]
  },
  {
   "cell_type": "markdown",
   "metadata": {},
   "source": [
    "Obs: Models are not overfitted"
   ]
  },
  {
   "cell_type": "markdown",
   "metadata": {},
   "source": [
    "Best results are given by SVR till now with least MSE of 0.24 and highest r2 score of 45%"
   ]
  },
  {
   "cell_type": "markdown",
   "metadata": {},
   "source": [
    "#### Tyring Hyperparameter tuning for SVR to check if that improve the score."
   ]
  },
  {
   "cell_type": "code",
   "execution_count": 1175,
   "metadata": {},
   "outputs": [],
   "source": [
    "# making a method to perform hyper tuning using MSE as the scoring metric\n",
    "from sklearn.metrics import make_scorer\n",
    "def gridsearch(x,y,model,parameter_dictionary):\n",
    "    #kfold=model_selection.KFold(n_splits=10,random_state=rs,shuffle=True)\n",
    "        grid_cv=GridSearchCV(estimator=model,param_grid=parameter_dictionary,cv=5,scoring='neg_mean_squared_error')\n",
    "        grid_cv.fit(x,y)\n",
    "        print('\\n')   \n",
    "        print('best mean score(MSE) :',abs(grid_cv.best_score_))\n",
    "       \n",
    "        print('best Parameter :',grid_cv.best_params_)\n",
    "       "
   ]
  },
  {
   "cell_type": "code",
   "execution_count": 1176,
   "metadata": {},
   "outputs": [
    {
     "name": "stdout",
     "output_type": "stream",
     "text": [
      "\n",
      "\n",
      "best mean score(MSE) : 0.244933732719818\n",
      "best Parameter : {'C': 1, 'kernel': 'rbf'}\n"
     ]
    }
   ],
   "source": [
    "gridsearch(x_ss,y,SVR(),{'C':[0.1,1,10],'kernel':[\"linear\",\"rbf\",\"poly\"]})"
   ]
  },
  {
   "cell_type": "markdown",
   "metadata": {},
   "source": [
    "Now finding score at best parameter"
   ]
  },
  {
   "cell_type": "code",
   "execution_count": 1178,
   "metadata": {},
   "outputs": [
    {
     "name": "stdout",
     "output_type": "stream",
     "text": [
      "max r2_score : 0.44593654981496544 at random state 46\n"
     ]
    }
   ],
   "source": [
    "max_r2_score(x_ss,y,0.25,SVR(C=1,kernel='rbf'))"
   ]
  },
  {
   "cell_type": "markdown",
   "metadata": {},
   "source": [
    "OBS: MSE score is not improved"
   ]
  },
  {
   "cell_type": "markdown",
   "metadata": {},
   "source": [
    "### Now trying ensemble techniques:"
   ]
  },
  {
   "cell_type": "code",
   "execution_count": 1180,
   "metadata": {},
   "outputs": [],
   "source": [
    "from sklearn.ensemble import GradientBoostingRegressor,RandomForestRegressor,AdaBoostRegressor,BaggingRegressor,ExtraTreesRegressor\n"
   ]
  },
  {
   "cell_type": "code",
   "execution_count": 1183,
   "metadata": {},
   "outputs": [
    {
     "name": "stdout",
     "output_type": "stream",
     "text": [
      "\n",
      "\n",
      "best mean score(MSE) : 0.15104398645950182\n",
      "best Parameter : {'bootstrap': True, 'max_features': 'auto', 'min_samples_leaf': 2, 'min_samples_split': 10, 'n_estimators': 200}\n"
     ]
    }
   ],
   "source": [
    "############################  RandomForestRegressor ##########################\n",
    "n_estimators = [int(x) for x in np.linspace(start = 200, stop = 2000, num = 10)]\n",
    "# Number of features to consider at every split\n",
    "max_features = ['auto', 'sqrt']\n",
    "# Maximum number of levels in tree\n",
    "max_depth = [int(x) for x in np.linspace(10, 110, num = 11)]\n",
    "max_depth.append(None)\n",
    "# Minimum number of samples required to split a node\n",
    "min_samples_split = [2, 5, 10]\n",
    "# Minimum number of samples required at each leaf node\n",
    "min_samples_leaf = [1, 2, 4]\n",
    "# Method of selecting samples for training each tree\n",
    "bootstrap = [True, False]\n",
    "para_dict = {'n_estimators': [50,100,150,200],\n",
    "               'max_features': max_features,\n",
    "               'min_samples_split': min_samples_split,\n",
    "               'min_samples_leaf': min_samples_leaf,\n",
    "               'bootstrap': bootstrap}\n",
    "gridsearch(x_ss,y,RandomForestRegressor(),para_dict)"
   ]
  },
  {
   "cell_type": "markdown",
   "metadata": {},
   "source": [
    "Now find model state at best parameters:"
   ]
  },
  {
   "cell_type": "code",
   "execution_count": 1193,
   "metadata": {},
   "outputs": [
    {
     "name": "stdout",
     "output_type": "stream",
     "text": [
      "max r2_score : 0.6644288065946913 at random state 62\n"
     ]
    }
   ],
   "source": [
    "max_r2_score(x_ss,y,0.25,RandomForestRegressor(bootstrap='True',max_features='auto',min_samples_leaf=2,min_samples_split=10,n_estimators=2000))"
   ]
  },
  {
   "cell_type": "code",
   "execution_count": 1189,
   "metadata": {},
   "outputs": [
    {
     "name": "stdout",
     "output_type": "stream",
     "text": [
      "\n",
      "\n",
      "best mean score(MSE) : 0.13930824854321217\n",
      "best Parameter : {'learning_rate': 0.1, 'max_depth': 2, 'n_estimators': 2000, 'random_state': 1, 'subsample': 0.75}\n"
     ]
    }
   ],
   "source": [
    "para_dict={ 'n_estimators':[500,1000,2000],'learning_rate':[.001,0.01,.1],'max_depth':[1,2,4],'subsample':[.5,.75,1],'random_state':[1]}\n",
    "gridsearch(x_ss,y,GradientBoostingRegressor(),para_dict)"
   ]
  },
  {
   "cell_type": "code",
   "execution_count": 1192,
   "metadata": {},
   "outputs": [
    {
     "name": "stdout",
     "output_type": "stream",
     "text": [
      "max r2_score : 0.6886064885357481 at random state 48\n"
     ]
    }
   ],
   "source": [
    "max_r2_score(x_ss,y,0.25,GradientBoostingRegressor(n_estimators=2000,learning_rate=0.1,max_depth=2,subsample=0.75))"
   ]
  },
  {
   "cell_type": "code",
   "execution_count": 1195,
   "metadata": {},
   "outputs": [
    {
     "name": "stdout",
     "output_type": "stream",
     "text": [
      "\n",
      "\n",
      "best mean score(MSE) : 0.2628513823095952\n",
      "best Parameter : {'learning_rate': 0.01, 'loss': 'exponential', 'n_estimators': 2000}\n"
     ]
    }
   ],
   "source": [
    "para_dict={ 'n_estimators':[500,1000,2000],'learning_rate':[.001,0.01,.1],'loss' : ['linear', 'square', 'exponential']}\n",
    "gridsearch(x_ss,y,AdaBoostRegressor(),para_dict)"
   ]
  },
  {
   "cell_type": "markdown",
   "metadata": {},
   "source": [
    "####  Hence we can see that best score is given by GradientBoostingRegressor with mean MSE of 0.13 and r2_score 69%. Hence finalizing this model"
   ]
  },
  {
   "cell_type": "code",
   "execution_count": 1199,
   "metadata": {},
   "outputs": [
    {
     "name": "stdout",
     "output_type": "stream",
     "text": [
      "r2_score : 0.6888744056598269\n",
      "MSE : 0.13617748941430977\n",
      "RMSE : 0.36902234270340567\n"
     ]
    }
   ],
   "source": [
    "model=GradientBoostingRegressor(n_estimators=2000,learning_rate=0.1,max_depth=2,subsample=0.75)\n",
    "train_x,test_x,train_y,test_y=train_test_split(x_ss,y,test_size=0.25,random_state=48)\n",
    "model.fit(train_x,train_y)\n",
    "pred=model.predict(test_x)\n",
    "print('r2_score :',r2_score(test_y,pred))\n",
    "print('MSE :',mean_squared_error(test_y,pred))\n",
    "print('RMSE :',np.sqrt(mean_squared_error(test_y,pred)))\n"
   ]
  },
  {
   "cell_type": "code",
   "execution_count": 1200,
   "metadata": {},
   "outputs": [
    {
     "data": {
      "text/plain": [
       "['Restaurant_food_predictor_model.obj']"
      ]
     },
     "execution_count": 1200,
     "metadata": {},
     "output_type": "execute_result"
    }
   ],
   "source": [
    "from sklearn.externals import joblib\n",
    "joblib.dump(model,'Restaurant_food_predictor_model.obj')"
   ]
  },
  {
   "cell_type": "markdown",
   "metadata": {},
   "source": [
    "### Taking test data"
   ]
  },
  {
   "cell_type": "code",
   "execution_count": 1236,
   "metadata": {},
   "outputs": [],
   "source": [
    "test_data=rest_data_coded.iloc[12690:,:]"
   ]
  },
  {
   "cell_type": "markdown",
   "metadata": {},
   "source": [
    "#### Doing modifications on test data so that test data become same as the data on which our model was trained"
   ]
  },
  {
   "cell_type": "code",
   "execution_count": 1237,
   "metadata": {},
   "outputs": [
    {
     "data": {
      "text/html": [
       "<div>\n",
       "<style scoped>\n",
       "    .dataframe tbody tr th:only-of-type {\n",
       "        vertical-align: middle;\n",
       "    }\n",
       "\n",
       "    .dataframe tbody tr th {\n",
       "        vertical-align: top;\n",
       "    }\n",
       "\n",
       "    .dataframe thead th {\n",
       "        text-align: right;\n",
       "    }\n",
       "</style>\n",
       "<table border=\"1\" class=\"dataframe\">\n",
       "  <thead>\n",
       "    <tr style=\"text-align: right;\">\n",
       "      <th></th>\n",
       "      <th>CITY</th>\n",
       "      <th>LOCALITY</th>\n",
       "      <th>RATING</th>\n",
       "      <th>VOTES</th>\n",
       "      <th>COST</th>\n",
       "      <th>TITLE_1</th>\n",
       "      <th>TITLE_2</th>\n",
       "      <th>CUISINES_1</th>\n",
       "      <th>CUISINES_2</th>\n",
       "      <th>CUISINES_3</th>\n",
       "      <th>CUISINES_4</th>\n",
       "      <th>CUISINES_5</th>\n",
       "      <th>CUISINES_6</th>\n",
       "      <th>CUISINES_7</th>\n",
       "      <th>CUISINES_8</th>\n",
       "      <th>Days</th>\n",
       "    </tr>\n",
       "  </thead>\n",
       "  <tbody>\n",
       "    <tr>\n",
       "      <th>0</th>\n",
       "      <td>327</td>\n",
       "      <td>1307</td>\n",
       "      <td>73.699794</td>\n",
       "      <td>4.873262</td>\n",
       "      <td>1</td>\n",
       "      <td>5</td>\n",
       "      <td>54.59815</td>\n",
       "      <td>74</td>\n",
       "      <td>2.189939</td>\n",
       "      <td>2.871622</td>\n",
       "      <td>2.575510</td>\n",
       "      <td>2.140695</td>\n",
       "      <td>2.114743</td>\n",
       "      <td>1.96799</td>\n",
       "      <td>5.754603</td>\n",
       "      <td>1096.633158</td>\n",
       "    </tr>\n",
       "    <tr>\n",
       "      <th>1</th>\n",
       "      <td>281</td>\n",
       "      <td>417</td>\n",
       "      <td>66.686331</td>\n",
       "      <td>2.794682</td>\n",
       "      <td>1</td>\n",
       "      <td>23</td>\n",
       "      <td>54.59815</td>\n",
       "      <td>92</td>\n",
       "      <td>2.320596</td>\n",
       "      <td>2.971828</td>\n",
       "      <td>2.839412</td>\n",
       "      <td>2.140695</td>\n",
       "      <td>2.114743</td>\n",
       "      <td>1.96799</td>\n",
       "      <td>5.754603</td>\n",
       "      <td>1096.633158</td>\n",
       "    </tr>\n",
       "    <tr>\n",
       "      <th>2</th>\n",
       "      <td>281</td>\n",
       "      <td>760</td>\n",
       "      <td>44.701184</td>\n",
       "      <td>4.325308</td>\n",
       "      <td>1</td>\n",
       "      <td>5</td>\n",
       "      <td>54.59815</td>\n",
       "      <td>74</td>\n",
       "      <td>3.027400</td>\n",
       "      <td>1.934336</td>\n",
       "      <td>2.087798</td>\n",
       "      <td>2.140695</td>\n",
       "      <td>2.114743</td>\n",
       "      <td>1.96799</td>\n",
       "      <td>5.754603</td>\n",
       "      <td>1096.633158</td>\n",
       "    </tr>\n",
       "    <tr>\n",
       "      <th>3</th>\n",
       "      <td>132</td>\n",
       "      <td>1008</td>\n",
       "      <td>44.701184</td>\n",
       "      <td>6.165481</td>\n",
       "      <td>1</td>\n",
       "      <td>20</td>\n",
       "      <td>54.59815</td>\n",
       "      <td>15</td>\n",
       "      <td>2.258101</td>\n",
       "      <td>2.258101</td>\n",
       "      <td>2.213364</td>\n",
       "      <td>2.140695</td>\n",
       "      <td>2.114743</td>\n",
       "      <td>1.96799</td>\n",
       "      <td>5.754603</td>\n",
       "      <td>403.428793</td>\n",
       "    </tr>\n",
       "    <tr>\n",
       "      <th>4</th>\n",
       "      <td>221</td>\n",
       "      <td>557</td>\n",
       "      <td>36.598234</td>\n",
       "      <td>2.189939</td>\n",
       "      <td>1</td>\n",
       "      <td>23</td>\n",
       "      <td>54.59815</td>\n",
       "      <td>92</td>\n",
       "      <td>2.645751</td>\n",
       "      <td>2.258101</td>\n",
       "      <td>2.213364</td>\n",
       "      <td>2.140695</td>\n",
       "      <td>2.114743</td>\n",
       "      <td>1.96799</td>\n",
       "      <td>5.754603</td>\n",
       "      <td>1096.633158</td>\n",
       "    </tr>\n",
       "  </tbody>\n",
       "</table>\n",
       "</div>"
      ],
      "text/plain": [
       "   CITY  LOCALITY     RATING     VOTES  COST  TITLE_1   TITLE_2  CUISINES_1  \\\n",
       "0   327      1307  73.699794  4.873262     1        5  54.59815          74   \n",
       "1   281       417  66.686331  2.794682     1       23  54.59815          92   \n",
       "2   281       760  44.701184  4.325308     1        5  54.59815          74   \n",
       "3   132      1008  44.701184  6.165481     1       20  54.59815          15   \n",
       "4   221       557  36.598234  2.189939     1       23  54.59815          92   \n",
       "\n",
       "   CUISINES_2  CUISINES_3  CUISINES_4  CUISINES_5  CUISINES_6  CUISINES_7  \\\n",
       "0    2.189939    2.871622    2.575510    2.140695    2.114743     1.96799   \n",
       "1    2.320596    2.971828    2.839412    2.140695    2.114743     1.96799   \n",
       "2    3.027400    1.934336    2.087798    2.140695    2.114743     1.96799   \n",
       "3    2.258101    2.258101    2.213364    2.140695    2.114743     1.96799   \n",
       "4    2.645751    2.258101    2.213364    2.140695    2.114743     1.96799   \n",
       "\n",
       "   CUISINES_8         Days  \n",
       "0    5.754603  1096.633158  \n",
       "1    5.754603  1096.633158  \n",
       "2    5.754603  1096.633158  \n",
       "3    5.754603   403.428793  \n",
       "4    5.754603  1096.633158  "
      ]
     },
     "execution_count": 1237,
     "metadata": {},
     "output_type": "execute_result"
    }
   ],
   "source": [
    "for i in test_data.columns:\n",
    "    if(((test_data[i].skew())< -0.55) & (i!='COST')):\n",
    "        test_data[i]=np.e**(test_data[i])\n",
    "    if(((test_data[i].skew())> 0.55) & (i!='COST')):\n",
    "        test_data[i]=(test_data[i])**(1/4)\n",
    "test_data.head()"
   ]
  },
  {
   "cell_type": "code",
   "execution_count": 1238,
   "metadata": {},
   "outputs": [],
   "source": [
    "test_data.drop('COST',axis=1,inplace=True)\n",
    "x_test_scaled=ss.transform(train_data)"
   ]
  },
  {
   "cell_type": "code",
   "execution_count": 1240,
   "metadata": {},
   "outputs": [
    {
     "data": {
      "text/html": [
       "<div>\n",
       "<style scoped>\n",
       "    .dataframe tbody tr th:only-of-type {\n",
       "        vertical-align: middle;\n",
       "    }\n",
       "\n",
       "    .dataframe tbody tr th {\n",
       "        vertical-align: top;\n",
       "    }\n",
       "\n",
       "    .dataframe thead th {\n",
       "        text-align: right;\n",
       "    }\n",
       "</style>\n",
       "<table border=\"1\" class=\"dataframe\">\n",
       "  <thead>\n",
       "    <tr style=\"text-align: right;\">\n",
       "      <th></th>\n",
       "      <th>0</th>\n",
       "      <th>1</th>\n",
       "      <th>2</th>\n",
       "      <th>3</th>\n",
       "      <th>4</th>\n",
       "      <th>5</th>\n",
       "      <th>6</th>\n",
       "      <th>7</th>\n",
       "      <th>8</th>\n",
       "      <th>9</th>\n",
       "      <th>10</th>\n",
       "      <th>11</th>\n",
       "      <th>12</th>\n",
       "      <th>13</th>\n",
       "      <th>14</th>\n",
       "    </tr>\n",
       "  </thead>\n",
       "  <tbody>\n",
       "    <tr>\n",
       "      <th>0</th>\n",
       "      <td>1.401061</td>\n",
       "      <td>1.206723</td>\n",
       "      <td>1.510248</td>\n",
       "      <td>1.026217</td>\n",
       "      <td>-0.959435</td>\n",
       "      <td>-0.004255</td>\n",
       "      <td>0.757964</td>\n",
       "      <td>-0.582711</td>\n",
       "      <td>1.888497</td>\n",
       "      <td>2.277168</td>\n",
       "      <td>0.053899</td>\n",
       "      <td>-34.79039</td>\n",
       "      <td>-154.012603</td>\n",
       "      <td>-1.245397</td>\n",
       "      <td>0.314319</td>\n",
       "    </tr>\n",
       "    <tr>\n",
       "      <th>1</th>\n",
       "      <td>0.976740</td>\n",
       "      <td>-0.736746</td>\n",
       "      <td>1.189502</td>\n",
       "      <td>-0.748219</td>\n",
       "      <td>1.054619</td>\n",
       "      <td>-0.004255</td>\n",
       "      <td>1.373643</td>\n",
       "      <td>-0.245870</td>\n",
       "      <td>2.235847</td>\n",
       "      <td>3.944236</td>\n",
       "      <td>0.053899</td>\n",
       "      <td>-34.79039</td>\n",
       "      <td>-154.012603</td>\n",
       "      <td>-1.245397</td>\n",
       "      <td>0.314319</td>\n",
       "    </tr>\n",
       "    <tr>\n",
       "      <th>2</th>\n",
       "      <td>0.976740</td>\n",
       "      <td>0.012254</td>\n",
       "      <td>0.184058</td>\n",
       "      <td>0.558441</td>\n",
       "      <td>-0.959435</td>\n",
       "      <td>-0.004255</td>\n",
       "      <td>0.757964</td>\n",
       "      <td>1.576307</td>\n",
       "      <td>-1.360465</td>\n",
       "      <td>-0.803709</td>\n",
       "      <td>0.053899</td>\n",
       "      <td>-34.79039</td>\n",
       "      <td>-154.012603</td>\n",
       "      <td>-1.245397</td>\n",
       "      <td>0.314319</td>\n",
       "    </tr>\n",
       "    <tr>\n",
       "      <th>3</th>\n",
       "      <td>-0.397692</td>\n",
       "      <td>0.553805</td>\n",
       "      <td>0.184058</td>\n",
       "      <td>2.129354</td>\n",
       "      <td>0.718944</td>\n",
       "      <td>-0.004255</td>\n",
       "      <td>-1.260094</td>\n",
       "      <td>-0.406985</td>\n",
       "      <td>-0.238183</td>\n",
       "      <td>-0.010507</td>\n",
       "      <td>0.053899</td>\n",
       "      <td>-34.79039</td>\n",
       "      <td>-154.012603</td>\n",
       "      <td>-1.245397</td>\n",
       "      <td>-2.405070</td>\n",
       "    </tr>\n",
       "    <tr>\n",
       "      <th>4</th>\n",
       "      <td>0.423277</td>\n",
       "      <td>-0.431032</td>\n",
       "      <td>-0.186513</td>\n",
       "      <td>-1.264474</td>\n",
       "      <td>1.054619</td>\n",
       "      <td>-0.004255</td>\n",
       "      <td>1.373643</td>\n",
       "      <td>0.592397</td>\n",
       "      <td>-0.238183</td>\n",
       "      <td>-0.010507</td>\n",
       "      <td>0.053899</td>\n",
       "      <td>-34.79039</td>\n",
       "      <td>-154.012603</td>\n",
       "      <td>-1.245397</td>\n",
       "      <td>0.314319</td>\n",
       "    </tr>\n",
       "  </tbody>\n",
       "</table>\n",
       "</div>"
      ],
      "text/plain": [
       "          0         1         2         3         4         5         6  \\\n",
       "0  1.401061  1.206723  1.510248  1.026217 -0.959435 -0.004255  0.757964   \n",
       "1  0.976740 -0.736746  1.189502 -0.748219  1.054619 -0.004255  1.373643   \n",
       "2  0.976740  0.012254  0.184058  0.558441 -0.959435 -0.004255  0.757964   \n",
       "3 -0.397692  0.553805  0.184058  2.129354  0.718944 -0.004255 -1.260094   \n",
       "4  0.423277 -0.431032 -0.186513 -1.264474  1.054619 -0.004255  1.373643   \n",
       "\n",
       "          7         8         9        10        11          12        13  \\\n",
       "0 -0.582711  1.888497  2.277168  0.053899 -34.79039 -154.012603 -1.245397   \n",
       "1 -0.245870  2.235847  3.944236  0.053899 -34.79039 -154.012603 -1.245397   \n",
       "2  1.576307 -1.360465 -0.803709  0.053899 -34.79039 -154.012603 -1.245397   \n",
       "3 -0.406985 -0.238183 -0.010507  0.053899 -34.79039 -154.012603 -1.245397   \n",
       "4  0.592397 -0.238183 -0.010507  0.053899 -34.79039 -154.012603 -1.245397   \n",
       "\n",
       "         14  \n",
       "0  0.314319  \n",
       "1  0.314319  \n",
       "2  0.314319  \n",
       "3 -2.405070  \n",
       "4  0.314319  "
      ]
     },
     "execution_count": 1240,
     "metadata": {},
     "output_type": "execute_result"
    }
   ],
   "source": [
    "pd.DataFrame(x_test_scaled).head()"
   ]
  },
  {
   "cell_type": "code",
   "execution_count": 1242,
   "metadata": {},
   "outputs": [],
   "source": [
    "perdiction=joblib.load('Restaurant_food_predictor_model.obj').predict(x_test_scaled)"
   ]
  },
  {
   "cell_type": "code",
   "execution_count": 1245,
   "metadata": {},
   "outputs": [
    {
     "data": {
      "text/html": [
       "<div>\n",
       "<style scoped>\n",
       "    .dataframe tbody tr th:only-of-type {\n",
       "        vertical-align: middle;\n",
       "    }\n",
       "\n",
       "    .dataframe tbody tr th {\n",
       "        vertical-align: top;\n",
       "    }\n",
       "\n",
       "    .dataframe thead th {\n",
       "        text-align: right;\n",
       "    }\n",
       "</style>\n",
       "<table border=\"1\" class=\"dataframe\">\n",
       "  <thead>\n",
       "    <tr style=\"text-align: right;\">\n",
       "      <th></th>\n",
       "      <th>0</th>\n",
       "    </tr>\n",
       "  </thead>\n",
       "  <tbody>\n",
       "    <tr>\n",
       "      <th>0</th>\n",
       "      <td>957.579364</td>\n",
       "    </tr>\n",
       "    <tr>\n",
       "      <th>1</th>\n",
       "      <td>297.627365</td>\n",
       "    </tr>\n",
       "    <tr>\n",
       "      <th>2</th>\n",
       "      <td>636.883947</td>\n",
       "    </tr>\n",
       "    <tr>\n",
       "      <th>3</th>\n",
       "      <td>357.134286</td>\n",
       "    </tr>\n",
       "    <tr>\n",
       "      <th>4</th>\n",
       "      <td>214.346488</td>\n",
       "    </tr>\n",
       "    <tr>\n",
       "      <th>...</th>\n",
       "      <td>...</td>\n",
       "    </tr>\n",
       "    <tr>\n",
       "      <th>4226</th>\n",
       "      <td>786.737207</td>\n",
       "    </tr>\n",
       "    <tr>\n",
       "      <th>4227</th>\n",
       "      <td>494.670370</td>\n",
       "    </tr>\n",
       "    <tr>\n",
       "      <th>4228</th>\n",
       "      <td>363.430281</td>\n",
       "    </tr>\n",
       "    <tr>\n",
       "      <th>4229</th>\n",
       "      <td>254.999152</td>\n",
       "    </tr>\n",
       "    <tr>\n",
       "      <th>4230</th>\n",
       "      <td>390.595543</td>\n",
       "    </tr>\n",
       "  </tbody>\n",
       "</table>\n",
       "<p>4231 rows × 1 columns</p>\n",
       "</div>"
      ],
      "text/plain": [
       "               0\n",
       "0     957.579364\n",
       "1     297.627365\n",
       "2     636.883947\n",
       "3     357.134286\n",
       "4     214.346488\n",
       "...          ...\n",
       "4226  786.737207\n",
       "4227  494.670370\n",
       "4228  363.430281\n",
       "4229  254.999152\n",
       "4230  390.595543\n",
       "\n",
       "[4231 rows x 1 columns]"
      ]
     },
     "execution_count": 1245,
     "metadata": {},
     "output_type": "execute_result"
    }
   ],
   "source": [
    "##########   Taking anitlog of prediction since we have trained our model on log value of target value\n",
    "predicted_food_cost=pd.DataFrame(np.e**perdiction)\n",
    "predicted_food_cost"
   ]
  },
  {
   "cell_type": "code",
   "execution_count": 1246,
   "metadata": {},
   "outputs": [],
   "source": [
    "predicted_food_cost.to_csv('predicted_food_cost.csv')"
   ]
  },
  {
   "cell_type": "code",
   "execution_count": null,
   "metadata": {},
   "outputs": [],
   "source": []
  }
 ],
 "metadata": {
  "kernelspec": {
   "display_name": "Python 3",
   "language": "python",
   "name": "python3"
  },
  "language_info": {
   "codemirror_mode": {
    "name": "ipython",
    "version": 3
   },
   "file_extension": ".py",
   "mimetype": "text/x-python",
   "name": "python",
   "nbconvert_exporter": "python",
   "pygments_lexer": "ipython3",
   "version": "3.7.6"
  }
 },
 "nbformat": 4,
 "nbformat_minor": 4
}
