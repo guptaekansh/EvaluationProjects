{
 "cells": [
  {
   "cell_type": "code",
   "execution_count": 1,
   "metadata": {},
   "outputs": [],
   "source": [
    "#importing libraries\n",
    "import pandas as pd\n",
    "import numpy as np\n",
    "import matplotlib.pyplot as plt\n",
    "%matplotlib inline\n",
    "import warnings\n",
    "warnings.filterwarnings('ignore')"
   ]
  },
  {
   "cell_type": "markdown",
   "metadata": {},
   "source": [
    "## Loading data"
   ]
  },
  {
   "cell_type": "code",
   "execution_count": 2,
   "metadata": {},
   "outputs": [],
   "source": [
    "Doctor_data=pd.read_excel('Final_Train.xlsx')"
   ]
  },
  {
   "cell_type": "markdown",
   "metadata": {},
   "source": [
    "## EDA"
   ]
  },
  {
   "cell_type": "code",
   "execution_count": 3,
   "metadata": {},
   "outputs": [
    {
     "data": {
      "text/html": [
       "<div>\n",
       "<style scoped>\n",
       "    .dataframe tbody tr th:only-of-type {\n",
       "        vertical-align: middle;\n",
       "    }\n",
       "\n",
       "    .dataframe tbody tr th {\n",
       "        vertical-align: top;\n",
       "    }\n",
       "\n",
       "    .dataframe thead th {\n",
       "        text-align: right;\n",
       "    }\n",
       "</style>\n",
       "<table border=\"1\" class=\"dataframe\">\n",
       "  <thead>\n",
       "    <tr style=\"text-align: right;\">\n",
       "      <th></th>\n",
       "      <th>Qualification</th>\n",
       "      <th>Experience</th>\n",
       "      <th>Rating</th>\n",
       "      <th>Place</th>\n",
       "      <th>Profile</th>\n",
       "      <th>Miscellaneous_Info</th>\n",
       "      <th>Fees</th>\n",
       "    </tr>\n",
       "  </thead>\n",
       "  <tbody>\n",
       "    <tr>\n",
       "      <th>0</th>\n",
       "      <td>BHMS, MD - Homeopathy</td>\n",
       "      <td>24 years experience</td>\n",
       "      <td>100%</td>\n",
       "      <td>Kakkanad, Ernakulam</td>\n",
       "      <td>Homeopath</td>\n",
       "      <td>100% 16 Feedback Kakkanad, Ernakulam</td>\n",
       "      <td>100</td>\n",
       "    </tr>\n",
       "    <tr>\n",
       "      <th>1</th>\n",
       "      <td>BAMS, MD - Ayurveda Medicine</td>\n",
       "      <td>12 years experience</td>\n",
       "      <td>98%</td>\n",
       "      <td>Whitefield, Bangalore</td>\n",
       "      <td>Ayurveda</td>\n",
       "      <td>98% 76 Feedback Whitefield, Bangalore</td>\n",
       "      <td>350</td>\n",
       "    </tr>\n",
       "    <tr>\n",
       "      <th>2</th>\n",
       "      <td>MBBS, MS - Otorhinolaryngology</td>\n",
       "      <td>9 years experience</td>\n",
       "      <td>NaN</td>\n",
       "      <td>Mathikere - BEL, Bangalore</td>\n",
       "      <td>ENT Specialist</td>\n",
       "      <td>NaN</td>\n",
       "      <td>300</td>\n",
       "    </tr>\n",
       "    <tr>\n",
       "      <th>3</th>\n",
       "      <td>BSc - Zoology, BAMS</td>\n",
       "      <td>12 years experience</td>\n",
       "      <td>NaN</td>\n",
       "      <td>Bannerghatta Road, Bangalore</td>\n",
       "      <td>Ayurveda</td>\n",
       "      <td>Bannerghatta Road, Bangalore ₹250 Available on...</td>\n",
       "      <td>250</td>\n",
       "    </tr>\n",
       "    <tr>\n",
       "      <th>4</th>\n",
       "      <td>BAMS</td>\n",
       "      <td>20 years experience</td>\n",
       "      <td>100%</td>\n",
       "      <td>Keelkattalai, Chennai</td>\n",
       "      <td>Ayurveda</td>\n",
       "      <td>100% 4 Feedback Keelkattalai, Chennai</td>\n",
       "      <td>250</td>\n",
       "    </tr>\n",
       "  </tbody>\n",
       "</table>\n",
       "</div>"
      ],
      "text/plain": [
       "                    Qualification           Experience Rating  \\\n",
       "0           BHMS, MD - Homeopathy  24 years experience   100%   \n",
       "1    BAMS, MD - Ayurveda Medicine  12 years experience    98%   \n",
       "2  MBBS, MS - Otorhinolaryngology   9 years experience    NaN   \n",
       "3             BSc - Zoology, BAMS  12 years experience    NaN   \n",
       "4                            BAMS  20 years experience   100%   \n",
       "\n",
       "                          Place         Profile  \\\n",
       "0           Kakkanad, Ernakulam       Homeopath   \n",
       "1         Whitefield, Bangalore        Ayurveda   \n",
       "2    Mathikere - BEL, Bangalore  ENT Specialist   \n",
       "3  Bannerghatta Road, Bangalore        Ayurveda   \n",
       "4         Keelkattalai, Chennai        Ayurveda   \n",
       "\n",
       "                                  Miscellaneous_Info  Fees  \n",
       "0               100% 16 Feedback Kakkanad, Ernakulam   100  \n",
       "1              98% 76 Feedback Whitefield, Bangalore   350  \n",
       "2                                                NaN   300  \n",
       "3  Bannerghatta Road, Bangalore ₹250 Available on...   250  \n",
       "4              100% 4 Feedback Keelkattalai, Chennai   250  "
      ]
     },
     "execution_count": 3,
     "metadata": {},
     "output_type": "execute_result"
    }
   ],
   "source": [
    "Doctor_data.head()"
   ]
  },
  {
   "cell_type": "code",
   "execution_count": 4,
   "metadata": {},
   "outputs": [
    {
     "name": "stdout",
     "output_type": "stream",
     "text": [
      "<class 'pandas.core.frame.DataFrame'>\n",
      "RangeIndex: 5961 entries, 0 to 5960\n",
      "Data columns (total 7 columns):\n",
      " #   Column              Non-Null Count  Dtype \n",
      "---  ------              --------------  ----- \n",
      " 0   Qualification       5961 non-null   object\n",
      " 1   Experience          5961 non-null   object\n",
      " 2   Rating              2659 non-null   object\n",
      " 3   Place               5936 non-null   object\n",
      " 4   Profile             5961 non-null   object\n",
      " 5   Miscellaneous_Info  3341 non-null   object\n",
      " 6   Fees                5961 non-null   int64 \n",
      "dtypes: int64(1), object(6)\n",
      "memory usage: 326.1+ KB\n"
     ]
    }
   ],
   "source": [
    "Doctor_data.info()"
   ]
  },
  {
   "cell_type": "markdown",
   "metadata": {},
   "source": [
    "Obs: Dataset has 7 attributes. Fees attribute is int type and rest all are object type"
   ]
  },
  {
   "cell_type": "code",
   "execution_count": 5,
   "metadata": {},
   "outputs": [
    {
     "data": {
      "text/plain": [
       "(5961, 7)"
      ]
     },
     "execution_count": 5,
     "metadata": {},
     "output_type": "execute_result"
    }
   ],
   "source": [
    "Doctor_data.shape"
   ]
  },
  {
   "cell_type": "markdown",
   "metadata": {},
   "source": [
    "Obs: Dataset has 5961 rows and 7 columns"
   ]
  },
  {
   "cell_type": "markdown",
   "metadata": {},
   "source": [
    "#### Checking for null values:"
   ]
  },
  {
   "cell_type": "code",
   "execution_count": 6,
   "metadata": {},
   "outputs": [
    {
     "data": {
      "text/plain": [
       "Qualification            0\n",
       "Experience               0\n",
       "Rating                3302\n",
       "Place                   25\n",
       "Profile                  0\n",
       "Miscellaneous_Info    2620\n",
       "Fees                     0\n",
       "dtype: int64"
      ]
     },
     "execution_count": 6,
     "metadata": {},
     "output_type": "execute_result"
    }
   ],
   "source": [
    "Doctor_data.isnull().sum()"
   ]
  },
  {
   "cell_type": "markdown",
   "metadata": {},
   "source": [
    "Obs:  Rating attribute has 3302  , Misc. info has 2620  and Place has 25 null values"
   ]
  },
  {
   "cell_type": "markdown",
   "metadata": {},
   "source": [
    "Dropping Miscellaneous_Info attributes since these contains approx 50%  Null values"
   ]
  },
  {
   "cell_type": "code",
   "execution_count": 7,
   "metadata": {},
   "outputs": [],
   "source": [
    "doctor_data=Doctor_data.drop(['Miscellaneous_Info'],axis=1)"
   ]
  },
  {
   "cell_type": "markdown",
   "metadata": {},
   "source": [
    "### Data cleaning"
   ]
  },
  {
   "cell_type": "markdown",
   "metadata": {},
   "source": [
    "#### Removing String 'years experience' from attribute Experience and converting it to int type"
   ]
  },
  {
   "cell_type": "code",
   "execution_count": 8,
   "metadata": {},
   "outputs": [],
   "source": [
    "doctor_data['Experience'].replace(regex=['years experience'],value=\"\",inplace=True)\n",
    "doctor_data['Experience']=doctor_data['Experience'].astype('str').astype('int')"
   ]
  },
  {
   "cell_type": "code",
   "execution_count": 9,
   "metadata": {},
   "outputs": [
    {
     "data": {
      "text/html": [
       "<div>\n",
       "<style scoped>\n",
       "    .dataframe tbody tr th:only-of-type {\n",
       "        vertical-align: middle;\n",
       "    }\n",
       "\n",
       "    .dataframe tbody tr th {\n",
       "        vertical-align: top;\n",
       "    }\n",
       "\n",
       "    .dataframe thead th {\n",
       "        text-align: right;\n",
       "    }\n",
       "</style>\n",
       "<table border=\"1\" class=\"dataframe\">\n",
       "  <thead>\n",
       "    <tr style=\"text-align: right;\">\n",
       "      <th></th>\n",
       "      <th>Qualification</th>\n",
       "      <th>Experience</th>\n",
       "      <th>Rating</th>\n",
       "      <th>Place</th>\n",
       "      <th>Profile</th>\n",
       "      <th>Fees</th>\n",
       "    </tr>\n",
       "  </thead>\n",
       "  <tbody>\n",
       "    <tr>\n",
       "      <th>0</th>\n",
       "      <td>BHMS, MD - Homeopathy</td>\n",
       "      <td>24</td>\n",
       "      <td>100%</td>\n",
       "      <td>Kakkanad, Ernakulam</td>\n",
       "      <td>Homeopath</td>\n",
       "      <td>100</td>\n",
       "    </tr>\n",
       "    <tr>\n",
       "      <th>1</th>\n",
       "      <td>BAMS, MD - Ayurveda Medicine</td>\n",
       "      <td>12</td>\n",
       "      <td>98%</td>\n",
       "      <td>Whitefield, Bangalore</td>\n",
       "      <td>Ayurveda</td>\n",
       "      <td>350</td>\n",
       "    </tr>\n",
       "    <tr>\n",
       "      <th>2</th>\n",
       "      <td>MBBS, MS - Otorhinolaryngology</td>\n",
       "      <td>9</td>\n",
       "      <td>NaN</td>\n",
       "      <td>Mathikere - BEL, Bangalore</td>\n",
       "      <td>ENT Specialist</td>\n",
       "      <td>300</td>\n",
       "    </tr>\n",
       "    <tr>\n",
       "      <th>3</th>\n",
       "      <td>BSc - Zoology, BAMS</td>\n",
       "      <td>12</td>\n",
       "      <td>NaN</td>\n",
       "      <td>Bannerghatta Road, Bangalore</td>\n",
       "      <td>Ayurveda</td>\n",
       "      <td>250</td>\n",
       "    </tr>\n",
       "    <tr>\n",
       "      <th>4</th>\n",
       "      <td>BAMS</td>\n",
       "      <td>20</td>\n",
       "      <td>100%</td>\n",
       "      <td>Keelkattalai, Chennai</td>\n",
       "      <td>Ayurveda</td>\n",
       "      <td>250</td>\n",
       "    </tr>\n",
       "  </tbody>\n",
       "</table>\n",
       "</div>"
      ],
      "text/plain": [
       "                    Qualification  Experience Rating  \\\n",
       "0           BHMS, MD - Homeopathy          24   100%   \n",
       "1    BAMS, MD - Ayurveda Medicine          12    98%   \n",
       "2  MBBS, MS - Otorhinolaryngology           9    NaN   \n",
       "3             BSc - Zoology, BAMS          12    NaN   \n",
       "4                            BAMS          20   100%   \n",
       "\n",
       "                          Place         Profile  Fees  \n",
       "0           Kakkanad, Ernakulam       Homeopath   100  \n",
       "1         Whitefield, Bangalore        Ayurveda   350  \n",
       "2    Mathikere - BEL, Bangalore  ENT Specialist   300  \n",
       "3  Bannerghatta Road, Bangalore        Ayurveda   250  \n",
       "4         Keelkattalai, Chennai        Ayurveda   250  "
      ]
     },
     "execution_count": 9,
     "metadata": {},
     "output_type": "execute_result"
    }
   ],
   "source": [
    "doctor_data.head()"
   ]
  },
  {
   "cell_type": "markdown",
   "metadata": {},
   "source": [
    "#### Removing '%' symbol from Rating and fill nan values with '0' and converting attribute to int type"
   ]
  },
  {
   "cell_type": "code",
   "execution_count": 10,
   "metadata": {},
   "outputs": [],
   "source": [
    "doctor_data['Rating'].replace(regex=['%'],value=\"\",inplace=True)\n",
    "doctor_data['Rating']=doctor_data['Rating'].fillna('0')\n",
    "doctor_data['Rating']=doctor_data['Rating'].astype('int')"
   ]
  },
  {
   "cell_type": "markdown",
   "metadata": {},
   "source": [
    "#### Finding mean values of Rating for each Profile type"
   ]
  },
  {
   "cell_type": "code",
   "execution_count": 11,
   "metadata": {},
   "outputs": [
    {
     "data": {
      "text/plain": [
       "Profile\n",
       "Ayurveda            22.795165\n",
       "Dentist             61.617037\n",
       "Dermatologists      57.695358\n",
       "ENT Specialist      37.296703\n",
       "General Medicine    30.452685\n",
       "Homeopath           29.811388\n",
       "Name: Rating, dtype: float64"
      ]
     },
     "execution_count": 11,
     "metadata": {},
     "output_type": "execute_result"
    }
   ],
   "source": [
    "doctor_data.groupby('Profile').mean()['Rating']"
   ]
  },
  {
   "cell_type": "markdown",
   "metadata": {},
   "source": [
    "#### Replacing '0' ratings with their respective means:"
   ]
  },
  {
   "cell_type": "code",
   "execution_count": 12,
   "metadata": {},
   "outputs": [],
   "source": [
    "for i in range(5960):\n",
    "    if(doctor_data.iloc[i,2]==0):\n",
    "        if(doctor_data.iloc[i,4]=='Ayurveda'):\n",
    "                doctor_data.iloc[i,2]=23\n",
    "        if(doctor_data.iloc[i,4]=='Dentist'):\n",
    "                doctor_data.iloc[i,2]=61\n",
    "        if(doctor_data.iloc[i,4]=='Dermatologists'):\n",
    "                doctor_data.iloc[i,2]=58\n",
    "        if(doctor_data.iloc[i,4]=='ENT Specialist'):\n",
    "                doctor_data.iloc[i,2]=37\n",
    "        if(doctor_data.iloc[i,4]=='General Medicine'):\n",
    "                doctor_data.iloc[i,2]=30\n",
    "        if(doctor_data.iloc[i,4]=='Homeopath'):\n",
    "                doctor_data.iloc[i,2]=30\n",
    "            "
   ]
  },
  {
   "cell_type": "markdown",
   "metadata": {},
   "source": [
    "#### converting Rating on a scale of 0 to 10"
   ]
  },
  {
   "cell_type": "code",
   "execution_count": 13,
   "metadata": {},
   "outputs": [],
   "source": [
    "doctor_data['Rating']=doctor_data['Rating']/10\n",
    "doctor_data['Rating']=doctor_data['Rating'].round()\n",
    "doctor_data['Rating']=doctor_data['Rating'].astype('int')"
   ]
  },
  {
   "cell_type": "code",
   "execution_count": 14,
   "metadata": {},
   "outputs": [
    {
     "data": {
      "text/html": [
       "<div>\n",
       "<style scoped>\n",
       "    .dataframe tbody tr th:only-of-type {\n",
       "        vertical-align: middle;\n",
       "    }\n",
       "\n",
       "    .dataframe tbody tr th {\n",
       "        vertical-align: top;\n",
       "    }\n",
       "\n",
       "    .dataframe thead th {\n",
       "        text-align: right;\n",
       "    }\n",
       "</style>\n",
       "<table border=\"1\" class=\"dataframe\">\n",
       "  <thead>\n",
       "    <tr style=\"text-align: right;\">\n",
       "      <th></th>\n",
       "      <th>Qualification</th>\n",
       "      <th>Experience</th>\n",
       "      <th>Rating</th>\n",
       "      <th>Place</th>\n",
       "      <th>Profile</th>\n",
       "      <th>Fees</th>\n",
       "    </tr>\n",
       "  </thead>\n",
       "  <tbody>\n",
       "    <tr>\n",
       "      <th>0</th>\n",
       "      <td>BHMS, MD - Homeopathy</td>\n",
       "      <td>24</td>\n",
       "      <td>10</td>\n",
       "      <td>Kakkanad, Ernakulam</td>\n",
       "      <td>Homeopath</td>\n",
       "      <td>100</td>\n",
       "    </tr>\n",
       "    <tr>\n",
       "      <th>1</th>\n",
       "      <td>BAMS, MD - Ayurveda Medicine</td>\n",
       "      <td>12</td>\n",
       "      <td>10</td>\n",
       "      <td>Whitefield, Bangalore</td>\n",
       "      <td>Ayurveda</td>\n",
       "      <td>350</td>\n",
       "    </tr>\n",
       "    <tr>\n",
       "      <th>2</th>\n",
       "      <td>MBBS, MS - Otorhinolaryngology</td>\n",
       "      <td>9</td>\n",
       "      <td>4</td>\n",
       "      <td>Mathikere - BEL, Bangalore</td>\n",
       "      <td>ENT Specialist</td>\n",
       "      <td>300</td>\n",
       "    </tr>\n",
       "    <tr>\n",
       "      <th>3</th>\n",
       "      <td>BSc - Zoology, BAMS</td>\n",
       "      <td>12</td>\n",
       "      <td>2</td>\n",
       "      <td>Bannerghatta Road, Bangalore</td>\n",
       "      <td>Ayurveda</td>\n",
       "      <td>250</td>\n",
       "    </tr>\n",
       "    <tr>\n",
       "      <th>4</th>\n",
       "      <td>BAMS</td>\n",
       "      <td>20</td>\n",
       "      <td>10</td>\n",
       "      <td>Keelkattalai, Chennai</td>\n",
       "      <td>Ayurveda</td>\n",
       "      <td>250</td>\n",
       "    </tr>\n",
       "  </tbody>\n",
       "</table>\n",
       "</div>"
      ],
      "text/plain": [
       "                    Qualification  Experience  Rating  \\\n",
       "0           BHMS, MD - Homeopathy          24      10   \n",
       "1    BAMS, MD - Ayurveda Medicine          12      10   \n",
       "2  MBBS, MS - Otorhinolaryngology           9       4   \n",
       "3             BSc - Zoology, BAMS          12       2   \n",
       "4                            BAMS          20      10   \n",
       "\n",
       "                          Place         Profile  Fees  \n",
       "0           Kakkanad, Ernakulam       Homeopath   100  \n",
       "1         Whitefield, Bangalore        Ayurveda   350  \n",
       "2    Mathikere - BEL, Bangalore  ENT Specialist   300  \n",
       "3  Bannerghatta Road, Bangalore        Ayurveda   250  \n",
       "4         Keelkattalai, Chennai        Ayurveda   250  "
      ]
     },
     "execution_count": 14,
     "metadata": {},
     "output_type": "execute_result"
    }
   ],
   "source": [
    "doctor_data.head()"
   ]
  },
  {
   "cell_type": "code",
   "execution_count": 15,
   "metadata": {},
   "outputs": [
    {
     "data": {
      "text/plain": [
       "10    1872\n",
       "3     1368\n",
       "6      937\n",
       "2      600\n",
       "9      534\n",
       "4      427\n",
       "8      167\n",
       "7       52\n",
       "5        3\n",
       "1        1\n",
       "Name: Rating, dtype: int64"
      ]
     },
     "execution_count": 15,
     "metadata": {},
     "output_type": "execute_result"
    }
   ],
   "source": [
    "doctor_data['Rating'].value_counts()"
   ]
  },
  {
   "cell_type": "markdown",
   "metadata": {},
   "source": [
    "#### Separating city name from place attribute so that our model can perform better"
   ]
  },
  {
   "cell_type": "code",
   "execution_count": 16,
   "metadata": {},
   "outputs": [],
   "source": [
    "doctor_data['Place']=doctor_data['Place'].str.split(',')\n",
    "doctor_data['city']=doctor_data['Place'].str[1]\n",
    "doctor_data['Place']=doctor_data['Place'].str[0]"
   ]
  },
  {
   "cell_type": "code",
   "execution_count": 17,
   "metadata": {},
   "outputs": [
    {
     "data": {
      "text/html": [
       "<div>\n",
       "<style scoped>\n",
       "    .dataframe tbody tr th:only-of-type {\n",
       "        vertical-align: middle;\n",
       "    }\n",
       "\n",
       "    .dataframe tbody tr th {\n",
       "        vertical-align: top;\n",
       "    }\n",
       "\n",
       "    .dataframe thead th {\n",
       "        text-align: right;\n",
       "    }\n",
       "</style>\n",
       "<table border=\"1\" class=\"dataframe\">\n",
       "  <thead>\n",
       "    <tr style=\"text-align: right;\">\n",
       "      <th></th>\n",
       "      <th>Qualification</th>\n",
       "      <th>Experience</th>\n",
       "      <th>Rating</th>\n",
       "      <th>Place</th>\n",
       "      <th>Profile</th>\n",
       "      <th>Fees</th>\n",
       "      <th>city</th>\n",
       "    </tr>\n",
       "  </thead>\n",
       "  <tbody>\n",
       "    <tr>\n",
       "      <th>0</th>\n",
       "      <td>BHMS, MD - Homeopathy</td>\n",
       "      <td>24</td>\n",
       "      <td>10</td>\n",
       "      <td>Kakkanad</td>\n",
       "      <td>Homeopath</td>\n",
       "      <td>100</td>\n",
       "      <td>Ernakulam</td>\n",
       "    </tr>\n",
       "    <tr>\n",
       "      <th>1</th>\n",
       "      <td>BAMS, MD - Ayurveda Medicine</td>\n",
       "      <td>12</td>\n",
       "      <td>10</td>\n",
       "      <td>Whitefield</td>\n",
       "      <td>Ayurveda</td>\n",
       "      <td>350</td>\n",
       "      <td>Bangalore</td>\n",
       "    </tr>\n",
       "    <tr>\n",
       "      <th>2</th>\n",
       "      <td>MBBS, MS - Otorhinolaryngology</td>\n",
       "      <td>9</td>\n",
       "      <td>4</td>\n",
       "      <td>Mathikere - BEL</td>\n",
       "      <td>ENT Specialist</td>\n",
       "      <td>300</td>\n",
       "      <td>Bangalore</td>\n",
       "    </tr>\n",
       "    <tr>\n",
       "      <th>3</th>\n",
       "      <td>BSc - Zoology, BAMS</td>\n",
       "      <td>12</td>\n",
       "      <td>2</td>\n",
       "      <td>Bannerghatta Road</td>\n",
       "      <td>Ayurveda</td>\n",
       "      <td>250</td>\n",
       "      <td>Bangalore</td>\n",
       "    </tr>\n",
       "    <tr>\n",
       "      <th>4</th>\n",
       "      <td>BAMS</td>\n",
       "      <td>20</td>\n",
       "      <td>10</td>\n",
       "      <td>Keelkattalai</td>\n",
       "      <td>Ayurveda</td>\n",
       "      <td>250</td>\n",
       "      <td>Chennai</td>\n",
       "    </tr>\n",
       "  </tbody>\n",
       "</table>\n",
       "</div>"
      ],
      "text/plain": [
       "                    Qualification  Experience  Rating              Place  \\\n",
       "0           BHMS, MD - Homeopathy          24      10           Kakkanad   \n",
       "1    BAMS, MD - Ayurveda Medicine          12      10         Whitefield   \n",
       "2  MBBS, MS - Otorhinolaryngology           9       4    Mathikere - BEL   \n",
       "3             BSc - Zoology, BAMS          12       2  Bannerghatta Road   \n",
       "4                            BAMS          20      10       Keelkattalai   \n",
       "\n",
       "          Profile  Fees        city  \n",
       "0       Homeopath   100   Ernakulam  \n",
       "1        Ayurveda   350   Bangalore  \n",
       "2  ENT Specialist   300   Bangalore  \n",
       "3        Ayurveda   250   Bangalore  \n",
       "4        Ayurveda   250     Chennai  "
      ]
     },
     "execution_count": 17,
     "metadata": {},
     "output_type": "execute_result"
    }
   ],
   "source": [
    "doctor_data.head()"
   ]
  },
  {
   "cell_type": "code",
   "execution_count": 18,
   "metadata": {},
   "outputs": [
    {
     "data": {
      "text/plain": [
       "Qualification     0\n",
       "Experience        0\n",
       "Rating            0\n",
       "Place            25\n",
       "Profile           0\n",
       "Fees              0\n",
       "city             26\n",
       "dtype: int64"
      ]
     },
     "execution_count": 18,
     "metadata": {},
     "output_type": "execute_result"
    }
   ],
   "source": [
    "doctor_data.isnull().sum()"
   ]
  },
  {
   "cell_type": "markdown",
   "metadata": {},
   "source": [
    "#### Fixing NAN values of City attribute since we will use city attribute for our model building"
   ]
  },
  {
   "cell_type": "code",
   "execution_count": 19,
   "metadata": {},
   "outputs": [
    {
     "data": {
      "text/plain": [
       "0     Bangalore\n",
       "dtype: object"
      ]
     },
     "execution_count": 19,
     "metadata": {},
     "output_type": "execute_result"
    }
   ],
   "source": [
    "doctor_data['city'].mode()"
   ]
  },
  {
   "cell_type": "code",
   "execution_count": 20,
   "metadata": {},
   "outputs": [
    {
     "data": {
      "text/plain": [
       "array(['Ernakulam', 'Bangalore', 'Chennai', 'Delhi', 'Hyderabad',\n",
       "       'Coimbatore', 'Mumbai', 'Thiruvananthapuram', 'Sector 5'],\n",
       "      dtype=object)"
      ]
     },
     "execution_count": 20,
     "metadata": {},
     "output_type": "execute_result"
    }
   ],
   "source": [
    "#Fixing Null values for city Attribute\n",
    "doctor_data['city'].fillna('Bangalore',inplace=True)\n",
    "doctor_data['city']=doctor_data['city'].str.strip()\n",
    "doctor_data['city'].unique()"
   ]
  },
  {
   "cell_type": "code",
   "execution_count": 21,
   "metadata": {},
   "outputs": [],
   "source": [
    "doctor_data['qualification-']=''"
   ]
  },
  {
   "cell_type": "markdown",
   "metadata": {},
   "source": [
    "#### Transforming Qualification attribute in a simple form by importance to the bachelor's degree of each doctor"
   ]
  },
  {
   "cell_type": "code",
   "execution_count": 22,
   "metadata": {},
   "outputs": [],
   "source": [
    "import re\n",
    "col=['MBBS','BAMS','BHMS','DHMS','BDS','BEMS','MDS','DAM','FWFO','FICD','BSc','DLO','DNB','MD - Dermatology','MD - Physician',\n",
    "     'MD - Medicine','MD - Homeopathy','MD - Ayurveda Medicine','MS - Ayurveda','MS - Otorhinolaryngology']\n",
    "for i in range(5961):\n",
    "    k=doctor_data.iloc[i,0]\n",
    "    for j in col:\n",
    "        if(re.search(j,k)):\n",
    "            doctor_data.iloc[i,-1]=j\n",
    "            break\n",
    "    if(doctor_data.iloc[i,-1]==''):\n",
    "        doctor_data.iloc[i,-1]=k\n",
    "doctor_data['qualification-']=doctor_data['qualification-'].str.strip()"
   ]
  },
  {
   "cell_type": "code",
   "execution_count": 23,
   "metadata": {},
   "outputs": [
    {
     "data": {
      "text/html": [
       "<div>\n",
       "<style scoped>\n",
       "    .dataframe tbody tr th:only-of-type {\n",
       "        vertical-align: middle;\n",
       "    }\n",
       "\n",
       "    .dataframe tbody tr th {\n",
       "        vertical-align: top;\n",
       "    }\n",
       "\n",
       "    .dataframe thead th {\n",
       "        text-align: right;\n",
       "    }\n",
       "</style>\n",
       "<table border=\"1\" class=\"dataframe\">\n",
       "  <thead>\n",
       "    <tr style=\"text-align: right;\">\n",
       "      <th></th>\n",
       "      <th>Qualification</th>\n",
       "      <th>Experience</th>\n",
       "      <th>Rating</th>\n",
       "      <th>Place</th>\n",
       "      <th>Profile</th>\n",
       "      <th>Fees</th>\n",
       "      <th>city</th>\n",
       "      <th>qualification-</th>\n",
       "    </tr>\n",
       "  </thead>\n",
       "  <tbody>\n",
       "    <tr>\n",
       "      <th>0</th>\n",
       "      <td>BHMS, MD - Homeopathy</td>\n",
       "      <td>24</td>\n",
       "      <td>10</td>\n",
       "      <td>Kakkanad</td>\n",
       "      <td>Homeopath</td>\n",
       "      <td>100</td>\n",
       "      <td>Ernakulam</td>\n",
       "      <td>BHMS</td>\n",
       "    </tr>\n",
       "    <tr>\n",
       "      <th>1</th>\n",
       "      <td>BAMS, MD - Ayurveda Medicine</td>\n",
       "      <td>12</td>\n",
       "      <td>10</td>\n",
       "      <td>Whitefield</td>\n",
       "      <td>Ayurveda</td>\n",
       "      <td>350</td>\n",
       "      <td>Bangalore</td>\n",
       "      <td>BAMS</td>\n",
       "    </tr>\n",
       "    <tr>\n",
       "      <th>2</th>\n",
       "      <td>MBBS, MS - Otorhinolaryngology</td>\n",
       "      <td>9</td>\n",
       "      <td>4</td>\n",
       "      <td>Mathikere - BEL</td>\n",
       "      <td>ENT Specialist</td>\n",
       "      <td>300</td>\n",
       "      <td>Bangalore</td>\n",
       "      <td>MBBS</td>\n",
       "    </tr>\n",
       "    <tr>\n",
       "      <th>3</th>\n",
       "      <td>BSc - Zoology, BAMS</td>\n",
       "      <td>12</td>\n",
       "      <td>2</td>\n",
       "      <td>Bannerghatta Road</td>\n",
       "      <td>Ayurveda</td>\n",
       "      <td>250</td>\n",
       "      <td>Bangalore</td>\n",
       "      <td>BAMS</td>\n",
       "    </tr>\n",
       "    <tr>\n",
       "      <th>4</th>\n",
       "      <td>BAMS</td>\n",
       "      <td>20</td>\n",
       "      <td>10</td>\n",
       "      <td>Keelkattalai</td>\n",
       "      <td>Ayurveda</td>\n",
       "      <td>250</td>\n",
       "      <td>Chennai</td>\n",
       "      <td>BAMS</td>\n",
       "    </tr>\n",
       "  </tbody>\n",
       "</table>\n",
       "</div>"
      ],
      "text/plain": [
       "                    Qualification  Experience  Rating              Place  \\\n",
       "0           BHMS, MD - Homeopathy          24      10           Kakkanad   \n",
       "1    BAMS, MD - Ayurveda Medicine          12      10         Whitefield   \n",
       "2  MBBS, MS - Otorhinolaryngology           9       4    Mathikere - BEL   \n",
       "3             BSc - Zoology, BAMS          12       2  Bannerghatta Road   \n",
       "4                            BAMS          20      10       Keelkattalai   \n",
       "\n",
       "          Profile  Fees       city qualification-  \n",
       "0       Homeopath   100  Ernakulam           BHMS  \n",
       "1        Ayurveda   350  Bangalore           BAMS  \n",
       "2  ENT Specialist   300  Bangalore           MBBS  \n",
       "3        Ayurveda   250  Bangalore           BAMS  \n",
       "4        Ayurveda   250    Chennai           BAMS  "
      ]
     },
     "execution_count": 23,
     "metadata": {},
     "output_type": "execute_result"
    }
   ],
   "source": [
    "doctor_data.head()"
   ]
  },
  {
   "cell_type": "code",
   "execution_count": 24,
   "metadata": {},
   "outputs": [
    {
     "name": "stdout",
     "output_type": "stream",
     "text": [
      "['BHMS' 'BAMS' 'MBBS' 'BDS' 'DHMS' 'MD - Dermatology'\n",
      " 'Get inspired by remarkable stories of people like you'\n",
      " 'PhD - Orthodontics & Dentofacial Orthopaedics, MOrth' 'DLO' 'MDS'\n",
      " 'MD - Ayurveda Medicine' 'GCEH' 'MS - Otorhinolaryngology' 'BSAM'\n",
      " 'MD - Skin & VD' '39 years experience' 'LCEH'\n",
      " 'Doctor of Homeopathic Medicine (HMD)' 'MS - ENT'\n",
      " 'GCEH, Certificate in Child Health (CCH)' 'MD - Homeopathy'\n",
      " 'MD - General Medicine' 'MD - Physician' 'BSAM, BNYS'\n",
      " 'Diploma in Dermatology' 'G.A.M.S' 'DNB'\n",
      " 'Fellowship in Oral implantlogy, Certified Advance Course In Endodontics, Certified in Orthodontics, Certification in Full Mouth Rehabilitation, Certified BPS Dentist, Certificate in Cosmetic Dentistry, Professional Implantology Training Course (PITC), Fellowship in Advanced Endoscopic Sinus Surgery, Degree in Dental Implant, Fellowship in Lasers & Cosmetology'\n",
      " 'Post Graduate Diploma in Diabetology (PGDD), MD - Diabetology' 'BEMS'\n",
      " 'MD - Medicine' 'M.D. (E.H)' 'DDVL' 'MS - Ayurveda' 'BIMS' 'LCEH, CGO'\n",
      " 'DDV' 'MD - General Medicine, PG in Diabetology (USA), FIMSA'\n",
      " 'FRCS - Otolaryngology, MS - Otrohinolaryngology, Fellowship In Pediatric Otolaryngology']\n"
     ]
    }
   ],
   "source": [
    "print(doctor_data['qualification-'].unique())"
   ]
  },
  {
   "cell_type": "code",
   "execution_count": 25,
   "metadata": {},
   "outputs": [
    {
     "data": {
      "text/html": [
       "<div>\n",
       "<style scoped>\n",
       "    .dataframe tbody tr th:only-of-type {\n",
       "        vertical-align: middle;\n",
       "    }\n",
       "\n",
       "    .dataframe tbody tr th {\n",
       "        vertical-align: top;\n",
       "    }\n",
       "\n",
       "    .dataframe thead th {\n",
       "        text-align: right;\n",
       "    }\n",
       "</style>\n",
       "<table border=\"1\" class=\"dataframe\">\n",
       "  <thead>\n",
       "    <tr style=\"text-align: right;\">\n",
       "      <th></th>\n",
       "      <th>Qualification</th>\n",
       "      <th>Experience</th>\n",
       "      <th>Rating</th>\n",
       "      <th>Place</th>\n",
       "      <th>Profile</th>\n",
       "      <th>Fees</th>\n",
       "      <th>city</th>\n",
       "      <th>qualification-</th>\n",
       "    </tr>\n",
       "  </thead>\n",
       "  <tbody>\n",
       "    <tr>\n",
       "      <th>0</th>\n",
       "      <td>BHMS, MD - Homeopathy</td>\n",
       "      <td>24</td>\n",
       "      <td>10</td>\n",
       "      <td>Kakkanad</td>\n",
       "      <td>Homeopath</td>\n",
       "      <td>100</td>\n",
       "      <td>Ernakulam</td>\n",
       "      <td>BHMS</td>\n",
       "    </tr>\n",
       "    <tr>\n",
       "      <th>1</th>\n",
       "      <td>BAMS, MD - Ayurveda Medicine</td>\n",
       "      <td>12</td>\n",
       "      <td>10</td>\n",
       "      <td>Whitefield</td>\n",
       "      <td>Ayurveda</td>\n",
       "      <td>350</td>\n",
       "      <td>Bangalore</td>\n",
       "      <td>BAMS</td>\n",
       "    </tr>\n",
       "    <tr>\n",
       "      <th>2</th>\n",
       "      <td>MBBS, MS - Otorhinolaryngology</td>\n",
       "      <td>9</td>\n",
       "      <td>4</td>\n",
       "      <td>Mathikere - BEL</td>\n",
       "      <td>ENT Specialist</td>\n",
       "      <td>300</td>\n",
       "      <td>Bangalore</td>\n",
       "      <td>MBBS</td>\n",
       "    </tr>\n",
       "    <tr>\n",
       "      <th>3</th>\n",
       "      <td>BSc - Zoology, BAMS</td>\n",
       "      <td>12</td>\n",
       "      <td>2</td>\n",
       "      <td>Bannerghatta Road</td>\n",
       "      <td>Ayurveda</td>\n",
       "      <td>250</td>\n",
       "      <td>Bangalore</td>\n",
       "      <td>BAMS</td>\n",
       "    </tr>\n",
       "    <tr>\n",
       "      <th>4</th>\n",
       "      <td>BAMS</td>\n",
       "      <td>20</td>\n",
       "      <td>10</td>\n",
       "      <td>Keelkattalai</td>\n",
       "      <td>Ayurveda</td>\n",
       "      <td>250</td>\n",
       "      <td>Chennai</td>\n",
       "      <td>BAMS</td>\n",
       "    </tr>\n",
       "  </tbody>\n",
       "</table>\n",
       "</div>"
      ],
      "text/plain": [
       "                    Qualification  Experience  Rating              Place  \\\n",
       "0           BHMS, MD - Homeopathy          24      10           Kakkanad   \n",
       "1    BAMS, MD - Ayurveda Medicine          12      10         Whitefield   \n",
       "2  MBBS, MS - Otorhinolaryngology           9       4    Mathikere - BEL   \n",
       "3             BSc - Zoology, BAMS          12       2  Bannerghatta Road   \n",
       "4                            BAMS          20      10       Keelkattalai   \n",
       "\n",
       "          Profile  Fees       city qualification-  \n",
       "0       Homeopath   100  Ernakulam           BHMS  \n",
       "1        Ayurveda   350  Bangalore           BAMS  \n",
       "2  ENT Specialist   300  Bangalore           MBBS  \n",
       "3        Ayurveda   250  Bangalore           BAMS  \n",
       "4        Ayurveda   250    Chennai           BAMS  "
      ]
     },
     "execution_count": 25,
     "metadata": {},
     "output_type": "execute_result"
    }
   ],
   "source": [
    "doctor_data.head()"
   ]
  },
  {
   "cell_type": "markdown",
   "metadata": {},
   "source": [
    "#### Rearranging columns:"
   ]
  },
  {
   "cell_type": "code",
   "execution_count": 26,
   "metadata": {},
   "outputs": [],
   "source": [
    "doctor_data=doctor_data[['Qualification','qualification-','Experience','Rating','Place','city','Profile','Fees']]"
   ]
  },
  {
   "cell_type": "code",
   "execution_count": 27,
   "metadata": {},
   "outputs": [
    {
     "data": {
      "text/plain": [
       "0    HSR Layout\n",
       "dtype: object"
      ]
     },
     "execution_count": 27,
     "metadata": {},
     "output_type": "execute_result"
    }
   ],
   "source": [
    "doctor_data['Place'].mode()"
   ]
  },
  {
   "cell_type": "code",
   "execution_count": 28,
   "metadata": {},
   "outputs": [],
   "source": [
    "doctor_data['Place'].fillna('HSR Layout',inplace=True)"
   ]
  },
  {
   "cell_type": "code",
   "execution_count": 29,
   "metadata": {},
   "outputs": [
    {
     "data": {
      "text/plain": [
       "Qualification     0\n",
       "qualification-    0\n",
       "Experience        0\n",
       "Rating            0\n",
       "Place             0\n",
       "city              0\n",
       "Profile           0\n",
       "Fees              0\n",
       "dtype: int64"
      ]
     },
     "execution_count": 29,
     "metadata": {},
     "output_type": "execute_result"
    }
   ],
   "source": [
    "doctor_data.isnull().sum()"
   ]
  },
  {
   "cell_type": "markdown",
   "metadata": {},
   "source": [
    "#### Observation: Null values removed from dataset"
   ]
  },
  {
   "cell_type": "markdown",
   "metadata": {},
   "source": [
    "#### Stats Summary"
   ]
  },
  {
   "cell_type": "code",
   "execution_count": 30,
   "metadata": {},
   "outputs": [
    {
     "data": {
      "text/html": [
       "<div>\n",
       "<style scoped>\n",
       "    .dataframe tbody tr th:only-of-type {\n",
       "        vertical-align: middle;\n",
       "    }\n",
       "\n",
       "    .dataframe tbody tr th {\n",
       "        vertical-align: top;\n",
       "    }\n",
       "\n",
       "    .dataframe thead th {\n",
       "        text-align: right;\n",
       "    }\n",
       "</style>\n",
       "<table border=\"1\" class=\"dataframe\">\n",
       "  <thead>\n",
       "    <tr style=\"text-align: right;\">\n",
       "      <th></th>\n",
       "      <th>Experience</th>\n",
       "      <th>Rating</th>\n",
       "      <th>Fees</th>\n",
       "    </tr>\n",
       "  </thead>\n",
       "  <tbody>\n",
       "    <tr>\n",
       "      <th>count</th>\n",
       "      <td>5961.000000</td>\n",
       "      <td>5961.000000</td>\n",
       "      <td>5961.000000</td>\n",
       "    </tr>\n",
       "    <tr>\n",
       "      <th>mean</th>\n",
       "      <td>17.303976</td>\n",
       "      <td>6.353967</td>\n",
       "      <td>307.944640</td>\n",
       "    </tr>\n",
       "    <tr>\n",
       "      <th>std</th>\n",
       "      <td>11.142798</td>\n",
       "      <td>3.129721</td>\n",
       "      <td>190.920373</td>\n",
       "    </tr>\n",
       "    <tr>\n",
       "      <th>min</th>\n",
       "      <td>0.000000</td>\n",
       "      <td>1.000000</td>\n",
       "      <td>5.000000</td>\n",
       "    </tr>\n",
       "    <tr>\n",
       "      <th>25%</th>\n",
       "      <td>9.000000</td>\n",
       "      <td>3.000000</td>\n",
       "      <td>150.000000</td>\n",
       "    </tr>\n",
       "    <tr>\n",
       "      <th>50%</th>\n",
       "      <td>14.000000</td>\n",
       "      <td>6.000000</td>\n",
       "      <td>300.000000</td>\n",
       "    </tr>\n",
       "    <tr>\n",
       "      <th>75%</th>\n",
       "      <td>23.000000</td>\n",
       "      <td>10.000000</td>\n",
       "      <td>500.000000</td>\n",
       "    </tr>\n",
       "    <tr>\n",
       "      <th>max</th>\n",
       "      <td>66.000000</td>\n",
       "      <td>10.000000</td>\n",
       "      <td>950.000000</td>\n",
       "    </tr>\n",
       "  </tbody>\n",
       "</table>\n",
       "</div>"
      ],
      "text/plain": [
       "        Experience       Rating         Fees\n",
       "count  5961.000000  5961.000000  5961.000000\n",
       "mean     17.303976     6.353967   307.944640\n",
       "std      11.142798     3.129721   190.920373\n",
       "min       0.000000     1.000000     5.000000\n",
       "25%       9.000000     3.000000   150.000000\n",
       "50%      14.000000     6.000000   300.000000\n",
       "75%      23.000000    10.000000   500.000000\n",
       "max      66.000000    10.000000   950.000000"
      ]
     },
     "execution_count": 30,
     "metadata": {},
     "output_type": "execute_result"
    }
   ],
   "source": [
    "doctor_data.describe()"
   ]
  },
  {
   "cell_type": "markdown",
   "metadata": {},
   "source": [
    "Obs: Target attribute has a wide range of 945"
   ]
  },
  {
   "cell_type": "markdown",
   "metadata": {},
   "source": [
    "Experience range is from 0 to 66"
   ]
  },
  {
   "cell_type": "markdown",
   "metadata": {},
   "source": [
    "Approx 80% Fees values lies within 1 std from mean "
   ]
  },
  {
   "cell_type": "markdown",
   "metadata": {},
   "source": [
    "Doctors Fees ranges from 0 to 950"
   ]
  },
  {
   "cell_type": "markdown",
   "metadata": {},
   "source": [
    "Approx 80% of rating values lies within 1 std of mean "
   ]
  },
  {
   "cell_type": "code",
   "execution_count": 32,
   "metadata": {},
   "outputs": [
    {
     "data": {
      "text/plain": [
       "<matplotlib.axes._subplots.AxesSubplot at 0x1efc3385ac8>"
      ]
     },
     "execution_count": 32,
     "metadata": {},
     "output_type": "execute_result"
    },
    {
     "data": {
      "image/png": "[encoded data removed]",
      "text/plain": [
       "<Figure size 432x288 with 2 Axes>"
      ]
     },
     "metadata": {
      "needs_background": "light"
     },
     "output_type": "display_data"
    }
   ],
   "source": [
    "import seaborn as sb\n",
    "sb.heatmap(doctor_data.corr(),annot=True)"
   ]
  },
  {
   "cell_type": "markdown",
   "metadata": {},
   "source": [
    "Obs:  Rating and Experience are very less correlated with Fees."
   ]
  },
  {
   "cell_type": "markdown",
   "metadata": {},
   "source": [
    "Rating and Experience are negatively correlated with each other"
   ]
  },
  {
   "cell_type": "code",
   "execution_count": 33,
   "metadata": {},
   "outputs": [
    {
     "data": {
      "text/html": [
       "<div>\n",
       "<style scoped>\n",
       "    .dataframe tbody tr th:only-of-type {\n",
       "        vertical-align: middle;\n",
       "    }\n",
       "\n",
       "    .dataframe tbody tr th {\n",
       "        vertical-align: top;\n",
       "    }\n",
       "\n",
       "    .dataframe thead th {\n",
       "        text-align: right;\n",
       "    }\n",
       "</style>\n",
       "<table border=\"1\" class=\"dataframe\">\n",
       "  <thead>\n",
       "    <tr style=\"text-align: right;\">\n",
       "      <th></th>\n",
       "      <th>Qualification</th>\n",
       "      <th>qualification-</th>\n",
       "      <th>Experience</th>\n",
       "      <th>Rating</th>\n",
       "      <th>Place</th>\n",
       "      <th>city</th>\n",
       "      <th>Profile</th>\n",
       "      <th>Fees</th>\n",
       "    </tr>\n",
       "  </thead>\n",
       "  <tbody>\n",
       "    <tr>\n",
       "      <th>0</th>\n",
       "      <td>BHMS, MD - Homeopathy</td>\n",
       "      <td>BHMS</td>\n",
       "      <td>24</td>\n",
       "      <td>10</td>\n",
       "      <td>Kakkanad</td>\n",
       "      <td>Ernakulam</td>\n",
       "      <td>Homeopath</td>\n",
       "      <td>100</td>\n",
       "    </tr>\n",
       "    <tr>\n",
       "      <th>1</th>\n",
       "      <td>BAMS, MD - Ayurveda Medicine</td>\n",
       "      <td>BAMS</td>\n",
       "      <td>12</td>\n",
       "      <td>10</td>\n",
       "      <td>Whitefield</td>\n",
       "      <td>Bangalore</td>\n",
       "      <td>Ayurveda</td>\n",
       "      <td>350</td>\n",
       "    </tr>\n",
       "    <tr>\n",
       "      <th>2</th>\n",
       "      <td>MBBS, MS - Otorhinolaryngology</td>\n",
       "      <td>MBBS</td>\n",
       "      <td>9</td>\n",
       "      <td>4</td>\n",
       "      <td>Mathikere - BEL</td>\n",
       "      <td>Bangalore</td>\n",
       "      <td>ENT Specialist</td>\n",
       "      <td>300</td>\n",
       "    </tr>\n",
       "    <tr>\n",
       "      <th>3</th>\n",
       "      <td>BSc - Zoology, BAMS</td>\n",
       "      <td>BAMS</td>\n",
       "      <td>12</td>\n",
       "      <td>2</td>\n",
       "      <td>Bannerghatta Road</td>\n",
       "      <td>Bangalore</td>\n",
       "      <td>Ayurveda</td>\n",
       "      <td>250</td>\n",
       "    </tr>\n",
       "    <tr>\n",
       "      <th>4</th>\n",
       "      <td>BAMS</td>\n",
       "      <td>BAMS</td>\n",
       "      <td>20</td>\n",
       "      <td>10</td>\n",
       "      <td>Keelkattalai</td>\n",
       "      <td>Chennai</td>\n",
       "      <td>Ayurveda</td>\n",
       "      <td>250</td>\n",
       "    </tr>\n",
       "  </tbody>\n",
       "</table>\n",
       "</div>"
      ],
      "text/plain": [
       "                    Qualification qualification-  Experience  Rating  \\\n",
       "0           BHMS, MD - Homeopathy           BHMS          24      10   \n",
       "1    BAMS, MD - Ayurveda Medicine           BAMS          12      10   \n",
       "2  MBBS, MS - Otorhinolaryngology           MBBS           9       4   \n",
       "3             BSc - Zoology, BAMS           BAMS          12       2   \n",
       "4                            BAMS           BAMS          20      10   \n",
       "\n",
       "               Place       city         Profile  Fees  \n",
       "0           Kakkanad  Ernakulam       Homeopath   100  \n",
       "1         Whitefield  Bangalore        Ayurveda   350  \n",
       "2    Mathikere - BEL  Bangalore  ENT Specialist   300  \n",
       "3  Bannerghatta Road  Bangalore        Ayurveda   250  \n",
       "4       Keelkattalai    Chennai        Ayurveda   250  "
      ]
     },
     "execution_count": 33,
     "metadata": {},
     "output_type": "execute_result"
    }
   ],
   "source": [
    "doctor_data.head()"
   ]
  },
  {
   "cell_type": "code",
   "execution_count": 34,
   "metadata": {},
   "outputs": [
    {
     "data": {
      "image/png": "[encoded data removed]",
      "text/plain": [
       "<Figure size 432x288 with 1 Axes>"
      ]
     },
     "metadata": {
      "needs_background": "light"
     },
     "output_type": "display_data"
    },
    {
     "data": {
      "image/png": "[encoded data removed]",
      "text/plain": [
       "<Figure size 432x288 with 1 Axes>"
      ]
     },
     "metadata": {
      "needs_background": "light"
     },
     "output_type": "display_data"
    },
    {
     "data": {
      "image/png": "[encoded data removed]",
      "text/plain": [
       "<Figure size 432x288 with 1 Axes>"
      ]
     },
     "metadata": {
      "needs_background": "light"
     },
     "output_type": "display_data"
    }
   ],
   "source": [
    "# checking the distribution of data\n",
    "\n",
    "for i in ['Experience','Rating','Fees']:\n",
    "    plt.subplots()\n",
    "    plt.hist(x=doctor_data[i])\n",
    "    plt.title(i)"
   ]
  },
  {
   "cell_type": "markdown",
   "metadata": {},
   "source": [
    "Most of the values in Fees lie within 100 to 200 "
   ]
  },
  {
   "cell_type": "markdown",
   "metadata": {},
   "source": [
    "Most Doctors are with 9 to 15 years experience"
   ]
  },
  {
   "cell_type": "markdown",
   "metadata": {},
   "source": [
    "Mostly Doctors are having rating between 9 to 10 followed by 3"
   ]
  },
  {
   "cell_type": "code",
   "execution_count": 35,
   "metadata": {},
   "outputs": [
    {
     "data": {
      "text/plain": [
       "(array([ 0,  1,  2,  3,  4,  5,  6,  7,  8,  9, 10, 11, 12, 13, 14, 15, 16,\n",
       "        17, 18, 19, 20, 21, 22, 23, 24, 25, 26, 27, 28, 29, 30, 31, 32, 33,\n",
       "        34, 35, 36, 37, 38, 39, 40, 41, 42, 43, 44, 45, 46, 47, 48, 49, 50,\n",
       "        51, 52, 53, 54, 55, 56, 57, 58, 59, 60, 61, 62, 63]),\n",
       " <a list of 64 Text xticklabel objects>)"
      ]
     },
     "execution_count": 35,
     "metadata": {},
     "output_type": "execute_result"
    },
    {
     "data": {
      "image/png": "[encoded data removed]",
      "text/plain": [
       "<Figure size 1080x360 with 1 Axes>"
      ]
     },
     "metadata": {
      "needs_background": "light"
     },
     "output_type": "display_data"
    }
   ],
   "source": [
    "#checking the count of Experiences\n",
    "plt.figure(figsize=(15,5))\n",
    "sb.countplot(x='Experience',data=doctor_data)\n",
    "plt.xticks(rotation=60)"
   ]
  },
  {
   "cell_type": "markdown",
   "metadata": {},
   "source": [
    "Obs: Maximum doctors are of 9 years experience"
   ]
  },
  {
   "cell_type": "markdown",
   "metadata": {},
   "source": [
    "Majority of years expereinces lies between 5 to 19 years"
   ]
  },
  {
   "cell_type": "code",
   "execution_count": 36,
   "metadata": {},
   "outputs": [
    {
     "data": {
      "text/plain": [
       "(array([0, 1, 2, 3, 4, 5]), <a list of 6 Text xticklabel objects>)"
      ]
     },
     "execution_count": 36,
     "metadata": {},
     "output_type": "execute_result"
    },
    {
     "data": {
      "image/png": "[encoded data removed]",
      "text/plain": [
       "<Figure size 720x360 with 1 Axes>"
      ]
     },
     "metadata": {
      "needs_background": "light"
     },
     "output_type": "display_data"
    }
   ],
   "source": [
    "#checking the count of Doctor's Profiles\n",
    "plt.figure(figsize=(10,5))\n",
    "sb.countplot(x='Profile',data=doctor_data)\n",
    "plt.xticks(rotation=30)"
   ]
  },
  {
   "cell_type": "markdown",
   "metadata": {},
   "source": [
    "Obs: Maximum doctors are of Dentist Profile"
   ]
  },
  {
   "cell_type": "markdown",
   "metadata": {},
   "source": [
    "ENT specialist's are the least in number"
   ]
  },
  {
   "cell_type": "code",
   "execution_count": 37,
   "metadata": {},
   "outputs": [
    {
     "data": {
      "text/plain": [
       "<matplotlib.axes._subplots.AxesSubplot at 0x1efc3e07648>"
      ]
     },
     "execution_count": 37,
     "metadata": {},
     "output_type": "execute_result"
    },
    {
     "data": {
      "image/png": "[encoded data removed]",
      "text/plain": [
       "<Figure size 432x288 with 1 Axes>"
      ]
     },
     "metadata": {
      "needs_background": "light"
     },
     "output_type": "display_data"
    }
   ],
   "source": [
    "sb.violinplot(doctor_data['Fees'])"
   ]
  },
  {
   "cell_type": "markdown",
   "metadata": {},
   "source": [
    "Obs: There are very few doctors taking fees greater than 600"
   ]
  },
  {
   "cell_type": "code",
   "execution_count": 38,
   "metadata": {},
   "outputs": [
    {
     "data": {
      "text/plain": [
       "<matplotlib.axes._subplots.AxesSubplot at 0x1efc3ed6248>"
      ]
     },
     "execution_count": 38,
     "metadata": {},
     "output_type": "execute_result"
    },
    {
     "data": {
      "image/png": "[encoded data removed]",
      "text/plain": [
       "<Figure size 720x360 with 1 Axes>"
      ]
     },
     "metadata": {
      "needs_background": "light"
     },
     "output_type": "display_data"
    }
   ],
   "source": [
    "#checking average Fees taken vs profile\n",
    "plt.figure(figsize=(10,5))\n",
    "df=doctor_data.groupby('Profile').sum()\n",
    "sb.barplot(y='Fees',x=df.index,data=df)"
   ]
  },
  {
   "cell_type": "markdown",
   "metadata": {},
   "source": [
    "Obs: Dermatologists are taking maximum average Fees followed by Dentist"
   ]
  },
  {
   "cell_type": "markdown",
   "metadata": {},
   "source": [
    "Least average Fees taken by Ayurveda"
   ]
  },
  {
   "cell_type": "code",
   "execution_count": 39,
   "metadata": {},
   "outputs": [
    {
     "data": {
      "text/plain": [
       "<matplotlib.axes._subplots.AxesSubplot at 0x1efc3cb0cc8>"
      ]
     },
     "execution_count": 39,
     "metadata": {},
     "output_type": "execute_result"
    },
    {
     "data": {
      "image/png": "[encoded data removed]",
      "text/plain": [
       "<Figure size 1080x360 with 1 Axes>"
      ]
     },
     "metadata": {
      "needs_background": "light"
     },
     "output_type": "display_data"
    }
   ],
   "source": [
    "#checking average Fees taken vs Experience\n",
    "plt.figure(figsize=(15,5))\n",
    "df=doctor_data.groupby('Experience').sum()\n",
    "sb.barplot(y='Fees',x=df.index,data=df)"
   ]
  },
  {
   "cell_type": "markdown",
   "metadata": {},
   "source": [
    "Obs: Doctors of 9 and 10 years experience are taking maximum average Fees"
   ]
  },
  {
   "cell_type": "code",
   "execution_count": 40,
   "metadata": {},
   "outputs": [
    {
     "data": {
      "text/html": [
       "<div>\n",
       "<style scoped>\n",
       "    .dataframe tbody tr th:only-of-type {\n",
       "        vertical-align: middle;\n",
       "    }\n",
       "\n",
       "    .dataframe tbody tr th {\n",
       "        vertical-align: top;\n",
       "    }\n",
       "\n",
       "    .dataframe thead th {\n",
       "        text-align: right;\n",
       "    }\n",
       "</style>\n",
       "<table border=\"1\" class=\"dataframe\">\n",
       "  <thead>\n",
       "    <tr style=\"text-align: right;\">\n",
       "      <th></th>\n",
       "      <th>Qualification</th>\n",
       "      <th>qualification-</th>\n",
       "      <th>Experience</th>\n",
       "      <th>Rating</th>\n",
       "      <th>Place</th>\n",
       "      <th>city</th>\n",
       "      <th>Profile</th>\n",
       "      <th>Fees</th>\n",
       "    </tr>\n",
       "  </thead>\n",
       "  <tbody>\n",
       "    <tr>\n",
       "      <th>0</th>\n",
       "      <td>BHMS, MD - Homeopathy</td>\n",
       "      <td>BHMS</td>\n",
       "      <td>24</td>\n",
       "      <td>10</td>\n",
       "      <td>Kakkanad</td>\n",
       "      <td>Ernakulam</td>\n",
       "      <td>Homeopath</td>\n",
       "      <td>100</td>\n",
       "    </tr>\n",
       "    <tr>\n",
       "      <th>1</th>\n",
       "      <td>BAMS, MD - Ayurveda Medicine</td>\n",
       "      <td>BAMS</td>\n",
       "      <td>12</td>\n",
       "      <td>10</td>\n",
       "      <td>Whitefield</td>\n",
       "      <td>Bangalore</td>\n",
       "      <td>Ayurveda</td>\n",
       "      <td>350</td>\n",
       "    </tr>\n",
       "    <tr>\n",
       "      <th>2</th>\n",
       "      <td>MBBS, MS - Otorhinolaryngology</td>\n",
       "      <td>MBBS</td>\n",
       "      <td>9</td>\n",
       "      <td>4</td>\n",
       "      <td>Mathikere - BEL</td>\n",
       "      <td>Bangalore</td>\n",
       "      <td>ENT Specialist</td>\n",
       "      <td>300</td>\n",
       "    </tr>\n",
       "    <tr>\n",
       "      <th>3</th>\n",
       "      <td>BSc - Zoology, BAMS</td>\n",
       "      <td>BAMS</td>\n",
       "      <td>12</td>\n",
       "      <td>2</td>\n",
       "      <td>Bannerghatta Road</td>\n",
       "      <td>Bangalore</td>\n",
       "      <td>Ayurveda</td>\n",
       "      <td>250</td>\n",
       "    </tr>\n",
       "    <tr>\n",
       "      <th>4</th>\n",
       "      <td>BAMS</td>\n",
       "      <td>BAMS</td>\n",
       "      <td>20</td>\n",
       "      <td>10</td>\n",
       "      <td>Keelkattalai</td>\n",
       "      <td>Chennai</td>\n",
       "      <td>Ayurveda</td>\n",
       "      <td>250</td>\n",
       "    </tr>\n",
       "  </tbody>\n",
       "</table>\n",
       "</div>"
      ],
      "text/plain": [
       "                    Qualification qualification-  Experience  Rating  \\\n",
       "0           BHMS, MD - Homeopathy           BHMS          24      10   \n",
       "1    BAMS, MD - Ayurveda Medicine           BAMS          12      10   \n",
       "2  MBBS, MS - Otorhinolaryngology           MBBS           9       4   \n",
       "3             BSc - Zoology, BAMS           BAMS          12       2   \n",
       "4                            BAMS           BAMS          20      10   \n",
       "\n",
       "               Place       city         Profile  Fees  \n",
       "0           Kakkanad  Ernakulam       Homeopath   100  \n",
       "1         Whitefield  Bangalore        Ayurveda   350  \n",
       "2    Mathikere - BEL  Bangalore  ENT Specialist   300  \n",
       "3  Bannerghatta Road  Bangalore        Ayurveda   250  \n",
       "4       Keelkattalai    Chennai        Ayurveda   250  "
      ]
     },
     "execution_count": 40,
     "metadata": {},
     "output_type": "execute_result"
    }
   ],
   "source": [
    "doctor_data.head()"
   ]
  },
  {
   "cell_type": "code",
   "execution_count": 41,
   "metadata": {},
   "outputs": [
    {
     "data": {
      "text/plain": [
       "<matplotlib.axes._subplots.AxesSubplot at 0x1efc3c6e9c8>"
      ]
     },
     "execution_count": 41,
     "metadata": {},
     "output_type": "execute_result"
    },
    {
     "data": {
      "image/png": "[encoded data removed]",
      "text/plain": [
       "<Figure size 432x288 with 1 Axes>"
      ]
     },
     "metadata": {
      "needs_background": "light"
     },
     "output_type": "display_data"
    }
   ],
   "source": [
    "#taking doctor availlbility by count of city\n",
    "sb.countplot(y='city',data=doctor_data)"
   ]
  },
  {
   "cell_type": "markdown",
   "metadata": {},
   "source": [
    "Maximum doctors are present at Bangalore followed by Mumbai"
   ]
  },
  {
   "cell_type": "code",
   "execution_count": 42,
   "metadata": {},
   "outputs": [
    {
     "data": {
      "text/html": [
       "<div>\n",
       "<style scoped>\n",
       "    .dataframe tbody tr th:only-of-type {\n",
       "        vertical-align: middle;\n",
       "    }\n",
       "\n",
       "    .dataframe tbody tr th {\n",
       "        vertical-align: top;\n",
       "    }\n",
       "\n",
       "    .dataframe thead th {\n",
       "        text-align: right;\n",
       "    }\n",
       "</style>\n",
       "<table border=\"1\" class=\"dataframe\">\n",
       "  <thead>\n",
       "    <tr style=\"text-align: right;\">\n",
       "      <th></th>\n",
       "      <th>qualification-</th>\n",
       "      <th>Fees</th>\n",
       "    </tr>\n",
       "  </thead>\n",
       "  <tbody>\n",
       "    <tr>\n",
       "      <th>293</th>\n",
       "      <td>MBBS</td>\n",
       "      <td>950</td>\n",
       "    </tr>\n",
       "  </tbody>\n",
       "</table>\n",
       "</div>"
      ],
      "text/plain": [
       "    qualification-  Fees\n",
       "293           MBBS   950"
      ]
     },
     "execution_count": 42,
     "metadata": {},
     "output_type": "execute_result"
    }
   ],
   "source": [
    "#Checking which Qualification is taking maximum Fees\n",
    "doctor_data.sort_values('Fees',ascending=False)[['qualification-','Fees']].head(1)"
   ]
  },
  {
   "cell_type": "markdown",
   "metadata": {},
   "source": [
    "Obs: MBBS Doctors are taking maximum Fees of 950"
   ]
  },
  {
   "cell_type": "code",
   "execution_count": 43,
   "metadata": {},
   "outputs": [
    {
     "data": {
      "text/html": [
       "<div>\n",
       "<style scoped>\n",
       "    .dataframe tbody tr th:only-of-type {\n",
       "        vertical-align: middle;\n",
       "    }\n",
       "\n",
       "    .dataframe tbody tr th {\n",
       "        vertical-align: top;\n",
       "    }\n",
       "\n",
       "    .dataframe thead th {\n",
       "        text-align: right;\n",
       "    }\n",
       "</style>\n",
       "<table border=\"1\" class=\"dataframe\">\n",
       "  <thead>\n",
       "    <tr style=\"text-align: right;\">\n",
       "      <th></th>\n",
       "      <th>Place</th>\n",
       "      <th>Fees</th>\n",
       "    </tr>\n",
       "  </thead>\n",
       "  <tbody>\n",
       "    <tr>\n",
       "      <th>293</th>\n",
       "      <td>Adyar</td>\n",
       "      <td>950</td>\n",
       "    </tr>\n",
       "  </tbody>\n",
       "</table>\n",
       "</div>"
      ],
      "text/plain": [
       "     Place  Fees\n",
       "293  Adyar   950"
      ]
     },
     "execution_count": 43,
     "metadata": {},
     "output_type": "execute_result"
    }
   ],
   "source": [
    "#Checking which Place is having maximum Fees\n",
    "doctor_data.sort_values('Fees',ascending=False)[['Place','Fees']].head(1)\n"
   ]
  },
  {
   "cell_type": "markdown",
   "metadata": {},
   "source": [
    "Doctor's in Adyar are taking maximum Fees"
   ]
  },
  {
   "cell_type": "code",
   "execution_count": 44,
   "metadata": {},
   "outputs": [
    {
     "data": {
      "text/plain": [
       "<matplotlib.axes._subplots.AxesSubplot at 0x1efc43edb48>"
      ]
     },
     "execution_count": 44,
     "metadata": {},
     "output_type": "execute_result"
    },
    {
     "data": {
      "image/png": "[encoded data removed]",
      "text/plain": [
       "<Figure size 720x432 with 1 Axes>"
      ]
     },
     "metadata": {
      "needs_background": "light"
     },
     "output_type": "display_data"
    }
   ],
   "source": [
    "#Viewing Rating vs Fees taken\n",
    "plt.figure(figsize=(10,6))\n",
    "sb.swarmplot(x='Rating',y='Fees',data=doctor_data)"
   ]
  },
  {
   "cell_type": "markdown",
   "metadata": {},
   "source": [
    "Obs: There are very few doctors with 1 and 5 Rating "
   ]
  },
  {
   "cell_type": "markdown",
   "metadata": {},
   "source": [
    "Doctors with rating 10 are taking almost all category fees"
   ]
  },
  {
   "cell_type": "code",
   "execution_count": 45,
   "metadata": {},
   "outputs": [
    {
     "data": {
      "text/html": [
       "<div>\n",
       "<style scoped>\n",
       "    .dataframe tbody tr th:only-of-type {\n",
       "        vertical-align: middle;\n",
       "    }\n",
       "\n",
       "    .dataframe tbody tr th {\n",
       "        vertical-align: top;\n",
       "    }\n",
       "\n",
       "    .dataframe thead th {\n",
       "        text-align: right;\n",
       "    }\n",
       "</style>\n",
       "<table border=\"1\" class=\"dataframe\">\n",
       "  <thead>\n",
       "    <tr style=\"text-align: right;\">\n",
       "      <th></th>\n",
       "      <th>Experience</th>\n",
       "      <th>Rating</th>\n",
       "      <th>Fees</th>\n",
       "    </tr>\n",
       "    <tr>\n",
       "      <th>city</th>\n",
       "      <th></th>\n",
       "      <th></th>\n",
       "      <th></th>\n",
       "    </tr>\n",
       "  </thead>\n",
       "  <tbody>\n",
       "    <tr>\n",
       "      <th>Delhi</th>\n",
       "      <td>18.646959</td>\n",
       "      <td>6.423986</td>\n",
       "      <td>363.006757</td>\n",
       "    </tr>\n",
       "  </tbody>\n",
       "</table>\n",
       "</div>"
      ],
      "text/plain": [
       "       Experience    Rating        Fees\n",
       "city                                   \n",
       "Delhi   18.646959  6.423986  363.006757"
      ]
     },
     "execution_count": 45,
     "metadata": {},
     "output_type": "execute_result"
    }
   ],
   "source": [
    "# viewing average fees with respect to place\n",
    "df__=doctor_data.groupby('city').mean()\n",
    "df__.sort_values('Fees',ascending=False).head(1)"
   ]
  },
  {
   "cell_type": "markdown",
   "metadata": {},
   "source": [
    "Delhi is having maximum average fees of 363"
   ]
  },
  {
   "cell_type": "code",
   "execution_count": 46,
   "metadata": {},
   "outputs": [
    {
     "data": {
      "text/plain": [
       "<matplotlib.axes._subplots.AxesSubplot at 0x1efc4344748>"
      ]
     },
     "execution_count": 46,
     "metadata": {},
     "output_type": "execute_result"
    },
    {
     "data": {
      "image/png": "[encoded data removed]",
      "text/plain": [
       "<Figure size 360x1080 with 1 Axes>"
      ]
     },
     "metadata": {
      "needs_background": "light"
     },
     "output_type": "display_data"
    }
   ],
   "source": [
    "plt.figure(figsize=(5,15))\n",
    "sb.countplot(hue='Rating',y='Experience',data=doctor_data)"
   ]
  },
  {
   "cell_type": "markdown",
   "metadata": {},
   "source": [
    "Doctors with Rating 10 are available in almost all the Experience range"
   ]
  },
  {
   "cell_type": "code",
   "execution_count": 47,
   "metadata": {},
   "outputs": [
    {
     "data": {
      "text/plain": [
       "<matplotlib.axes._subplots.AxesSubplot at 0x1efc5ab0b08>"
      ]
     },
     "execution_count": 47,
     "metadata": {},
     "output_type": "execute_result"
    },
    {
     "data": {
      "image/png": "[encoded data removed]",
      "text/plain": [
       "<Figure size 1080x360 with 1 Axes>"
      ]
     },
     "metadata": {
      "needs_background": "light"
     },
     "output_type": "display_data"
    }
   ],
   "source": [
    "plt.figure(figsize=(15,5))\n",
    "sb.countplot(x='city',hue='Profile',data=doctor_data)"
   ]
  },
  {
   "cell_type": "markdown",
   "metadata": {},
   "source": [
    "Bangalore is having highest number Dentist,General Medicine and Ayurveda Docotrs"
   ]
  },
  {
   "cell_type": "markdown",
   "metadata": {},
   "source": [
    "Mumbai is having most number of Ayurveda Doctors and Homeopath"
   ]
  },
  {
   "cell_type": "markdown",
   "metadata": {},
   "source": [
    "Delhi is having most number of Dermatologists"
   ]
  },
  {
   "cell_type": "code",
   "execution_count": 48,
   "metadata": {},
   "outputs": [
    {
     "data": {
      "text/plain": [
       "(array([0, 1, 2, 3, 4, 5, 6, 7, 8]), <a list of 9 Text xticklabel objects>)"
      ]
     },
     "execution_count": 48,
     "metadata": {},
     "output_type": "execute_result"
    },
    {
     "data": {
      "image/png": "[encoded data removed]",
      "text/plain": [
       "<Figure size 1080x360 with 1 Axes>"
      ]
     },
     "metadata": {
      "needs_background": "light"
     },
     "output_type": "display_data"
    }
   ],
   "source": [
    "#checking average rating per city\n",
    "plt.figure(figsize=(15,5))\n",
    "rat=doctor_data.groupby('city').mean()\n",
    "sb.barplot(y='Rating',x=rat.index,data=rat)\n",
    "plt.xticks(rotation=30)"
   ]
  },
  {
   "cell_type": "markdown",
   "metadata": {},
   "source": [
    "Obs: bangalore is having highest average rating"
   ]
  },
  {
   "cell_type": "code",
   "execution_count": 49,
   "metadata": {},
   "outputs": [
    {
     "data": {
      "text/html": [
       "<div>\n",
       "<style scoped>\n",
       "    .dataframe tbody tr th:only-of-type {\n",
       "        vertical-align: middle;\n",
       "    }\n",
       "\n",
       "    .dataframe tbody tr th {\n",
       "        vertical-align: top;\n",
       "    }\n",
       "\n",
       "    .dataframe thead th {\n",
       "        text-align: right;\n",
       "    }\n",
       "</style>\n",
       "<table border=\"1\" class=\"dataframe\">\n",
       "  <thead>\n",
       "    <tr style=\"text-align: right;\">\n",
       "      <th></th>\n",
       "      <th>Qualification</th>\n",
       "      <th>qualification-</th>\n",
       "      <th>Experience</th>\n",
       "      <th>Rating</th>\n",
       "      <th>Place</th>\n",
       "      <th>city</th>\n",
       "      <th>Profile</th>\n",
       "      <th>Fees</th>\n",
       "    </tr>\n",
       "  </thead>\n",
       "  <tbody>\n",
       "    <tr>\n",
       "      <th>0</th>\n",
       "      <td>BHMS, MD - Homeopathy</td>\n",
       "      <td>BHMS</td>\n",
       "      <td>24</td>\n",
       "      <td>10</td>\n",
       "      <td>Kakkanad</td>\n",
       "      <td>Ernakulam</td>\n",
       "      <td>Homeopath</td>\n",
       "      <td>100</td>\n",
       "    </tr>\n",
       "    <tr>\n",
       "      <th>1</th>\n",
       "      <td>BAMS, MD - Ayurveda Medicine</td>\n",
       "      <td>BAMS</td>\n",
       "      <td>12</td>\n",
       "      <td>10</td>\n",
       "      <td>Whitefield</td>\n",
       "      <td>Bangalore</td>\n",
       "      <td>Ayurveda</td>\n",
       "      <td>350</td>\n",
       "    </tr>\n",
       "    <tr>\n",
       "      <th>2</th>\n",
       "      <td>MBBS, MS - Otorhinolaryngology</td>\n",
       "      <td>MBBS</td>\n",
       "      <td>9</td>\n",
       "      <td>4</td>\n",
       "      <td>Mathikere - BEL</td>\n",
       "      <td>Bangalore</td>\n",
       "      <td>ENT Specialist</td>\n",
       "      <td>300</td>\n",
       "    </tr>\n",
       "    <tr>\n",
       "      <th>3</th>\n",
       "      <td>BSc - Zoology, BAMS</td>\n",
       "      <td>BAMS</td>\n",
       "      <td>12</td>\n",
       "      <td>2</td>\n",
       "      <td>Bannerghatta Road</td>\n",
       "      <td>Bangalore</td>\n",
       "      <td>Ayurveda</td>\n",
       "      <td>250</td>\n",
       "    </tr>\n",
       "    <tr>\n",
       "      <th>4</th>\n",
       "      <td>BAMS</td>\n",
       "      <td>BAMS</td>\n",
       "      <td>20</td>\n",
       "      <td>10</td>\n",
       "      <td>Keelkattalai</td>\n",
       "      <td>Chennai</td>\n",
       "      <td>Ayurveda</td>\n",
       "      <td>250</td>\n",
       "    </tr>\n",
       "  </tbody>\n",
       "</table>\n",
       "</div>"
      ],
      "text/plain": [
       "                    Qualification qualification-  Experience  Rating  \\\n",
       "0           BHMS, MD - Homeopathy           BHMS          24      10   \n",
       "1    BAMS, MD - Ayurveda Medicine           BAMS          12      10   \n",
       "2  MBBS, MS - Otorhinolaryngology           MBBS           9       4   \n",
       "3             BSc - Zoology, BAMS           BAMS          12       2   \n",
       "4                            BAMS           BAMS          20      10   \n",
       "\n",
       "               Place       city         Profile  Fees  \n",
       "0           Kakkanad  Ernakulam       Homeopath   100  \n",
       "1         Whitefield  Bangalore        Ayurveda   350  \n",
       "2    Mathikere - BEL  Bangalore  ENT Specialist   300  \n",
       "3  Bannerghatta Road  Bangalore        Ayurveda   250  \n",
       "4       Keelkattalai    Chennai        Ayurveda   250  "
      ]
     },
     "execution_count": 49,
     "metadata": {},
     "output_type": "execute_result"
    }
   ],
   "source": [
    "doctor_data.head()"
   ]
  },
  {
   "cell_type": "code",
   "execution_count": 50,
   "metadata": {},
   "outputs": [
    {
     "data": {
      "text/plain": [
       "(array([0, 1, 2, 3, 4, 5]), <a list of 6 Text xticklabel objects>)"
      ]
     },
     "execution_count": 50,
     "metadata": {},
     "output_type": "execute_result"
    },
    {
     "data": {
      "image/png": "[encoded data removed]",
      "text/plain": [
       "<Figure size 1080x360 with 1 Axes>"
      ]
     },
     "metadata": {
      "needs_background": "light"
     },
     "output_type": "display_data"
    }
   ],
   "source": [
    "#checking average rating per Profile\n",
    "plt.figure(figsize=(15,5))\n",
    "rat=doctor_data.groupby('Profile').mean()\n",
    "sb.barplot(y='Rating',x=rat.index,data=rat)\n",
    "plt.xticks(rotation=30)"
   ]
  },
  {
   "cell_type": "markdown",
   "metadata": {},
   "source": [
    "Obs: Dentist's are having highest average rating"
   ]
  },
  {
   "cell_type": "markdown",
   "metadata": {},
   "source": [
    "#### Label Encoding the string columns which will be used in Model preparation:"
   ]
  },
  {
   "cell_type": "code",
   "execution_count": 51,
   "metadata": {},
   "outputs": [],
   "source": [
    "from sklearn.preprocessing import LabelEncoder\n",
    "qualification_copy=pd.DataFrame()\n",
    "qualification_copy['qualification']=doctor_data['qualification-']\n",
    "le=[]\n",
    "for k,i in zip(range(3),['qualification-','city','Profile']):\n",
    "    le.append(LabelEncoder())\n",
    "    le[k].fit(doctor_data[i])\n",
    "    doctor_data[i]=le[k].transform(doctor_data[i])"
   ]
  },
  {
   "cell_type": "code",
   "execution_count": 52,
   "metadata": {},
   "outputs": [
    {
     "data": {
      "text/html": [
       "<div>\n",
       "<style scoped>\n",
       "    .dataframe tbody tr th:only-of-type {\n",
       "        vertical-align: middle;\n",
       "    }\n",
       "\n",
       "    .dataframe tbody tr th {\n",
       "        vertical-align: top;\n",
       "    }\n",
       "\n",
       "    .dataframe thead th {\n",
       "        text-align: right;\n",
       "    }\n",
       "</style>\n",
       "<table border=\"1\" class=\"dataframe\">\n",
       "  <thead>\n",
       "    <tr style=\"text-align: right;\">\n",
       "      <th></th>\n",
       "      <th>Qualification</th>\n",
       "      <th>qualification-</th>\n",
       "      <th>Experience</th>\n",
       "      <th>Rating</th>\n",
       "      <th>Place</th>\n",
       "      <th>city</th>\n",
       "      <th>Profile</th>\n",
       "      <th>Fees</th>\n",
       "    </tr>\n",
       "  </thead>\n",
       "  <tbody>\n",
       "    <tr>\n",
       "      <th>0</th>\n",
       "      <td>BHMS, MD - Homeopathy</td>\n",
       "      <td>4</td>\n",
       "      <td>24</td>\n",
       "      <td>10</td>\n",
       "      <td>Kakkanad</td>\n",
       "      <td>4</td>\n",
       "      <td>5</td>\n",
       "      <td>100</td>\n",
       "    </tr>\n",
       "    <tr>\n",
       "      <th>1</th>\n",
       "      <td>BAMS, MD - Ayurveda Medicine</td>\n",
       "      <td>1</td>\n",
       "      <td>12</td>\n",
       "      <td>10</td>\n",
       "      <td>Whitefield</td>\n",
       "      <td>0</td>\n",
       "      <td>0</td>\n",
       "      <td>350</td>\n",
       "    </tr>\n",
       "    <tr>\n",
       "      <th>2</th>\n",
       "      <td>MBBS, MS - Otorhinolaryngology</td>\n",
       "      <td>24</td>\n",
       "      <td>9</td>\n",
       "      <td>4</td>\n",
       "      <td>Mathikere - BEL</td>\n",
       "      <td>0</td>\n",
       "      <td>3</td>\n",
       "      <td>300</td>\n",
       "    </tr>\n",
       "    <tr>\n",
       "      <th>3</th>\n",
       "      <td>BSc - Zoology, BAMS</td>\n",
       "      <td>1</td>\n",
       "      <td>12</td>\n",
       "      <td>2</td>\n",
       "      <td>Bannerghatta Road</td>\n",
       "      <td>0</td>\n",
       "      <td>0</td>\n",
       "      <td>250</td>\n",
       "    </tr>\n",
       "    <tr>\n",
       "      <th>4</th>\n",
       "      <td>BAMS</td>\n",
       "      <td>1</td>\n",
       "      <td>20</td>\n",
       "      <td>10</td>\n",
       "      <td>Keelkattalai</td>\n",
       "      <td>1</td>\n",
       "      <td>0</td>\n",
       "      <td>250</td>\n",
       "    </tr>\n",
       "  </tbody>\n",
       "</table>\n",
       "</div>"
      ],
      "text/plain": [
       "                    Qualification  qualification-  Experience  Rating  \\\n",
       "0           BHMS, MD - Homeopathy               4          24      10   \n",
       "1    BAMS, MD - Ayurveda Medicine               1          12      10   \n",
       "2  MBBS, MS - Otorhinolaryngology              24           9       4   \n",
       "3             BSc - Zoology, BAMS               1          12       2   \n",
       "4                            BAMS               1          20      10   \n",
       "\n",
       "               Place  city  Profile  Fees  \n",
       "0           Kakkanad     4        5   100  \n",
       "1         Whitefield     0        0   350  \n",
       "2    Mathikere - BEL     0        3   300  \n",
       "3  Bannerghatta Road     0        0   250  \n",
       "4       Keelkattalai     1        0   250  "
      ]
     },
     "execution_count": 52,
     "metadata": {},
     "output_type": "execute_result"
    }
   ],
   "source": [
    "doctor_data.head()"
   ]
  },
  {
   "cell_type": "code",
   "execution_count": 53,
   "metadata": {},
   "outputs": [
    {
     "name": "stdout",
     "output_type": "stream",
     "text": [
      "(5961, 8)\n",
      "(5903, 6)\n",
      "58 rows removed as outliers\n"
     ]
    }
   ],
   "source": [
    "from scipy.stats import zscore\n",
    "gf=doctor_data.iloc[:,[1,2,3,5,6,7]]\n",
    "z=abs(zscore(gf))\n",
    "doc_data_no_outliers=gf[(z<3).all(axis=1)]\n",
    "print(doctor_data.shape)\n",
    "print(doc_data_no_outliers.shape)\n",
    "print(doctor_data.shape[0]-doc_data_no_outliers.shape[0], 'rows removed as outliers')"
   ]
  },
  {
   "cell_type": "markdown",
   "metadata": {},
   "source": [
    "#### Checking the skewness:"
   ]
  },
  {
   "cell_type": "code",
   "execution_count": 54,
   "metadata": {},
   "outputs": [
    {
     "data": {
      "text/plain": [
       "qualification-    0.004860\n",
       "Experience        0.897661\n",
       "Rating           -0.037540\n",
       "city              0.052925\n",
       "Profile           0.121336\n",
       "Fees              0.710445\n",
       "dtype: float64"
      ]
     },
     "execution_count": 54,
     "metadata": {},
     "output_type": "execute_result"
    }
   ],
   "source": [
    "doc_data_no_outliers.skew()"
   ]
  },
  {
   "cell_type": "markdown",
   "metadata": {},
   "source": [
    "#### Handling skewness using log and square root transformation"
   ]
  },
  {
   "cell_type": "code",
   "execution_count": 55,
   "metadata": {},
   "outputs": [
    {
     "data": {
      "text/plain": [
       "qualification-    0.004860\n",
       "Experience        0.023642\n",
       "Rating           -0.037540\n",
       "city              0.052925\n",
       "Profile           0.121336\n",
       "Fees             -0.324244\n",
       "dtype: float64"
      ]
     },
     "execution_count": 55,
     "metadata": {},
     "output_type": "execute_result"
    }
   ],
   "source": [
    "doc_data_no_outliers['Experience']=np.sqrt(doc_data_no_outliers['Experience'])\n",
    "doc_data_no_outliers['Fees']=np.log(doc_data_no_outliers['Fees'])\n",
    "doc_data_no_outliers.skew()"
   ]
  },
  {
   "cell_type": "markdown",
   "metadata": {},
   "source": [
    "Skewness removed from Dataset"
   ]
  },
  {
   "cell_type": "code",
   "execution_count": 56,
   "metadata": {},
   "outputs": [
    {
     "data": {
      "text/html": [
       "<div>\n",
       "<style scoped>\n",
       "    .dataframe tbody tr th:only-of-type {\n",
       "        vertical-align: middle;\n",
       "    }\n",
       "\n",
       "    .dataframe tbody tr th {\n",
       "        vertical-align: top;\n",
       "    }\n",
       "\n",
       "    .dataframe thead th {\n",
       "        text-align: right;\n",
       "    }\n",
       "</style>\n",
       "<table border=\"1\" class=\"dataframe\">\n",
       "  <thead>\n",
       "    <tr style=\"text-align: right;\">\n",
       "      <th></th>\n",
       "      <th>qualification-</th>\n",
       "      <th>Experience</th>\n",
       "      <th>Rating</th>\n",
       "      <th>city</th>\n",
       "      <th>Profile</th>\n",
       "      <th>Fees</th>\n",
       "    </tr>\n",
       "  </thead>\n",
       "  <tbody>\n",
       "    <tr>\n",
       "      <th>0</th>\n",
       "      <td>4</td>\n",
       "      <td>4.898979</td>\n",
       "      <td>10</td>\n",
       "      <td>4</td>\n",
       "      <td>5</td>\n",
       "      <td>4.605170</td>\n",
       "    </tr>\n",
       "    <tr>\n",
       "      <th>1</th>\n",
       "      <td>1</td>\n",
       "      <td>3.464102</td>\n",
       "      <td>10</td>\n",
       "      <td>0</td>\n",
       "      <td>0</td>\n",
       "      <td>5.857933</td>\n",
       "    </tr>\n",
       "    <tr>\n",
       "      <th>2</th>\n",
       "      <td>24</td>\n",
       "      <td>3.000000</td>\n",
       "      <td>4</td>\n",
       "      <td>0</td>\n",
       "      <td>3</td>\n",
       "      <td>5.703782</td>\n",
       "    </tr>\n",
       "    <tr>\n",
       "      <th>3</th>\n",
       "      <td>1</td>\n",
       "      <td>3.464102</td>\n",
       "      <td>2</td>\n",
       "      <td>0</td>\n",
       "      <td>0</td>\n",
       "      <td>5.521461</td>\n",
       "    </tr>\n",
       "    <tr>\n",
       "      <th>4</th>\n",
       "      <td>1</td>\n",
       "      <td>4.472136</td>\n",
       "      <td>10</td>\n",
       "      <td>1</td>\n",
       "      <td>0</td>\n",
       "      <td>5.521461</td>\n",
       "    </tr>\n",
       "  </tbody>\n",
       "</table>\n",
       "</div>"
      ],
      "text/plain": [
       "   qualification-  Experience  Rating  city  Profile      Fees\n",
       "0               4    4.898979      10     4        5  4.605170\n",
       "1               1    3.464102      10     0        0  5.857933\n",
       "2              24    3.000000       4     0        3  5.703782\n",
       "3               1    3.464102       2     0        0  5.521461\n",
       "4               1    4.472136      10     1        0  5.521461"
      ]
     },
     "execution_count": 56,
     "metadata": {},
     "output_type": "execute_result"
    }
   ],
   "source": [
    "doc_data_no_outliers.head()"
   ]
  },
  {
   "cell_type": "code",
   "execution_count": 57,
   "metadata": {},
   "outputs": [],
   "source": [
    "x=doc_data_no_outliers.iloc[:,0:-1]\n",
    "y=doc_data_no_outliers.iloc[:,-1]"
   ]
  },
  {
   "cell_type": "code",
   "execution_count": 58,
   "metadata": {},
   "outputs": [],
   "source": [
    "from sklearn.preprocessing import StandardScaler,MinMaxScaler\n",
    "ss=StandardScaler()\n",
    "mm=MinMaxScaler()\n",
    "ss.fit(x)\n",
    "x_ss=ss.transform(x)\n",
    "mm.fit(x)\n",
    "x_mm=mm.transform(x)"
   ]
  },
  {
   "cell_type": "code",
   "execution_count": 59,
   "metadata": {},
   "outputs": [
    {
     "data": {
      "text/plain": [
       "0    0.004860\n",
       "1    0.023642\n",
       "2   -0.037540\n",
       "3    0.052925\n",
       "4    0.121336\n",
       "dtype: float64"
      ]
     },
     "execution_count": 59,
     "metadata": {},
     "output_type": "execute_result"
    }
   ],
   "source": [
    "pd.DataFrame(x_ss).skew()"
   ]
  },
  {
   "cell_type": "code",
   "execution_count": 60,
   "metadata": {},
   "outputs": [
    {
     "data": {
      "text/plain": [
       "0    0.004860\n",
       "1    0.023642\n",
       "2   -0.037540\n",
       "3    0.052925\n",
       "4    0.121336\n",
       "dtype: float64"
      ]
     },
     "execution_count": 60,
     "metadata": {},
     "output_type": "execute_result"
    }
   ],
   "source": [
    "pd.DataFrame(x_mm).skew()"
   ]
  },
  {
   "cell_type": "code",
   "execution_count": 61,
   "metadata": {},
   "outputs": [],
   "source": [
    "#importing libraries for model\n",
    "import sklearn\n",
    "from sklearn.linear_model import LinearRegression,Lasso,Ridge,ElasticNet\n",
    "from sklearn.model_selection import train_test_split,GridSearchCV,cross_val_score\n",
    "from sklearn.neighbors import KNeighborsRegressor\n",
    "from sklearn.tree import DecisionTreeRegressor\n",
    "from sklearn.svm import SVR\n",
    "from sklearn import model_selection\n",
    "from sklearn.metrics import r2_score,mean_absolute_error,mean_squared_error,mean_squared_log_error\n",
    "import warnings\n",
    "warnings.filterwarnings('ignore')"
   ]
  },
  {
   "cell_type": "code",
   "execution_count": 62,
   "metadata": {},
   "outputs": [],
   "source": [
    "# preparing a method to get metric at best random state\n",
    "def max_r2_score(x,y,test_size,model):\n",
    "    max=0\n",
    "    ind=0\n",
    "    for i in range(42,100):\n",
    "        train_x,test_x,train_y,test_y=train_test_split(x,y,test_size=test_size,random_state=i)\n",
    "        model.fit(train_x,train_y)\n",
    "        pred=model.predict(test_x)\n",
    "        if(max < r2_score(test_y,pred)):\n",
    "                max=r2_score(test_y,pred)\n",
    "                ind=i\n",
    "    train_x,test_x,train_y,test_y=train_test_split(x,y,test_size=test_size,random_state=ind)\n",
    "    model.fit(train_x,train_y)\n",
    "    pred=model.predict(test_x)\n",
    "    #print('max r2_score :',r2_score(test_y,pred),'at random state',ind)\n",
    "    list_r2score.append(r2_score(test_y,pred))\n",
    "    list_MSE.append(mean_squared_error(test_y,pred))\n",
    "    list_MAE.append(mean_absolute_error(test_y,pred))\n",
    "    list_RMSE.append(np.sqrt(mean_squared_error(test_y,pred)))\n",
    "    list_MSLE.append(abs(mean_squared_log_error(test_y,pred)))\n",
    "    score=cross_val_score(model,x,y,cv=5,scoring='r2')\n",
    "    #print('cross val score :',score,score.mean(),' standard deviation',score.std())\n",
    "    cross_val_r2Score.append(score.mean())"
   ]
  },
  {
   "cell_type": "code",
   "execution_count": 63,
   "metadata": {
    "scrolled": true
   },
   "outputs": [],
   "source": [
    "list_r2score=[]\n",
    "list_MSE=[]\n",
    "list_MAE=[]\n",
    "list_RMSE=[]\n",
    "list_MSLE=[]\n",
    "cross_val_r2Score=[]\n",
    "model_list=[LinearRegression(),DecisionTreeRegressor(),KNeighborsRegressor(),Lasso(alpha=0.1),\n",
    "            Ridge(alpha=0.1),ElasticNet(),SVR()]\n",
    "for i,k in zip(model_list,['LinearRegression','DecisionTree','KNN','Lasso','Ridge','ElasticNet','SVR']):\n",
    "    #print('**********************************',k,'****************************************')\n",
    "    max_r2_score(x_mm,y,0.25,i)\n",
    "    #print('\\n')"
   ]
  },
  {
   "cell_type": "code",
   "execution_count": 64,
   "metadata": {},
   "outputs": [
    {
     "data": {
      "text/html": [
       "<div>\n",
       "<style scoped>\n",
       "    .dataframe tbody tr th:only-of-type {\n",
       "        vertical-align: middle;\n",
       "    }\n",
       "\n",
       "    .dataframe tbody tr th {\n",
       "        vertical-align: top;\n",
       "    }\n",
       "\n",
       "    .dataframe thead th {\n",
       "        text-align: right;\n",
       "    }\n",
       "</style>\n",
       "<table border=\"1\" class=\"dataframe\">\n",
       "  <thead>\n",
       "    <tr style=\"text-align: right;\">\n",
       "      <th></th>\n",
       "      <th>LinearRegression</th>\n",
       "      <th>DecisionTree</th>\n",
       "      <th>KNN</th>\n",
       "      <th>Lasso</th>\n",
       "      <th>Ridge</th>\n",
       "      <th>ElasticNet</th>\n",
       "      <th>SVR</th>\n",
       "    </tr>\n",
       "  </thead>\n",
       "  <tbody>\n",
       "    <tr>\n",
       "      <th>R2</th>\n",
       "      <td>0.124191</td>\n",
       "      <td>-0.302596</td>\n",
       "      <td>0.121203</td>\n",
       "      <td>-0.002731</td>\n",
       "      <td>0.124182</td>\n",
       "      <td>-0.002731</td>\n",
       "      <td>0.196843</td>\n",
       "    </tr>\n",
       "    <tr>\n",
       "      <th>cross_val_r2Score</th>\n",
       "      <td>0.095032</td>\n",
       "      <td>-0.256627</td>\n",
       "      <td>0.057983</td>\n",
       "      <td>-0.001054</td>\n",
       "      <td>0.095033</td>\n",
       "      <td>-0.001054</td>\n",
       "      <td>0.125062</td>\n",
       "    </tr>\n",
       "    <tr>\n",
       "      <th>MSE</th>\n",
       "      <td>0.440145</td>\n",
       "      <td>0.601765</td>\n",
       "      <td>0.432106</td>\n",
       "      <td>0.463235</td>\n",
       "      <td>0.440149</td>\n",
       "      <td>0.463235</td>\n",
       "      <td>0.400323</td>\n",
       "    </tr>\n",
       "    <tr>\n",
       "      <th>RMSE</th>\n",
       "      <td>0.663434</td>\n",
       "      <td>0.775735</td>\n",
       "      <td>0.657348</td>\n",
       "      <td>0.680614</td>\n",
       "      <td>0.663437</td>\n",
       "      <td>0.680614</td>\n",
       "      <td>0.632711</td>\n",
       "    </tr>\n",
       "    <tr>\n",
       "      <th>MAE</th>\n",
       "      <td>0.548301</td>\n",
       "      <td>0.582946</td>\n",
       "      <td>0.520695</td>\n",
       "      <td>0.579955</td>\n",
       "      <td>0.548306</td>\n",
       "      <td>0.579955</td>\n",
       "      <td>0.508094</td>\n",
       "    </tr>\n",
       "    <tr>\n",
       "      <th>MS_log_error</th>\n",
       "      <td>0.011438</td>\n",
       "      <td>0.014917</td>\n",
       "      <td>0.010804</td>\n",
       "      <td>0.011582</td>\n",
       "      <td>0.011438</td>\n",
       "      <td>0.011582</td>\n",
       "      <td>0.010028</td>\n",
       "    </tr>\n",
       "  </tbody>\n",
       "</table>\n",
       "</div>"
      ],
      "text/plain": [
       "                   LinearRegression  DecisionTree       KNN     Lasso  \\\n",
       "R2                         0.124191     -0.302596  0.121203 -0.002731   \n",
       "cross_val_r2Score          0.095032     -0.256627  0.057983 -0.001054   \n",
       "MSE                        0.440145      0.601765  0.432106  0.463235   \n",
       "RMSE                       0.663434      0.775735  0.657348  0.680614   \n",
       "MAE                        0.548301      0.582946  0.520695  0.579955   \n",
       "MS_log_error               0.011438      0.014917  0.010804  0.011582   \n",
       "\n",
       "                      Ridge  ElasticNet       SVR  \n",
       "R2                 0.124182   -0.002731  0.196843  \n",
       "cross_val_r2Score  0.095033   -0.001054  0.125062  \n",
       "MSE                0.440149    0.463235  0.400323  \n",
       "RMSE               0.663437    0.680614  0.632711  \n",
       "MAE                0.548306    0.579955  0.508094  \n",
       "MS_log_error       0.011438    0.011582  0.010028  "
      ]
     },
     "execution_count": 64,
     "metadata": {},
     "output_type": "execute_result"
    }
   ],
   "source": [
    "col=['LinearRegression','DecisionTree','KNN','Lasso','Ridge','ElasticNet','SVR']\n",
    "performance_df=pd.DataFrame([list_r2score,cross_val_r2Score,list_MSE,list_RMSE,list_MAE,list_MSLE],index=['R2','cross_val_r2Score','MSE','RMSE','MAE','MS_log_error'],columns=col)\n",
    "performance_df"
   ]
  },
  {
   "cell_type": "markdown",
   "metadata": {},
   "source": [
    "### Here r2-Score is low for all the models hence we will prefer other metrices for our model evaluation like MSE,MSE,RMSE and MS_log_error"
   ]
  },
  {
   "cell_type": "markdown",
   "metadata": {},
   "source": [
    "#### Till now we can see that SVR is working best in all the metrices except r2 score.Hence we will choose SVR till now"
   ]
  },
  {
   "cell_type": "markdown",
   "metadata": {},
   "source": [
    "#### Tyring Hyperparameter tuning for SVR to check if that improve the score."
   ]
  },
  {
   "cell_type": "code",
   "execution_count": 65,
   "metadata": {},
   "outputs": [],
   "source": [
    "# making a method to perform hyper tuning using MSE as the scoring metric\n",
    "from sklearn.metrics import make_scorer\n",
    "def gridsearch(x,y,model,parameter_dictionary):\n",
    "    #kfold=model_selection.KFold(n_splits=10,random_state=rs,shuffle=True)\n",
    "        grid_cv=GridSearchCV(estimator=model,param_grid=parameter_dictionary,cv=5,scoring='neg_mean_squared_error')\n",
    "        grid_cv.fit(x,y)\n",
    "        print('\\n')   \n",
    "        print('best mean score(MSE) :',abs(grid_cv.best_score_))\n",
    "       \n",
    "        print('best Parameter :',grid_cv.best_params_)\n",
    "       "
   ]
  },
  {
   "cell_type": "code",
   "execution_count": 66,
   "metadata": {},
   "outputs": [
    {
     "name": "stdout",
     "output_type": "stream",
     "text": [
      "\n",
      "\n",
      "best mean score(MSE) : 0.4035828646413041\n",
      "best Parameter : {'C': 0.1, 'kernel': 'rbf'}\n"
     ]
    }
   ],
   "source": [
    "gridsearch(x_mm,y,SVR(),{'C':[0.1,1,10],'kernel':[\"linear\",\"rbf\",\"poly\"]})"
   ]
  },
  {
   "cell_type": "markdown",
   "metadata": {},
   "source": [
    "Obs: Best parameters for SVR are C=0.1 and kernel='rbf'"
   ]
  },
  {
   "cell_type": "markdown",
   "metadata": {},
   "source": [
    "Now checking metrices of SVR at using best parameters:"
   ]
  },
  {
   "cell_type": "code",
   "execution_count": 67,
   "metadata": {},
   "outputs": [],
   "source": [
    "max_r2_score(x_mm,y,0.25,SVR(C=0.1,kernel='rbf'))"
   ]
  },
  {
   "cell_type": "code",
   "execution_count": 68,
   "metadata": {},
   "outputs": [
    {
     "data": {
      "text/html": [
       "<div>\n",
       "<style scoped>\n",
       "    .dataframe tbody tr th:only-of-type {\n",
       "        vertical-align: middle;\n",
       "    }\n",
       "\n",
       "    .dataframe tbody tr th {\n",
       "        vertical-align: top;\n",
       "    }\n",
       "\n",
       "    .dataframe thead th {\n",
       "        text-align: right;\n",
       "    }\n",
       "</style>\n",
       "<table border=\"1\" class=\"dataframe\">\n",
       "  <thead>\n",
       "    <tr style=\"text-align: right;\">\n",
       "      <th></th>\n",
       "      <th>LinearRegression</th>\n",
       "      <th>DecisionTree</th>\n",
       "      <th>KNN</th>\n",
       "      <th>Lasso</th>\n",
       "      <th>Ridge</th>\n",
       "      <th>ElasticNet</th>\n",
       "      <th>SVR</th>\n",
       "      <th>SVR_hypertuned</th>\n",
       "    </tr>\n",
       "  </thead>\n",
       "  <tbody>\n",
       "    <tr>\n",
       "      <th>R2</th>\n",
       "      <td>0.124191</td>\n",
       "      <td>-0.302596</td>\n",
       "      <td>0.121203</td>\n",
       "      <td>-0.002731</td>\n",
       "      <td>0.124182</td>\n",
       "      <td>-0.002731</td>\n",
       "      <td>0.196843</td>\n",
       "      <td>0.194064</td>\n",
       "    </tr>\n",
       "    <tr>\n",
       "      <th>cross_val_r2Score</th>\n",
       "      <td>0.095032</td>\n",
       "      <td>-0.256627</td>\n",
       "      <td>0.057983</td>\n",
       "      <td>-0.001054</td>\n",
       "      <td>0.095033</td>\n",
       "      <td>-0.001054</td>\n",
       "      <td>0.125062</td>\n",
       "      <td>0.131029</td>\n",
       "    </tr>\n",
       "    <tr>\n",
       "      <th>MSE</th>\n",
       "      <td>0.440145</td>\n",
       "      <td>0.601765</td>\n",
       "      <td>0.432106</td>\n",
       "      <td>0.463235</td>\n",
       "      <td>0.440149</td>\n",
       "      <td>0.463235</td>\n",
       "      <td>0.400323</td>\n",
       "      <td>0.401708</td>\n",
       "    </tr>\n",
       "    <tr>\n",
       "      <th>RMSE</th>\n",
       "      <td>0.663434</td>\n",
       "      <td>0.775735</td>\n",
       "      <td>0.657348</td>\n",
       "      <td>0.680614</td>\n",
       "      <td>0.663437</td>\n",
       "      <td>0.680614</td>\n",
       "      <td>0.632711</td>\n",
       "      <td>0.633804</td>\n",
       "    </tr>\n",
       "    <tr>\n",
       "      <th>MAE</th>\n",
       "      <td>0.548301</td>\n",
       "      <td>0.582946</td>\n",
       "      <td>0.520695</td>\n",
       "      <td>0.579955</td>\n",
       "      <td>0.548306</td>\n",
       "      <td>0.579955</td>\n",
       "      <td>0.508094</td>\n",
       "      <td>0.515491</td>\n",
       "    </tr>\n",
       "    <tr>\n",
       "      <th>MS_log_error</th>\n",
       "      <td>0.011438</td>\n",
       "      <td>0.014917</td>\n",
       "      <td>0.010804</td>\n",
       "      <td>0.011582</td>\n",
       "      <td>0.011438</td>\n",
       "      <td>0.011582</td>\n",
       "      <td>0.010028</td>\n",
       "      <td>0.010084</td>\n",
       "    </tr>\n",
       "  </tbody>\n",
       "</table>\n",
       "</div>"
      ],
      "text/plain": [
       "                   LinearRegression  DecisionTree       KNN     Lasso  \\\n",
       "R2                         0.124191     -0.302596  0.121203 -0.002731   \n",
       "cross_val_r2Score          0.095032     -0.256627  0.057983 -0.001054   \n",
       "MSE                        0.440145      0.601765  0.432106  0.463235   \n",
       "RMSE                       0.663434      0.775735  0.657348  0.680614   \n",
       "MAE                        0.548301      0.582946  0.520695  0.579955   \n",
       "MS_log_error               0.011438      0.014917  0.010804  0.011582   \n",
       "\n",
       "                      Ridge  ElasticNet       SVR  SVR_hypertuned  \n",
       "R2                 0.124182   -0.002731  0.196843        0.194064  \n",
       "cross_val_r2Score  0.095033   -0.001054  0.125062        0.131029  \n",
       "MSE                0.440149    0.463235  0.400323        0.401708  \n",
       "RMSE               0.663437    0.680614  0.632711        0.633804  \n",
       "MAE                0.548306    0.579955  0.508094        0.515491  \n",
       "MS_log_error       0.011438    0.011582  0.010028        0.010084  "
      ]
     },
     "execution_count": 68,
     "metadata": {},
     "output_type": "execute_result"
    }
   ],
   "source": [
    "col.append('SVR_hypertuned')\n",
    "performance_df=pd.DataFrame([list_r2score,cross_val_r2Score,list_MSE,list_RMSE,list_MAE,list_MSLE],index=['R2','cross_val_r2Score','MSE','RMSE','MAE','MS_log_error'],columns=col)\n",
    "performance_df"
   ]
  },
  {
   "cell_type": "markdown",
   "metadata": {},
   "source": [
    "Obs: Hypertuning is not improving the score"
   ]
  },
  {
   "cell_type": "markdown",
   "metadata": {},
   "source": [
    "#### Trying ensemble techniques:"
   ]
  },
  {
   "cell_type": "code",
   "execution_count": 69,
   "metadata": {},
   "outputs": [],
   "source": [
    "from sklearn.ensemble import GradientBoostingRegressor,RandomForestRegressor,AdaBoostRegressor,BaggingRegressor,ExtraTreesRegressor\n",
    "max_r2_score(x_mm,y,0.25,GradientBoostingRegressor())\n",
    "col.append('GBR')"
   ]
  },
  {
   "cell_type": "code",
   "execution_count": 70,
   "metadata": {},
   "outputs": [],
   "source": [
    "max_r2_score(x_mm,y,0.25,RandomForestRegressor())\n",
    "col.append('RFR')"
   ]
  },
  {
   "cell_type": "code",
   "execution_count": 71,
   "metadata": {},
   "outputs": [],
   "source": [
    "max_r2_score(x_mm,y,0.25,AdaBoostRegressor())\n",
    "col.append('ADR')"
   ]
  },
  {
   "cell_type": "code",
   "execution_count": 72,
   "metadata": {},
   "outputs": [],
   "source": [
    "max_r2_score(x_mm,y,0.25,BaggingRegressor())\n",
    "col.append('BR')"
   ]
  },
  {
   "cell_type": "code",
   "execution_count": 73,
   "metadata": {},
   "outputs": [],
   "source": [
    "max_r2_score(x_mm,y,0.25,ExtraTreesRegressor())\n",
    "col.append('ETR')"
   ]
  },
  {
   "cell_type": "markdown",
   "metadata": {},
   "source": [
    "#### Performance Summary for all ensemble techniques:"
   ]
  },
  {
   "cell_type": "code",
   "execution_count": 74,
   "metadata": {},
   "outputs": [
    {
     "data": {
      "text/html": [
       "<div>\n",
       "<style scoped>\n",
       "    .dataframe tbody tr th:only-of-type {\n",
       "        vertical-align: middle;\n",
       "    }\n",
       "\n",
       "    .dataframe tbody tr th {\n",
       "        vertical-align: top;\n",
       "    }\n",
       "\n",
       "    .dataframe thead th {\n",
       "        text-align: right;\n",
       "    }\n",
       "</style>\n",
       "<table border=\"1\" class=\"dataframe\">\n",
       "  <thead>\n",
       "    <tr style=\"text-align: right;\">\n",
       "      <th></th>\n",
       "      <th>LinearRegression</th>\n",
       "      <th>DecisionTree</th>\n",
       "      <th>KNN</th>\n",
       "      <th>Lasso</th>\n",
       "      <th>Ridge</th>\n",
       "      <th>ElasticNet</th>\n",
       "      <th>SVR</th>\n",
       "      <th>SVR_hypertuned</th>\n",
       "      <th>GBR</th>\n",
       "      <th>RFR</th>\n",
       "      <th>ADR</th>\n",
       "      <th>BR</th>\n",
       "      <th>ETR</th>\n",
       "    </tr>\n",
       "  </thead>\n",
       "  <tbody>\n",
       "    <tr>\n",
       "      <th>R2</th>\n",
       "      <td>0.124191</td>\n",
       "      <td>-0.302596</td>\n",
       "      <td>0.121203</td>\n",
       "      <td>-0.002731</td>\n",
       "      <td>0.124182</td>\n",
       "      <td>-0.002731</td>\n",
       "      <td>0.196843</td>\n",
       "      <td>0.194064</td>\n",
       "      <td>0.224587</td>\n",
       "      <td>0.071191</td>\n",
       "      <td>0.134967</td>\n",
       "      <td>0.024896</td>\n",
       "      <td>-0.158475</td>\n",
       "    </tr>\n",
       "    <tr>\n",
       "      <th>cross_val_r2Score</th>\n",
       "      <td>0.095032</td>\n",
       "      <td>-0.256627</td>\n",
       "      <td>0.057983</td>\n",
       "      <td>-0.001054</td>\n",
       "      <td>0.095033</td>\n",
       "      <td>-0.001054</td>\n",
       "      <td>0.125062</td>\n",
       "      <td>0.131029</td>\n",
       "      <td>0.195072</td>\n",
       "      <td>-0.003659</td>\n",
       "      <td>0.082435</td>\n",
       "      <td>-0.039161</td>\n",
       "      <td>-0.129436</td>\n",
       "    </tr>\n",
       "    <tr>\n",
       "      <th>MSE</th>\n",
       "      <td>0.440145</td>\n",
       "      <td>0.601765</td>\n",
       "      <td>0.432106</td>\n",
       "      <td>0.463235</td>\n",
       "      <td>0.440149</td>\n",
       "      <td>0.463235</td>\n",
       "      <td>0.400323</td>\n",
       "      <td>0.401708</td>\n",
       "      <td>0.381272</td>\n",
       "      <td>0.419901</td>\n",
       "      <td>0.434729</td>\n",
       "      <td>0.440830</td>\n",
       "      <td>0.535185</td>\n",
       "    </tr>\n",
       "    <tr>\n",
       "      <th>RMSE</th>\n",
       "      <td>0.663434</td>\n",
       "      <td>0.775735</td>\n",
       "      <td>0.657348</td>\n",
       "      <td>0.680614</td>\n",
       "      <td>0.663437</td>\n",
       "      <td>0.680614</td>\n",
       "      <td>0.632711</td>\n",
       "      <td>0.633804</td>\n",
       "      <td>0.617473</td>\n",
       "      <td>0.647998</td>\n",
       "      <td>0.659340</td>\n",
       "      <td>0.663951</td>\n",
       "      <td>0.731563</td>\n",
       "    </tr>\n",
       "    <tr>\n",
       "      <th>MAE</th>\n",
       "      <td>0.548301</td>\n",
       "      <td>0.582946</td>\n",
       "      <td>0.520695</td>\n",
       "      <td>0.579955</td>\n",
       "      <td>0.548306</td>\n",
       "      <td>0.579955</td>\n",
       "      <td>0.508094</td>\n",
       "      <td>0.515491</td>\n",
       "      <td>0.500854</td>\n",
       "      <td>0.505229</td>\n",
       "      <td>0.549332</td>\n",
       "      <td>0.515041</td>\n",
       "      <td>0.562697</td>\n",
       "    </tr>\n",
       "    <tr>\n",
       "      <th>MS_log_error</th>\n",
       "      <td>0.011438</td>\n",
       "      <td>0.014917</td>\n",
       "      <td>0.010804</td>\n",
       "      <td>0.011582</td>\n",
       "      <td>0.011438</td>\n",
       "      <td>0.011582</td>\n",
       "      <td>0.010028</td>\n",
       "      <td>0.010084</td>\n",
       "      <td>0.009631</td>\n",
       "      <td>0.010312</td>\n",
       "      <td>0.011183</td>\n",
       "      <td>0.010811</td>\n",
       "      <td>0.013252</td>\n",
       "    </tr>\n",
       "  </tbody>\n",
       "</table>\n",
       "</div>"
      ],
      "text/plain": [
       "                   LinearRegression  DecisionTree       KNN     Lasso  \\\n",
       "R2                         0.124191     -0.302596  0.121203 -0.002731   \n",
       "cross_val_r2Score          0.095032     -0.256627  0.057983 -0.001054   \n",
       "MSE                        0.440145      0.601765  0.432106  0.463235   \n",
       "RMSE                       0.663434      0.775735  0.657348  0.680614   \n",
       "MAE                        0.548301      0.582946  0.520695  0.579955   \n",
       "MS_log_error               0.011438      0.014917  0.010804  0.011582   \n",
       "\n",
       "                      Ridge  ElasticNet       SVR  SVR_hypertuned       GBR  \\\n",
       "R2                 0.124182   -0.002731  0.196843        0.194064  0.224587   \n",
       "cross_val_r2Score  0.095033   -0.001054  0.125062        0.131029  0.195072   \n",
       "MSE                0.440149    0.463235  0.400323        0.401708  0.381272   \n",
       "RMSE               0.663437    0.680614  0.632711        0.633804  0.617473   \n",
       "MAE                0.548306    0.579955  0.508094        0.515491  0.500854   \n",
       "MS_log_error       0.011438    0.011582  0.010028        0.010084  0.009631   \n",
       "\n",
       "                        RFR       ADR        BR       ETR  \n",
       "R2                 0.071191  0.134967  0.024896 -0.158475  \n",
       "cross_val_r2Score -0.003659  0.082435 -0.039161 -0.129436  \n",
       "MSE                0.419901  0.434729  0.440830  0.535185  \n",
       "RMSE               0.647998  0.659340  0.663951  0.731563  \n",
       "MAE                0.505229  0.549332  0.515041  0.562697  \n",
       "MS_log_error       0.010312  0.011183  0.010811  0.013252  "
      ]
     },
     "execution_count": 74,
     "metadata": {},
     "output_type": "execute_result"
    }
   ],
   "source": [
    "performance_df=pd.DataFrame([list_r2score,cross_val_r2Score,list_MSE,list_RMSE,list_MAE,list_MSLE],index=['R2','cross_val_r2Score','MSE','RMSE','MAE','MS_log_error'],columns=col)\n",
    "performance_df"
   ]
  },
  {
   "cell_type": "markdown",
   "metadata": {},
   "source": [
    "### Hence we can conclude that GradientBoosting is working best with all metrices except r2 score since all errors are least in GradientBoosting Algorithm"
   ]
  },
  {
   "cell_type": "markdown",
   "metadata": {},
   "source": [
    "#### Now trying hyperparameter tuning for Gradient Boosting:"
   ]
  },
  {
   "cell_type": "code",
   "execution_count": 75,
   "metadata": {},
   "outputs": [
    {
     "name": "stdout",
     "output_type": "stream",
     "text": [
      "\n",
      "\n",
      "best mean score(MSE) : 0.3739320440876411\n",
      "best Parameter : {'n_estimators': 100}\n"
     ]
    }
   ],
   "source": [
    "gridsearch(x_mm,y,GradientBoostingRegressor(),{'n_estimators':[10,50,100,150]})"
   ]
  },
  {
   "cell_type": "markdown",
   "metadata": {},
   "source": [
    "Obs: Best Parameter is using n_estimators=150"
   ]
  },
  {
   "cell_type": "markdown",
   "metadata": {},
   "source": [
    "Now checking model performance at best parameters:"
   ]
  },
  {
   "cell_type": "code",
   "execution_count": 76,
   "metadata": {},
   "outputs": [
    {
     "name": "stdout",
     "output_type": "stream",
     "text": [
      "MSE : 0.34660387552848004\n",
      "RMSE : 0.5887307326176204\n",
      "MAE : 0.4742491393659878\n",
      "MSLE : 0.008551133891193474\n"
     ]
    }
   ],
   "source": [
    "max=100\n",
    "ind=0\n",
    "model=GradientBoostingRegressor(n_estimators=150)\n",
    "for i in range(42,100):\n",
    "    train_x,test_x,train_y,test_y=train_test_split(x_mm,y,test_size=0.25,random_state=i)\n",
    "    model.fit(train_x,train_y)\n",
    "    pred=model.predict(test_x)\n",
    "    ms=mean_squared_error(test_y,pred)\n",
    "    if(max > ms):\n",
    "           max=ms\n",
    "           ind=i\n",
    "train_x,test_x,train_y,test_y=train_test_split(x,y,test_size=0.25,random_state=ind)\n",
    "model.fit(train_x,train_y)\n",
    "pred=model.predict(test_x)\n",
    "print(\"MSE :\",mean_squared_error(test_y,pred))\n",
    "print(\"RMSE :\",np.sqrt(mean_squared_error(test_y,pred)))\n",
    "print(\"MAE :\",mean_absolute_error(test_y,pred))\n",
    "print(\"MSLE :\",mean_squared_log_error(test_y,pred))"
   ]
  },
  {
   "cell_type": "markdown",
   "metadata": {},
   "source": [
    "### Hence we can see that all metrices score has been improved.Hence finalizing the model"
   ]
  },
  {
   "cell_type": "code",
   "execution_count": 77,
   "metadata": {},
   "outputs": [
    {
     "data": {
      "text/plain": [
       "['doctor_fees_predictor_model.obj']"
      ]
     },
     "execution_count": 77,
     "metadata": {},
     "output_type": "execute_result"
    }
   ],
   "source": [
    "from sklearn.externals import joblib\n",
    "joblib.dump(model,'doctor_fees_predictor_model.obj')"
   ]
  },
  {
   "cell_type": "markdown",
   "metadata": {},
   "source": [
    "### Importing Test data file:"
   ]
  },
  {
   "cell_type": "code",
   "execution_count": 143,
   "metadata": {},
   "outputs": [],
   "source": [
    "Doctor_data_test=pd.read_excel('Final_test.xlsx')"
   ]
  },
  {
   "cell_type": "code",
   "execution_count": 144,
   "metadata": {},
   "outputs": [
    {
     "data": {
      "text/html": [
       "<div>\n",
       "<style scoped>\n",
       "    .dataframe tbody tr th:only-of-type {\n",
       "        vertical-align: middle;\n",
       "    }\n",
       "\n",
       "    .dataframe tbody tr th {\n",
       "        vertical-align: top;\n",
       "    }\n",
       "\n",
       "    .dataframe thead th {\n",
       "        text-align: right;\n",
       "    }\n",
       "</style>\n",
       "<table border=\"1\" class=\"dataframe\">\n",
       "  <thead>\n",
       "    <tr style=\"text-align: right;\">\n",
       "      <th></th>\n",
       "      <th>Qualification</th>\n",
       "      <th>Experience</th>\n",
       "      <th>Rating</th>\n",
       "      <th>Place</th>\n",
       "      <th>Profile</th>\n",
       "      <th>Miscellaneous_Info</th>\n",
       "    </tr>\n",
       "  </thead>\n",
       "  <tbody>\n",
       "    <tr>\n",
       "      <th>0</th>\n",
       "      <td>MBBS</td>\n",
       "      <td>35 years experience</td>\n",
       "      <td>NaN</td>\n",
       "      <td>Ghatkopar East, Mumbai</td>\n",
       "      <td>General Medicine</td>\n",
       "      <td>NaN</td>\n",
       "    </tr>\n",
       "    <tr>\n",
       "      <th>1</th>\n",
       "      <td>MBBS, Diploma in Otorhinolaryngology (DLO)</td>\n",
       "      <td>31 years experience</td>\n",
       "      <td>NaN</td>\n",
       "      <td>West Marredpally, Hyderabad</td>\n",
       "      <td>ENT Specialist</td>\n",
       "      <td>NaN</td>\n",
       "    </tr>\n",
       "    <tr>\n",
       "      <th>2</th>\n",
       "      <td>MBBS, DDVL</td>\n",
       "      <td>40 years experience</td>\n",
       "      <td>70%</td>\n",
       "      <td>KK Nagar, Chennai</td>\n",
       "      <td>Dermatologists</td>\n",
       "      <td>70% 4 Feedback KK Nagar, Chennai</td>\n",
       "    </tr>\n",
       "    <tr>\n",
       "      <th>3</th>\n",
       "      <td>BAMS</td>\n",
       "      <td>0 years experience</td>\n",
       "      <td>NaN</td>\n",
       "      <td>New Ashok Nagar, Delhi</td>\n",
       "      <td>Ayurveda</td>\n",
       "      <td>NaN</td>\n",
       "    </tr>\n",
       "    <tr>\n",
       "      <th>4</th>\n",
       "      <td>BDS, MDS - Conservative Dentistry &amp; Endodontics</td>\n",
       "      <td>16 years experience</td>\n",
       "      <td>100%</td>\n",
       "      <td>Kanakpura Road, Bangalore</td>\n",
       "      <td>Dentist</td>\n",
       "      <td>General Dentistry Conservative Dentistry Cosme...</td>\n",
       "    </tr>\n",
       "  </tbody>\n",
       "</table>\n",
       "</div>"
      ],
      "text/plain": [
       "                                     Qualification           Experience  \\\n",
       "0                                             MBBS  35 years experience   \n",
       "1       MBBS, Diploma in Otorhinolaryngology (DLO)  31 years experience   \n",
       "2                                       MBBS, DDVL  40 years experience   \n",
       "3                                             BAMS   0 years experience   \n",
       "4  BDS, MDS - Conservative Dentistry & Endodontics  16 years experience   \n",
       "\n",
       "  Rating                        Place           Profile  \\\n",
       "0    NaN       Ghatkopar East, Mumbai  General Medicine   \n",
       "1    NaN  West Marredpally, Hyderabad    ENT Specialist   \n",
       "2    70%            KK Nagar, Chennai    Dermatologists   \n",
       "3    NaN       New Ashok Nagar, Delhi          Ayurveda   \n",
       "4   100%    Kanakpura Road, Bangalore           Dentist   \n",
       "\n",
       "                                  Miscellaneous_Info  \n",
       "0                                                NaN  \n",
       "1                                                NaN  \n",
       "2                   70% 4 Feedback KK Nagar, Chennai  \n",
       "3                                                NaN  \n",
       "4  General Dentistry Conservative Dentistry Cosme...  "
      ]
     },
     "execution_count": 144,
     "metadata": {},
     "output_type": "execute_result"
    }
   ],
   "source": [
    "Doctor_data_test.head()"
   ]
  },
  {
   "cell_type": "code",
   "execution_count": 145,
   "metadata": {},
   "outputs": [
    {
     "data": {
      "text/plain": [
       "Qualification            0\n",
       "Experience               0\n",
       "Rating                1090\n",
       "Place                    6\n",
       "Profile                  0\n",
       "Miscellaneous_Info     834\n",
       "dtype: int64"
      ]
     },
     "execution_count": 145,
     "metadata": {},
     "output_type": "execute_result"
    }
   ],
   "source": [
    "Doctor_data_test.isnull().sum()"
   ]
  },
  {
   "cell_type": "markdown",
   "metadata": {},
   "source": [
    "Obs: rating has null values"
   ]
  },
  {
   "cell_type": "code",
   "execution_count": 146,
   "metadata": {},
   "outputs": [
    {
     "data": {
      "text/plain": [
       "0    Andheri West, Mumbai\n",
       "1     Mulund West, Mumbai\n",
       "dtype: object"
      ]
     },
     "execution_count": 146,
     "metadata": {},
     "output_type": "execute_result"
    }
   ],
   "source": [
    "Doctor_data_test['Place'].mode()"
   ]
  },
  {
   "cell_type": "markdown",
   "metadata": {},
   "source": [
    "### Doing all preprocessing for test data file same as the train data"
   ]
  },
  {
   "cell_type": "code",
   "execution_count": 147,
   "metadata": {},
   "outputs": [],
   "source": [
    "import re\n",
    "Doctor_data_test.drop(['Miscellaneous_Info'],axis=1,inplace=True)\n",
    "Doctor_data_test['Experience'].replace(regex=['years experience'],value=\"\",inplace=True)\n",
    "Doctor_data_test['Experience']=Doctor_data_test['Experience'].astype('str').astype('int')\n",
    "Doctor_data_test['Rating'].replace(regex=['%'],value=\"\",inplace=True)\n",
    "Doctor_data_test['Rating']=Doctor_data_test['Rating'].fillna('0')\n",
    "Doctor_data_test['Rating']=Doctor_data_test['Rating'].astype('int')\n",
    "for i in range(1987):\n",
    "    if(Doctor_data_test.iloc[i,2]==0):\n",
    "        if(Doctor_data_test.iloc[i,4]=='Ayurveda'):\n",
    "                Doctor_data_test.iloc[i,2]=23\n",
    "        if(Doctor_data_test.iloc[i,4]=='Dentist'):\n",
    "                Doctor_data_test.iloc[i,2]=61\n",
    "        if(Doctor_data_test.iloc[i,4]=='Dermatologists'):\n",
    "                Doctor_data_test.iloc[i,2]=58\n",
    "        if(Doctor_data_test.iloc[i,4]=='ENT Specialist'):\n",
    "                Doctor_data_test.iloc[i,2]=37\n",
    "        if(Doctor_data_test.iloc[i,4]=='General Medicine'):\n",
    "                Doctor_data_test.iloc[i,2]=30\n",
    "        if(Doctor_data_test.iloc[i,4]=='Homeopath'):\n",
    "                Doctor_data_test.iloc[i,2]=30\n",
    "Doctor_data_test['Rating']=Doctor_data_test['Rating']/10\n",
    "Doctor_data_test['Rating']=Doctor_data_test['Rating'].round()\n",
    "Doctor_data_test['Rating']=Doctor_data_test['Rating'].astype('int')\n",
    "Doctor_data_test['Place']=Doctor_data_test['Place'].str.split(',')\n",
    "Doctor_data_test['city']=Doctor_data_test['Place'].str[1]\n",
    "Doctor_data_test['Place']=Doctor_data_test['Place'].str[0]\n",
    "Doctor_data_test['Place'].fillna('Mumbai',inplace=True)\n",
    "Doctor_data_test['qualification-']=''\n",
    "col=['MBBS','BAMS','BHMS','DHMS','BDS','BEMS','MDS','DAM','FWFO','FICD','BSc','DLO','DNB','MD - Dermatology','MD - Physician',\n",
    "     'MD - Medicine','MD - Homeopathy','MD - Ayurveda Medicine','MS - Ayurveda','MS - Otorhinolaryngology']\n",
    "for i in range(1987):\n",
    "    k=Doctor_data_test.iloc[i,0]\n",
    "    for j in col:\n",
    "        if(re.search(j,k)):\n",
    "            Doctor_data_test.iloc[i,-1]=j\n",
    "            break\n",
    "    if(Doctor_data_test.iloc[i,-1]==''):\n",
    "        Doctor_data_test.iloc[i,-1]=k\n",
    "        \n",
    "Doctor_data_test['qualification-']=Doctor_data_test['qualification-'].str.strip()"
   ]
  },
  {
   "cell_type": "code",
   "execution_count": 148,
   "metadata": {},
   "outputs": [
    {
     "data": {
      "text/plain": [
       "Qualification     0\n",
       "Experience        0\n",
       "Rating            0\n",
       "Place             0\n",
       "Profile           0\n",
       "city              6\n",
       "qualification-    0\n",
       "dtype: int64"
      ]
     },
     "execution_count": 148,
     "metadata": {},
     "output_type": "execute_result"
    }
   ],
   "source": [
    "Doctor_data_test.isnull().sum()"
   ]
  },
  {
   "cell_type": "code",
   "execution_count": 149,
   "metadata": {},
   "outputs": [
    {
     "data": {
      "text/plain": [
       "0     Bangalore\n",
       "dtype: object"
      ]
     },
     "execution_count": 149,
     "metadata": {},
     "output_type": "execute_result"
    }
   ],
   "source": [
    "Doctor_data_test['city'].mode()"
   ]
  },
  {
   "cell_type": "code",
   "execution_count": 150,
   "metadata": {},
   "outputs": [],
   "source": [
    "Doctor_data_test['city'].fillna('Bangalore',inplace=True)"
   ]
  },
  {
   "cell_type": "code",
   "execution_count": 151,
   "metadata": {},
   "outputs": [],
   "source": [
    "Doctor_data_test=Doctor_data_test[['Qualification','qualification-','Experience','Rating','Place','city','Profile']]"
   ]
  },
  {
   "cell_type": "code",
   "execution_count": 152,
   "metadata": {},
   "outputs": [],
   "source": [
    "for i in ['qualification-','Place','city','Profile']:\n",
    "    Doctor_data_test[i]=Doctor_data_test[i].str.strip()"
   ]
  },
  {
   "cell_type": "code",
   "execution_count": 153,
   "metadata": {},
   "outputs": [
    {
     "data": {
      "text/html": [
       "<div>\n",
       "<style scoped>\n",
       "    .dataframe tbody tr th:only-of-type {\n",
       "        vertical-align: middle;\n",
       "    }\n",
       "\n",
       "    .dataframe tbody tr th {\n",
       "        vertical-align: top;\n",
       "    }\n",
       "\n",
       "    .dataframe thead th {\n",
       "        text-align: right;\n",
       "    }\n",
       "</style>\n",
       "<table border=\"1\" class=\"dataframe\">\n",
       "  <thead>\n",
       "    <tr style=\"text-align: right;\">\n",
       "      <th></th>\n",
       "      <th>Qualification</th>\n",
       "      <th>qualification-</th>\n",
       "      <th>Experience</th>\n",
       "      <th>Rating</th>\n",
       "      <th>Place</th>\n",
       "      <th>city</th>\n",
       "      <th>Profile</th>\n",
       "    </tr>\n",
       "  </thead>\n",
       "  <tbody>\n",
       "    <tr>\n",
       "      <th>0</th>\n",
       "      <td>MBBS</td>\n",
       "      <td>MBBS</td>\n",
       "      <td>35</td>\n",
       "      <td>3</td>\n",
       "      <td>Ghatkopar East</td>\n",
       "      <td>Mumbai</td>\n",
       "      <td>General Medicine</td>\n",
       "    </tr>\n",
       "    <tr>\n",
       "      <th>1</th>\n",
       "      <td>MBBS, Diploma in Otorhinolaryngology (DLO)</td>\n",
       "      <td>MBBS</td>\n",
       "      <td>31</td>\n",
       "      <td>4</td>\n",
       "      <td>West Marredpally</td>\n",
       "      <td>Hyderabad</td>\n",
       "      <td>ENT Specialist</td>\n",
       "    </tr>\n",
       "    <tr>\n",
       "      <th>2</th>\n",
       "      <td>MBBS, DDVL</td>\n",
       "      <td>MBBS</td>\n",
       "      <td>40</td>\n",
       "      <td>7</td>\n",
       "      <td>KK Nagar</td>\n",
       "      <td>Chennai</td>\n",
       "      <td>Dermatologists</td>\n",
       "    </tr>\n",
       "    <tr>\n",
       "      <th>3</th>\n",
       "      <td>BAMS</td>\n",
       "      <td>BAMS</td>\n",
       "      <td>0</td>\n",
       "      <td>2</td>\n",
       "      <td>New Ashok Nagar</td>\n",
       "      <td>Delhi</td>\n",
       "      <td>Ayurveda</td>\n",
       "    </tr>\n",
       "    <tr>\n",
       "      <th>4</th>\n",
       "      <td>BDS, MDS - Conservative Dentistry &amp; Endodontics</td>\n",
       "      <td>BDS</td>\n",
       "      <td>16</td>\n",
       "      <td>10</td>\n",
       "      <td>Kanakpura Road</td>\n",
       "      <td>Bangalore</td>\n",
       "      <td>Dentist</td>\n",
       "    </tr>\n",
       "  </tbody>\n",
       "</table>\n",
       "</div>"
      ],
      "text/plain": [
       "                                     Qualification qualification-  Experience  \\\n",
       "0                                             MBBS           MBBS          35   \n",
       "1       MBBS, Diploma in Otorhinolaryngology (DLO)           MBBS          31   \n",
       "2                                       MBBS, DDVL           MBBS          40   \n",
       "3                                             BAMS           BAMS           0   \n",
       "4  BDS, MDS - Conservative Dentistry & Endodontics            BDS          16   \n",
       "\n",
       "   Rating             Place       city           Profile  \n",
       "0       3    Ghatkopar East     Mumbai  General Medicine  \n",
       "1       4  West Marredpally  Hyderabad    ENT Specialist  \n",
       "2       7          KK Nagar    Chennai    Dermatologists  \n",
       "3       2   New Ashok Nagar      Delhi          Ayurveda  \n",
       "4      10    Kanakpura Road  Bangalore           Dentist  "
      ]
     },
     "execution_count": 153,
     "metadata": {},
     "output_type": "execute_result"
    }
   ],
   "source": [
    "Doctor_data_test.head()"
   ]
  },
  {
   "cell_type": "markdown",
   "metadata": {},
   "source": [
    "Label encoding the String values which will be used in model:"
   ]
  },
  {
   "cell_type": "code",
   "execution_count": 155,
   "metadata": {},
   "outputs": [],
   "source": [
    "#del_lab=[37,443,471,791,1159,1573]\n",
    "#Doctor_data_test.drop(del_lab,axis=0,inplace=True)\n",
    "Doctor_data_test['qualification-']=le[0].transform(Doctor_data_test['qualification-'])\n",
    "Doctor_data_test['city']=le[1].transform(Doctor_data_test['city'])\n",
    "Doctor_data_test['Profile']=le[2].transform(Doctor_data_test['Profile'])"
   ]
  },
  {
   "cell_type": "code",
   "execution_count": 156,
   "metadata": {},
   "outputs": [],
   "source": [
    "Doctor_data_test['Experience']=np.sqrt(Doctor_data_test['Experience'])"
   ]
  },
  {
   "cell_type": "code",
   "execution_count": 157,
   "metadata": {},
   "outputs": [
    {
     "data": {
      "text/html": [
       "<div>\n",
       "<style scoped>\n",
       "    .dataframe tbody tr th:only-of-type {\n",
       "        vertical-align: middle;\n",
       "    }\n",
       "\n",
       "    .dataframe tbody tr th {\n",
       "        vertical-align: top;\n",
       "    }\n",
       "\n",
       "    .dataframe thead th {\n",
       "        text-align: right;\n",
       "    }\n",
       "</style>\n",
       "<table border=\"1\" class=\"dataframe\">\n",
       "  <thead>\n",
       "    <tr style=\"text-align: right;\">\n",
       "      <th></th>\n",
       "      <th>Qualification</th>\n",
       "      <th>qualification-</th>\n",
       "      <th>Experience</th>\n",
       "      <th>Rating</th>\n",
       "      <th>Place</th>\n",
       "      <th>city</th>\n",
       "      <th>Profile</th>\n",
       "    </tr>\n",
       "  </thead>\n",
       "  <tbody>\n",
       "    <tr>\n",
       "      <th>0</th>\n",
       "      <td>MBBS</td>\n",
       "      <td>24</td>\n",
       "      <td>5.916080</td>\n",
       "      <td>3</td>\n",
       "      <td>Ghatkopar East</td>\n",
       "      <td>6</td>\n",
       "      <td>4</td>\n",
       "    </tr>\n",
       "    <tr>\n",
       "      <th>1</th>\n",
       "      <td>MBBS, Diploma in Otorhinolaryngology (DLO)</td>\n",
       "      <td>24</td>\n",
       "      <td>5.567764</td>\n",
       "      <td>4</td>\n",
       "      <td>West Marredpally</td>\n",
       "      <td>5</td>\n",
       "      <td>3</td>\n",
       "    </tr>\n",
       "    <tr>\n",
       "      <th>2</th>\n",
       "      <td>MBBS, DDVL</td>\n",
       "      <td>24</td>\n",
       "      <td>6.324555</td>\n",
       "      <td>7</td>\n",
       "      <td>KK Nagar</td>\n",
       "      <td>1</td>\n",
       "      <td>2</td>\n",
       "    </tr>\n",
       "    <tr>\n",
       "      <th>3</th>\n",
       "      <td>BAMS</td>\n",
       "      <td>1</td>\n",
       "      <td>0.000000</td>\n",
       "      <td>2</td>\n",
       "      <td>New Ashok Nagar</td>\n",
       "      <td>3</td>\n",
       "      <td>0</td>\n",
       "    </tr>\n",
       "    <tr>\n",
       "      <th>4</th>\n",
       "      <td>BDS, MDS - Conservative Dentistry &amp; Endodontics</td>\n",
       "      <td>2</td>\n",
       "      <td>4.000000</td>\n",
       "      <td>10</td>\n",
       "      <td>Kanakpura Road</td>\n",
       "      <td>0</td>\n",
       "      <td>1</td>\n",
       "    </tr>\n",
       "  </tbody>\n",
       "</table>\n",
       "</div>"
      ],
      "text/plain": [
       "                                     Qualification  qualification-  \\\n",
       "0                                             MBBS              24   \n",
       "1       MBBS, Diploma in Otorhinolaryngology (DLO)              24   \n",
       "2                                       MBBS, DDVL              24   \n",
       "3                                             BAMS               1   \n",
       "4  BDS, MDS - Conservative Dentistry & Endodontics               2   \n",
       "\n",
       "   Experience  Rating             Place  city  Profile  \n",
       "0    5.916080       3    Ghatkopar East     6        4  \n",
       "1    5.567764       4  West Marredpally     5        3  \n",
       "2    6.324555       7          KK Nagar     1        2  \n",
       "3    0.000000       2   New Ashok Nagar     3        0  \n",
       "4    4.000000      10    Kanakpura Road     0        1  "
      ]
     },
     "execution_count": 157,
     "metadata": {},
     "output_type": "execute_result"
    }
   ],
   "source": [
    "Doctor_data_test.head()"
   ]
  },
  {
   "cell_type": "code",
   "execution_count": 158,
   "metadata": {},
   "outputs": [],
   "source": [
    "x_test=Doctor_data_test.iloc[:,[1,2,3,5,6]]\n",
    "test_predict=joblib.load('doctor_fees_predictor_model.obj').predict(x_test)"
   ]
  },
  {
   "cell_type": "markdown",
   "metadata": {},
   "source": [
    "Taking anti log to get actual values since our model was trained on log values of target values"
   ]
  },
  {
   "cell_type": "code",
   "execution_count": 159,
   "metadata": {},
   "outputs": [],
   "source": [
    "pd.DataFrame(np.e**test_predict).to_csv('doctor_fees_prediction_test_result.csv')"
   ]
  },
  {
   "cell_type": "code",
   "execution_count": null,
   "metadata": {},
   "outputs": [],
   "source": []
  }
 ],
 "metadata": {
  "kernelspec": {
   "display_name": "Python 3",
   "language": "python",
   "name": "python3"
  },
  "language_info": {
   "codemirror_mode": {
    "name": "ipython",
    "version": 3
   },
   "file_extension": ".py",
   "mimetype": "text/x-python",
   "name": "python",
   "nbconvert_exporter": "python",
   "pygments_lexer": "ipython3",
   "version": "3.7.6"
  }
 },
 "nbformat": 4,
 "nbformat_minor": 4
}
